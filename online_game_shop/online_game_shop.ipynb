{
 "cells": [
  {
   "cell_type": "markdown",
   "metadata": {},
   "source": [
    "# Описание проекта\n",
    "\n",
    "Проект реализован для интернет-магазина «Игрок», который продаёт по всему миру компьютерные игры. Из открытых источников доступны исторические данные о продажах игр, оценки пользователей и экспертов, жанры и платформы. Необходимо выявить определяющие успешность игры закономерности. Это позволит сделать ставку на потенциально популярный продукт и спланировать рекламные кампании.\n",
    "Данные предоставлены до 2016 года. Уловно, сейчас декабрь 2016 г., нужно спланировать кампанию на 2017-й.\n",
    "\n",
    "*В наборе данных попадается аббревиатура ESRB (Entertainment Software Rating Board) — это ассоциация, определяющая возрастной рейтинг компьютерных игр. ESRB оценивает игровой контент и присваивает ему подходящую возрастную категорию, например, «Для взрослых», «Для детей младшего возраста» или «Для подростков».*"
   ]
  },
  {
   "cell_type": "markdown",
   "metadata": {},
   "source": [
    "## Подготовка данных"
   ]
  },
  {
   "cell_type": "code",
   "execution_count": 5,
   "metadata": {},
   "outputs": [],
   "source": [
    "import pandas as pd\n",
    "import numpy as np\n",
    "\n",
    "import matplotlib.pyplot as plt\n",
    "\n",
    "from scipy import stats as st\n",
    "\n",
    "import warnings\n",
    "\n",
    "warnings.filterwarnings('ignore')"
   ]
  },
  {
   "cell_type": "code",
   "execution_count": 6,
   "metadata": {},
   "outputs": [],
   "source": [
    "try:\n",
    "    games = pd.read_csv('games.csv')\n",
    "except:\n",
    "    games = pd.read_csv('/datasets/games.csv')"
   ]
  },
  {
   "cell_type": "code",
   "execution_count": 7,
   "metadata": {},
   "outputs": [
    {
     "data": {
      "text/plain": "                       Name Platform  Year_of_Release         Genre  NA_sales   \n0                Wii Sports      Wii           2006.0        Sports     41.36  \\\n1         Super Mario Bros.      NES           1985.0      Platform     29.08   \n2            Mario Kart Wii      Wii           2008.0        Racing     15.68   \n3         Wii Sports Resort      Wii           2009.0        Sports     15.61   \n4  Pokemon Red/Pokemon Blue       GB           1996.0  Role-Playing     11.27   \n\n   EU_sales  JP_sales  Other_sales  Critic_Score User_Score Rating  \n0     28.96      3.77         8.45          76.0          8      E  \n1      3.58      6.81         0.77           NaN        NaN    NaN  \n2     12.76      3.79         3.29          82.0        8.3      E  \n3     10.93      3.28         2.95          80.0          8      E  \n4      8.89     10.22         1.00           NaN        NaN    NaN  ",
      "text/html": "<div>\n<style scoped>\n    .dataframe tbody tr th:only-of-type {\n        vertical-align: middle;\n    }\n\n    .dataframe tbody tr th {\n        vertical-align: top;\n    }\n\n    .dataframe thead th {\n        text-align: right;\n    }\n</style>\n<table border=\"1\" class=\"dataframe\">\n  <thead>\n    <tr style=\"text-align: right;\">\n      <th></th>\n      <th>Name</th>\n      <th>Platform</th>\n      <th>Year_of_Release</th>\n      <th>Genre</th>\n      <th>NA_sales</th>\n      <th>EU_sales</th>\n      <th>JP_sales</th>\n      <th>Other_sales</th>\n      <th>Critic_Score</th>\n      <th>User_Score</th>\n      <th>Rating</th>\n    </tr>\n  </thead>\n  <tbody>\n    <tr>\n      <th>0</th>\n      <td>Wii Sports</td>\n      <td>Wii</td>\n      <td>2006.0</td>\n      <td>Sports</td>\n      <td>41.36</td>\n      <td>28.96</td>\n      <td>3.77</td>\n      <td>8.45</td>\n      <td>76.0</td>\n      <td>8</td>\n      <td>E</td>\n    </tr>\n    <tr>\n      <th>1</th>\n      <td>Super Mario Bros.</td>\n      <td>NES</td>\n      <td>1985.0</td>\n      <td>Platform</td>\n      <td>29.08</td>\n      <td>3.58</td>\n      <td>6.81</td>\n      <td>0.77</td>\n      <td>NaN</td>\n      <td>NaN</td>\n      <td>NaN</td>\n    </tr>\n    <tr>\n      <th>2</th>\n      <td>Mario Kart Wii</td>\n      <td>Wii</td>\n      <td>2008.0</td>\n      <td>Racing</td>\n      <td>15.68</td>\n      <td>12.76</td>\n      <td>3.79</td>\n      <td>3.29</td>\n      <td>82.0</td>\n      <td>8.3</td>\n      <td>E</td>\n    </tr>\n    <tr>\n      <th>3</th>\n      <td>Wii Sports Resort</td>\n      <td>Wii</td>\n      <td>2009.0</td>\n      <td>Sports</td>\n      <td>15.61</td>\n      <td>10.93</td>\n      <td>3.28</td>\n      <td>2.95</td>\n      <td>80.0</td>\n      <td>8</td>\n      <td>E</td>\n    </tr>\n    <tr>\n      <th>4</th>\n      <td>Pokemon Red/Pokemon Blue</td>\n      <td>GB</td>\n      <td>1996.0</td>\n      <td>Role-Playing</td>\n      <td>11.27</td>\n      <td>8.89</td>\n      <td>10.22</td>\n      <td>1.00</td>\n      <td>NaN</td>\n      <td>NaN</td>\n      <td>NaN</td>\n    </tr>\n  </tbody>\n</table>\n</div>"
     },
     "execution_count": 7,
     "metadata": {},
     "output_type": "execute_result"
    }
   ],
   "source": [
    "games.head(5)"
   ]
  },
  {
   "cell_type": "code",
   "execution_count": 8,
   "metadata": {},
   "outputs": [
    {
     "data": {
      "text/plain": "['name',\n 'platform',\n 'year_of_release',\n 'genre',\n 'na_sales',\n 'eu_sales',\n 'jp_sales',\n 'other_sales',\n 'critic_score',\n 'user_score',\n 'rating']"
     },
     "execution_count": 8,
     "metadata": {},
     "output_type": "execute_result"
    }
   ],
   "source": [
    "games.columns = games.columns.str.lower()\n",
    "list(games.columns)"
   ]
  },
  {
   "cell_type": "markdown",
   "metadata": {},
   "source": [
    "Приводим название колонок к удобному формату(нижний регистор)"
   ]
  },
  {
   "cell_type": "code",
   "execution_count": 9,
   "metadata": {},
   "outputs": [
    {
     "name": "stdout",
     "output_type": "stream",
     "text": [
      "<class 'pandas.core.frame.DataFrame'>\n",
      "RangeIndex: 16715 entries, 0 to 16714\n",
      "Data columns (total 11 columns):\n",
      " #   Column           Non-Null Count  Dtype  \n",
      "---  ------           --------------  -----  \n",
      " 0   name             16713 non-null  object \n",
      " 1   platform         16715 non-null  object \n",
      " 2   year_of_release  16446 non-null  float64\n",
      " 3   genre            16713 non-null  object \n",
      " 4   na_sales         16715 non-null  float64\n",
      " 5   eu_sales         16715 non-null  float64\n",
      " 6   jp_sales         16715 non-null  float64\n",
      " 7   other_sales      16715 non-null  float64\n",
      " 8   critic_score     8137 non-null   float64\n",
      " 9   user_score       10014 non-null  object \n",
      " 10  rating           9949 non-null   object \n",
      "dtypes: float64(6), object(5)\n",
      "memory usage: 1.4+ MB\n"
     ]
    }
   ],
   "source": [
    "games.info()  # show info about all DF"
   ]
  },
  {
   "cell_type": "markdown",
   "metadata": {},
   "source": [
    "Мы можем наблюдать, что в колонках 0, 2, 3, 8, 9 есть пропуски. Нужно с ними разобраться."
   ]
  },
  {
   "cell_type": "markdown",
   "metadata": {},
   "source": [
    "### Заполнение пропусков"
   ]
  },
  {
   "cell_type": "markdown",
   "metadata": {},
   "source": [
    "Заполнение пропусков начнем со столбцов `name` и `year_release`"
   ]
  },
  {
   "cell_type": "code",
   "execution_count": 10,
   "metadata": {},
   "outputs": [],
   "source": [
    "games = games[games['name'].notna()]"
   ]
  },
  {
   "cell_type": "markdown",
   "metadata": {},
   "source": [
    "Убираем из датафрейма две строки. В этих строках нет жанра и платформы. Такие данные, очень сложно восстановить и всего две строчки не повлияют на результат."
   ]
  },
  {
   "cell_type": "code",
   "execution_count": 11,
   "metadata": {},
   "outputs": [],
   "source": [
    "games = games[~games['year_of_release'].isna()]"
   ]
  },
  {
   "cell_type": "markdown",
   "metadata": {},
   "source": [
    "Так как, пропусков в колонке year_of_release меньше 2%, можно удалить строки с пропусками и это не сильно повлияет на качество конечного результата."
   ]
  },
  {
   "cell_type": "markdown",
   "metadata": {},
   "source": [
    "Пропуски в колонке `year_release` могли появиться из-за того, что в базу данных сайта не занесен год для конкретной игры и платформы. В основном игры на старые консоли и им могли не уделить должного внимания."
   ]
  },
  {
   "cell_type": "code",
   "execution_count": 12,
   "metadata": {},
   "outputs": [
    {
     "data": {
      "text/plain": "<Figure size 1500x500 with 1 Axes>",
      "image/png": "[encoded data removed]"
     },
     "metadata": {},
     "output_type": "display_data"
    }
   ],
   "source": [
    "# show hist for column year_of_release\n",
    "games[games['critic_score'].isna()]['year_of_release'].hist(bins=35, figsize=(15, 5));"
   ]
  },
  {
   "cell_type": "markdown",
   "metadata": {},
   "source": [
    "Изучая пропуски в колонке `critic_score` по годам, можно наблюдать резкий выброс отсутствия оценок в 2008-2011 годах. Есть у меня предположение, что это связанно с ростом кол-ва выпускаемых игр в эти года. Либо, это как-то связанно с внутренними особенностями работы сайты в этот период времени."
   ]
  },
  {
   "cell_type": "code",
   "execution_count": 13,
   "metadata": {},
   "outputs": [
    {
     "data": {
      "text/plain": "<Figure size 1500x500 with 1 Axes>",
      "image/png": "[encoded data removed]"
     },
     "metadata": {},
     "output_type": "display_data"
    }
   ],
   "source": [
    "games[games['user_score'].isna()]['year_of_release'].hist(bins=35, figsize=(15, 5));\n",
    "# show hist for column year_of_release"
   ]
  },
  {
   "cell_type": "markdown",
   "metadata": {},
   "source": [
    "На гистограмме для оценки пользователей мы наблюдаем такую же картину. В этом есть закономерность и причина пропусков, должны быть одинаковы в обоих случаях"
   ]
  },
  {
   "cell_type": "code",
   "execution_count": 14,
   "metadata": {},
   "outputs": [],
   "source": [
    "games['critic_score'] = games['critic_score'].fillna(\n",
    "    games.groupby(['name', 'platform'])['critic_score']\n",
    "    .transform('median')\n",
    ")  # fill NaN with median\n",
    "\n",
    "games['critic_score'] = games['critic_score'] / 10\n",
    "# change range for column critic_score"
   ]
  },
  {
   "cell_type": "markdown",
   "metadata": {},
   "source": [
    "Пропуски, которые мы можем заполнить в колонке `critic_score`, заполняем мединой оценкой по названию игры и типу платформы. Также, делим оценки критиков на 10, чтобы получить единую цену деления для системы оценивания, с колонкой user_score."
   ]
  },
  {
   "cell_type": "code",
   "execution_count": 15,
   "metadata": {},
   "outputs": [],
   "source": [
    "games['user_score'] = (\n",
    "    games['user_score']\n",
    "    .replace('tbd', np.nan)\n",
    "    .astype(float)\n",
    ")\n",
    "\n",
    "# fill column user_score with median\n",
    "games['user_score'] = games['user_score'].fillna(\n",
    "    games.groupby(['name', 'platform'])['user_score']\n",
    "    .transform('median')\n",
    ")"
   ]
  },
  {
   "cell_type": "markdown",
   "metadata": {},
   "source": [
    "В колонке `user_score` пропуски, которые мы можем заполнить, так же, заполняем мединой оценкой по названию игры и типу платформы. И еще `tbd` (без оценки), заполняем значениями `NaN`.\n"
   ]
  },
  {
   "cell_type": "code",
   "execution_count": 16,
   "metadata": {},
   "outputs": [],
   "source": [
    "games['year_of_release'] = games['year_of_release'].fillna(0).astype(int)\n",
    "games['critic_score'] = games['critic_score'].fillna(0).astype(int)"
   ]
  },
  {
   "cell_type": "markdown",
   "metadata": {},
   "source": [
    "Заполняем пропуски нулем и меняем тип данных на целочисленные в столбцах `year_of_release` и `critic_score`. Так как, в данных столбцах не встречается значений со знаком после запятой."
   ]
  },
  {
   "cell_type": "code",
   "execution_count": 17,
   "metadata": {},
   "outputs": [],
   "source": [
    "# create new column - total_sales\n",
    "games['total_sales'] = games[['na_sales', 'eu_sales', 'jp_sales', 'other_sales']].sum(axis=1)"
   ]
  },
  {
   "cell_type": "markdown",
   "metadata": {},
   "source": [
    "Добавляем новую колонку `total_sales`. Она будет в себе содержать сумму проданных копий со всех рынков (na, eu, jp, other)."
   ]
  },
  {
   "cell_type": "markdown",
   "metadata": {},
   "source": [
    "## Исследовательский анализ данных\n",
    "\n",
    "В этом блоке мы изучим закономерности, корреляции в данных и подкрепим все это выводами и гипотезами."
   ]
  },
  {
   "cell_type": "code",
   "execution_count": 18,
   "metadata": {},
   "outputs": [
    {
     "data": {
      "text/plain": "<Axes: >"
     },
     "execution_count": 18,
     "metadata": {},
     "output_type": "execute_result"
    },
    {
     "data": {
      "text/plain": "<Figure size 1500x500 with 1 Axes>",
      "image/png": "[encoded data removed]"
     },
     "metadata": {},
     "output_type": "display_data"
    }
   ],
   "source": [
    "# show hist for year_of_release\n",
    "games['year_of_release'].hist(bins=35, figsize=(15, 5))"
   ]
  },
  {
   "cell_type": "markdown",
   "metadata": {},
   "source": [
    "На гистограмме, мы можем наблюдать, что до 1990 годов выпускалось очень маленькое коло-во игр. Поэтому для нашего исследования эти данные можно отбросить."
   ]
  },
  {
   "cell_type": "code",
   "execution_count": 19,
   "metadata": {},
   "outputs": [],
   "source": [
    "games = games[games['year_of_release'] > 1990]\n",
    "# drop rows with year_of_release older then 1990"
   ]
  },
  {
   "cell_type": "code",
   "execution_count": 20,
   "metadata": {},
   "outputs": [
    {
     "data": {
      "text/plain": "<Figure size 1500x500 with 1 Axes>",
      "image/png": "[encoded data removed]"
     },
     "metadata": {},
     "output_type": "display_data"
    }
   ],
   "source": [
    "games['year_of_release'].hist(bins=50, figsize=(15, 5));\n",
    "# show hist for year_of_release"
   ]
  },
  {
   "cell_type": "markdown",
   "metadata": {},
   "source": [
    "На диаграмме можно наблюдать, что до 2002 года игровой рынок плавно рос, без сильных выбросов. Далее мы видим, что в период с 2002 по 2011 года выпускалось наибольшее кло-во игр за год.  После 2011 года кол-во выпускаемых игр резко сократилось и в последующих годах, показатели были примерно на одном уровне. Есть предположение, что резкий рост был связан с сильными экономическом подъемом, а впоследствии кризисом 2008-ого года, который сыграл свою роль. Финансирование и кол-во выпускаемых игр сильно сократилось. 2010 и 2011 выпускалось еще много игр, потому что они уже были в разработке и деньги на них были. Последующие года стали более бережливые и умеренные к разработке новых продуктов игровой индустрии."
   ]
  },
  {
   "cell_type": "code",
   "execution_count": 22,
   "metadata": {},
   "outputs": [],
   "source": [
    "# crate pivot table by column platform with sum of total_sales\n",
    "platform_pivot = (\n",
    "    games.pivot_table(index='platform',\n",
    "                      values='total_sales',\n",
    "                      aggfunc='sum')\n",
    "    .sort_values(ascending=False, by='total_sales')\n",
    ")"
   ]
  },
  {
   "cell_type": "code",
   "execution_count": 23,
   "metadata": {},
   "outputs": [
    {
     "data": {
      "text/plain": "<Figure size 1500x500 with 1 Axes>",
      "image/png": "[encoded data removed]"
     },
     "metadata": {},
     "output_type": "display_data"
    }
   ],
   "source": [
    "# show bar plot for platform_pivot\n",
    "platform_pivot.plot(\n",
    "    kind='bar', figsize=(15, 5), grid=True, legend=False, title='Popular platform');"
   ]
  },
  {
   "cell_type": "markdown",
   "metadata": {},
   "source": [
    "Составим топ самым популярных платформ по кол-ву проданных игр, для них соответственно. Лидирующие позиции занимают консоли sony, xbox и nintendo."
   ]
  },
  {
   "cell_type": "code",
   "execution_count": 19,
   "metadata": {},
   "outputs": [
    {
     "data": {
      "text/html": [
       "<div>\n",
       "<style scoped>\n",
       "    .dataframe tbody tr th:only-of-type {\n",
       "        vertical-align: middle;\n",
       "    }\n",
       "\n",
       "    .dataframe tbody tr th {\n",
       "        vertical-align: top;\n",
       "    }\n",
       "\n",
       "    .dataframe thead th {\n",
       "        text-align: right;\n",
       "    }\n",
       "</style>\n",
       "<table border=\"1\" class=\"dataframe\">\n",
       "  <thead>\n",
       "    <tr style=\"text-align: right;\">\n",
       "      <th></th>\n",
       "      <th>total_sales</th>\n",
       "    </tr>\n",
       "    <tr>\n",
       "      <th>platform</th>\n",
       "      <th></th>\n",
       "    </tr>\n",
       "  </thead>\n",
       "  <tbody>\n",
       "    <tr>\n",
       "      <th>PS2</th>\n",
       "      <td>1233.56</td>\n",
       "    </tr>\n",
       "    <tr>\n",
       "      <th>X360</th>\n",
       "      <td>961.24</td>\n",
       "    </tr>\n",
       "    <tr>\n",
       "      <th>PS3</th>\n",
       "      <td>931.34</td>\n",
       "    </tr>\n",
       "    <tr>\n",
       "      <th>Wii</th>\n",
       "      <td>891.18</td>\n",
       "    </tr>\n",
       "    <tr>\n",
       "      <th>DS</th>\n",
       "      <td>802.76</td>\n",
       "    </tr>\n",
       "    <tr>\n",
       "      <th>PS</th>\n",
       "      <td>727.58</td>\n",
       "    </tr>\n",
       "    <tr>\n",
       "      <th>PS4</th>\n",
       "      <td>314.14</td>\n",
       "    </tr>\n",
       "    <tr>\n",
       "      <th>GBA</th>\n",
       "      <td>312.88</td>\n",
       "    </tr>\n",
       "  </tbody>\n",
       "</table>\n",
       "</div>"
      ],
      "text/plain": [
       "          total_sales\n",
       "platform             \n",
       "PS2           1233.56\n",
       "X360           961.24\n",
       "PS3            931.34\n",
       "Wii            891.18\n",
       "DS             802.76\n",
       "PS             727.58\n",
       "PS4            314.14\n",
       "GBA            312.88"
      ]
     },
     "execution_count": 19,
     "metadata": {},
     "output_type": "execute_result"
    }
   ],
   "source": [
    "platform_pivot = platform_pivot.query('total_sales > 300')\n",
    "platform_pivot  # show most popular platform ever"
   ]
  },
  {
   "cell_type": "markdown",
   "metadata": {},
   "source": [
    "Чтобы последующие графики и данные были более наглядными, отбросим платформы на которых меньше 300 млн продаж."
   ]
  },
  {
   "cell_type": "code",
   "execution_count": 20,
   "metadata": {},
   "outputs": [
    {
     "data": {
      "image/png": "[encoded data removed]",
      "text/plain": [
       "<Figure size 1800x720 with 1 Axes>"
      ]
     },
     "metadata": {
      "needs_background": "light"
     },
     "output_type": "display_data"
    }
   ],
   "source": [
    "fig = plt.figure()\n",
    "ax = fig.add_subplot(111)\n",
    "\n",
    "for platform in platform_pivot.index:\n",
    "    (\n",
    "        (games[games['platform'] == platform])\n",
    "        .groupby('year_of_release')\n",
    "        ['total_sales'].sum()\n",
    "        .plot(x='year_of_release',\n",
    "              y='total_sales',\n",
    "              figsize=(25, 10),\n",
    "              alpha=0.5,\n",
    "              label=platform,\n",
    "              legend=True,\n",
    "              linewidth=3.5,\n",
    "              grid=True)\n",
    "    )  # create lines (popularity of platform) by years\n",
    "\n",
    "# set your ticks manually\n",
    "ax.xaxis.set_ticks(games['year_of_release'].unique())\n",
    "\n",
    "plt.show()  # show diagram"
   ]
  },
  {
   "cell_type": "markdown",
   "metadata": {},
   "source": [
    "На диаграмме мы можем наблюдать, что средний срок жизни консоли 10 лет. У Xbox и PS(кроме PS1) показатель стабильный и равен 11 годам. И видно, что продажи на этих консолях имеют распределение близкое к нормальному, в отличие от других платформ."
   ]
  },
  {
   "cell_type": "markdown",
   "metadata": {},
   "source": [
    "## Исследование, для составления прогноза на 2017 год"
   ]
  },
  {
   "cell_type": "markdown",
   "metadata": {},
   "source": [
    "Для дальнейших наблюдений, возьмем данный за 2014 год - 2016 год. Это наиболее актуальная и полная выборка. Если взять выборку за 2016 год, то результаты исследования могут исказиться из-за того, что данные 2016 года неполные (год еще не закончился)."
   ]
  },
  {
   "cell_type": "code",
   "execution_count": 21,
   "metadata": {},
   "outputs": [],
   "source": [
    "games_2015 = games.query('year_of_release >= 2014').copy()\n",
    "# create new DF with data for 2015"
   ]
  },
  {
   "cell_type": "code",
   "execution_count": 22,
   "metadata": {},
   "outputs": [
    {
     "data": {
      "text/html": [
       "<div>\n",
       "<style scoped>\n",
       "    .dataframe tbody tr th:only-of-type {\n",
       "        vertical-align: middle;\n",
       "    }\n",
       "\n",
       "    .dataframe tbody tr th {\n",
       "        vertical-align: top;\n",
       "    }\n",
       "\n",
       "    .dataframe thead th {\n",
       "        text-align: right;\n",
       "    }\n",
       "</style>\n",
       "<table border=\"1\" class=\"dataframe\">\n",
       "  <thead>\n",
       "    <tr style=\"text-align: right;\">\n",
       "      <th></th>\n",
       "      <th>name</th>\n",
       "      <th>platform</th>\n",
       "      <th>year_of_release</th>\n",
       "      <th>genre</th>\n",
       "      <th>na_sales</th>\n",
       "      <th>eu_sales</th>\n",
       "      <th>jp_sales</th>\n",
       "      <th>other_sales</th>\n",
       "      <th>critic_score</th>\n",
       "      <th>user_score</th>\n",
       "      <th>rating</th>\n",
       "      <th>total_sales</th>\n",
       "    </tr>\n",
       "  </thead>\n",
       "  <tbody>\n",
       "    <tr>\n",
       "      <th>31</th>\n",
       "      <td>Call of Duty: Black Ops 3</td>\n",
       "      <td>PS4</td>\n",
       "      <td>2015</td>\n",
       "      <td>Shooter</td>\n",
       "      <td>6.03</td>\n",
       "      <td>5.86</td>\n",
       "      <td>0.36</td>\n",
       "      <td>2.38</td>\n",
       "      <td>0</td>\n",
       "      <td>NaN</td>\n",
       "      <td>NaN</td>\n",
       "      <td>14.63</td>\n",
       "    </tr>\n",
       "    <tr>\n",
       "      <th>42</th>\n",
       "      <td>Grand Theft Auto V</td>\n",
       "      <td>PS4</td>\n",
       "      <td>2014</td>\n",
       "      <td>Action</td>\n",
       "      <td>3.96</td>\n",
       "      <td>6.31</td>\n",
       "      <td>0.38</td>\n",
       "      <td>1.97</td>\n",
       "      <td>9</td>\n",
       "      <td>8.3</td>\n",
       "      <td>M</td>\n",
       "      <td>12.62</td>\n",
       "    </tr>\n",
       "    <tr>\n",
       "      <th>47</th>\n",
       "      <td>Pokemon Omega Ruby/Pokemon Alpha Sapphire</td>\n",
       "      <td>3DS</td>\n",
       "      <td>2014</td>\n",
       "      <td>Role-Playing</td>\n",
       "      <td>4.35</td>\n",
       "      <td>3.49</td>\n",
       "      <td>3.10</td>\n",
       "      <td>0.74</td>\n",
       "      <td>0</td>\n",
       "      <td>NaN</td>\n",
       "      <td>NaN</td>\n",
       "      <td>11.68</td>\n",
       "    </tr>\n",
       "    <tr>\n",
       "      <th>77</th>\n",
       "      <td>FIFA 16</td>\n",
       "      <td>PS4</td>\n",
       "      <td>2015</td>\n",
       "      <td>Sports</td>\n",
       "      <td>1.12</td>\n",
       "      <td>6.12</td>\n",
       "      <td>0.06</td>\n",
       "      <td>1.28</td>\n",
       "      <td>8</td>\n",
       "      <td>4.3</td>\n",
       "      <td>E</td>\n",
       "      <td>8.58</td>\n",
       "    </tr>\n",
       "    <tr>\n",
       "      <th>87</th>\n",
       "      <td>Star Wars Battlefront (2015)</td>\n",
       "      <td>PS4</td>\n",
       "      <td>2015</td>\n",
       "      <td>Shooter</td>\n",
       "      <td>2.99</td>\n",
       "      <td>3.49</td>\n",
       "      <td>0.22</td>\n",
       "      <td>1.28</td>\n",
       "      <td>0</td>\n",
       "      <td>NaN</td>\n",
       "      <td>NaN</td>\n",
       "      <td>7.98</td>\n",
       "    </tr>\n",
       "  </tbody>\n",
       "</table>\n",
       "</div>"
      ],
      "text/plain": [
       "                                         name platform  year_of_release  \\\n",
       "31                  Call of Duty: Black Ops 3      PS4             2015   \n",
       "42                         Grand Theft Auto V      PS4             2014   \n",
       "47  Pokemon Omega Ruby/Pokemon Alpha Sapphire      3DS             2014   \n",
       "77                                    FIFA 16      PS4             2015   \n",
       "87               Star Wars Battlefront (2015)      PS4             2015   \n",
       "\n",
       "           genre  na_sales  eu_sales  jp_sales  other_sales  critic_score  \\\n",
       "31       Shooter      6.03      5.86      0.36         2.38             0   \n",
       "42        Action      3.96      6.31      0.38         1.97             9   \n",
       "47  Role-Playing      4.35      3.49      3.10         0.74             0   \n",
       "77        Sports      1.12      6.12      0.06         1.28             8   \n",
       "87       Shooter      2.99      3.49      0.22         1.28             0   \n",
       "\n",
       "    user_score rating  total_sales  \n",
       "31         NaN    NaN        14.63  \n",
       "42         8.3      M        12.62  \n",
       "47         NaN    NaN        11.68  \n",
       "77         4.3      E         8.58  \n",
       "87         NaN    NaN         7.98  "
      ]
     },
     "execution_count": 22,
     "metadata": {},
     "output_type": "execute_result"
    }
   ],
   "source": [
    "games_2015.head()  # show 5 rows"
   ]
  },
  {
   "cell_type": "markdown",
   "metadata": {},
   "source": [
    "### Начнем исследование с изучения показателей продаж относительно платформы"
   ]
  },
  {
   "cell_type": "code",
   "execution_count": 23,
   "metadata": {},
   "outputs": [
    {
     "data": {
      "image/png": "[encoded data removed]",
      "text/plain": [
       "<Figure size 1080x360 with 1 Axes>"
      ]
     },
     "metadata": {
      "needs_background": "light"
     },
     "output_type": "display_data"
    }
   ],
   "source": [
    "(\n",
    "    games_2015.pivot_table(\n",
    "        index='platform',\n",
    "        values='total_sales',\n",
    "        aggfunc='sum'\n",
    "    )\n",
    "    .sort_values(by='total_sales', ascending=False)\n",
    "    .plot(kind='bar', figsize=(15, 5), grid=True)\n",
    ");  # show rating of most popular platforms"
   ]
  },
  {
   "cell_type": "markdown",
   "metadata": {},
   "source": [
    "Самой прибыльной платформной, является ps4. Показатель общих продаж в два раза больше, чем у ближайшего конкурента (XOne). Остальные платформы принесут в разы меньше прибыли, чем PS4 и Xbox One. Поэтому, можно считать, что самые потенциально прибыльные платформы это - `PS4` и `Xbox One`."
   ]
  },
  {
   "cell_type": "code",
   "execution_count": 24,
   "metadata": {},
   "outputs": [
    {
     "data": {
      "image/png": "[encoded data removed]",
      "text/plain": [
       "<Figure size 1440x720 with 1 Axes>"
      ]
     },
     "metadata": {
      "needs_background": "light"
     },
     "output_type": "display_data"
    },
    {
     "data": {
      "image/png": "[encoded data removed]",
      "text/plain": [
       "<Figure size 1440x720 with 1 Axes>"
      ]
     },
     "metadata": {
      "needs_background": "light"
     },
     "output_type": "display_data"
    }
   ],
   "source": [
    "#  show box plot for all platforms\n",
    "\n",
    "data = []\n",
    "for platform in games_2015['platform'].unique():\n",
    "    data.append(\n",
    "        list(games_2015.loc[games_2015['platform'] == platform, 'total_sales'])\n",
    "    )\n",
    "\n",
    "fig = plt.figure(figsize=(20, 10))\n",
    "ax = fig.add_subplot(111)\n",
    "\n",
    "# Creating axes instance\n",
    "bp = ax.boxplot(data, patch_artist=True,\n",
    "                notch='True', vert=0)\n",
    "\n",
    "# x-axis labels\n",
    "ax.set_yticklabels(games_2015['platform'].unique(), fontsize=16)\n",
    "\n",
    "ax.get_xaxis().tick_bottom()\n",
    "ax.get_yaxis().tick_left()\n",
    "\n",
    "plt.show()\n",
    "\n",
    "#  show box plot for all platforms without extra data\n",
    "fig = plt.figure(figsize=(20, 10))\n",
    "ax = fig.add_subplot(111)\n",
    "\n",
    "# Creating axes instance\n",
    "bp = ax.boxplot(data,\n",
    "                patch_artist=True,\n",
    "                notch='True',\n",
    "                vert=0)\n",
    "\n",
    "# x-axis labels\n",
    "ax.set_yticklabels(games_2015['platform'].unique(), fontsize=16)\n",
    "\n",
    "ax.get_xaxis().tick_bottom()\n",
    "ax.get_yaxis().tick_left()\n",
    "\n",
    "ax.axis(xmin=0, xmax=2)\n",
    "plt.show()\n"
   ]
  },
  {
   "cell_type": "markdown",
   "metadata": {},
   "source": [
    "На графике мы видим, что у PS4 очень много больших выбросов. Могу предположить, что эти выбросы связаны с очень популярными эксклюзивами, которые выходят исключительно для консолей sony. Большую часть продаж, приносят как раз вот эти выбросы. Мы можем наблюдать, что медиана у PS4 сильней смешена к нулю, чем у других популярных консолей. Можно выдвинуть предположение, что на PS4 выходит больше игр и соответственно игры с небольшими продажами тянут медиану к нулю. Примерно похожая ситуация и с Xbox One, но медина смещена правей и выбросов меньше. Также, 75 квантиль у Xbox сдвинут правее и хвост длинней. Можно однозначно сказать, что обычных продаж на Xbox One больше, по сравнению с PS4. На первый взгляд, кажется, что Xbox более стабильная(по продажам) консоль, нежели PS4. Получается, если судить по медиане и по \"коробке\", то Xbox One превосходит по продажам PS4."
   ]
  },
  {
   "cell_type": "code",
   "execution_count": 25,
   "metadata": {},
   "outputs": [
    {
     "data": {
      "text/plain": [
       "array(['Call of Duty: Black Ops 3', 'Grand Theft Auto V', 'FIFA 16',\n",
       "       'Star Wars Battlefront (2015)', 'Call of Duty: Advanced Warfare',\n",
       "       'FIFA 17', 'Fallout 4', 'FIFA 15', 'Destiny',\n",
       "       \"Uncharted 4: A Thief's End\", 'The Last of Us',\n",
       "       'Uncharted: The Nathan Drake Collection',\n",
       "       'Call of Duty: Infinite Warfare', 'Minecraft', 'Battlefield 1',\n",
       "       'Watch Dogs', 'Far Cry 4', 'The Witcher 3: Wild Hunt',\n",
       "       \"Assassin's Creed: Unity\", 'Batman: Arkham Knight', 'NBA 2K16',\n",
       "       \"Tom Clancy's The Division\",\n",
       "       'Metal Gear Solid V: The Phantom Pain',\n",
       "       \"Assassin's Creed Syndicate\", 'Madden NFL 16',\n",
       "       'Middle-Earth: Shadow of Mordor', 'inFAMOUS: Second Son',\n",
       "       'Mortal Kombat X', 'Bloodborne', 'NBA 2K15',\n",
       "       'Need for Speed (2015)', 'Far Cry: Primal',\n",
       "       \"Tom Clancy's Rainbow Six: Siege\", 'Madden NFL 15', 'Overwatch',\n",
       "       'Battlefield: Hardline', 'Dying Light', 'DriveClub',\n",
       "       'Dragon Age: Inquisition'], dtype=object)"
      ]
     },
     "execution_count": 25,
     "metadata": {},
     "output_type": "execute_result"
    }
   ],
   "source": [
    "games_2015[(games_2015['total_sales'] > 2) & (games_2015['platform'] == 'PS4')]['name'].unique()"
   ]
  },
  {
   "cell_type": "markdown",
   "metadata": {},
   "source": [
    "Выше приведен список игр, не попавших даже в усы коробки(выбросы)."
   ]
  },
  {
   "cell_type": "markdown",
   "metadata": {},
   "source": [
    "#### Далее изучим, как влияют оценки пользователей и критиков на продажи игр"
   ]
  },
  {
   "cell_type": "code",
   "execution_count": 26,
   "metadata": {},
   "outputs": [
    {
     "data": {
      "image/png": "[encoded data removed]",
      "text/plain": [
       "<Figure size 1080x360 with 1 Axes>"
      ]
     },
     "metadata": {
      "needs_background": "light"
     },
     "output_type": "display_data"
    }
   ],
   "source": [
    "(\n",
    "    games_2015[games_2015['platform'] == 'PS4']\n",
    "    .plot(kind='scatter', x='total_sales', y='user_score', ylim=(2, 10), figsize=(15, 5))\n",
    ");"
   ]
  },
  {
   "cell_type": "markdown",
   "metadata": {},
   "source": [
    "На графике корреляции можно проследить, зависимость кол-ва продаж относительно оценки пользователей. Если не брать выбросы около оценки 4 и 6, можно сказать, чем выше оценка тем больше высоких показателей продаж, но корреляция сложно просматриваться. Могу предположить, что это связанно с недостатком данных."
   ]
  },
  {
   "cell_type": "code",
   "execution_count": 27,
   "metadata": {},
   "outputs": [
    {
     "data": {
      "image/png": "[encoded data removed]",
      "text/plain": [
       "<Figure size 1080x360 with 1 Axes>"
      ]
     },
     "metadata": {
      "needs_background": "light"
     },
     "output_type": "display_data"
    }
   ],
   "source": [
    "(\n",
    "    games_2015[(games_2015['platform'] == 'PS4') & (games_2015['critic_score'] != 0)]\n",
    "    .plot(kind='scatter', x='total_sales', y='critic_score', figsize=(15, 5))\n",
    ");"
   ]
  },
  {
   "cell_type": "markdown",
   "metadata": {},
   "source": [
    "По графику можно сказать, что между оценками критиков и продажами, корреляция более явная, чем с пользователями. Два графика имеют много сходств, но критики оценивают игры выше, с высокими показателями продаж, по сравнению с обычными пользователи."
   ]
  },
  {
   "cell_type": "code",
   "execution_count": 28,
   "metadata": {},
   "outputs": [
    {
     "data": {
      "image/png": "[encoded data removed]",
      "text/plain": [
       "<Figure size 1080x360 with 1 Axes>"
      ]
     },
     "metadata": {
      "needs_background": "light"
     },
     "output_type": "display_data"
    }
   ],
   "source": [
    "(\n",
    "    games_2015[games_2015['platform'] != 'PS4']\n",
    "    .plot(kind='scatter', x='total_sales', y='user_score', ylim=(2, 10), figsize=(15, 5))\n",
    ");"
   ]
  },
  {
   "cell_type": "markdown",
   "metadata": {},
   "source": [
    "Соотношение продаж и оценки пользователе более хаотичное на других платформах, корреляция менее явная, по сравнению с PS4. Основной диапазон оценки от 5 до 9. Можно предположить, что люди при оценивании не сильно задумываются и если игра нравится, ставят больше 5(хаотично)."
   ]
  },
  {
   "cell_type": "code",
   "execution_count": 29,
   "metadata": {},
   "outputs": [
    {
     "data": {
      "image/png": "[encoded data removed]",
      "text/plain": [
       "<Figure size 1080x360 with 1 Axes>"
      ]
     },
     "metadata": {
      "needs_background": "light"
     },
     "output_type": "display_data"
    }
   ],
   "source": [
    "(\n",
    "    games_2015[(games_2015['platform'] != 'PS4') & (games_2015['critic_score'] != 0)]\n",
    "    .plot(kind='scatter', x='total_sales', y='critic_score', figsize=(15, 5))\n",
    ");"
   ]
  },
  {
   "cell_type": "markdown",
   "metadata": {},
   "source": [
    "Картина с критиками похожа на PS4. Чем выше оценка критика, тем больше продаж у игры. Интересный факт, что у кассовых игр более частая оценка равна 8(как и на PS4)."
   ]
  },
  {
   "cell_type": "markdown",
   "metadata": {},
   "source": [
    "#### Теперь, рассмотрим как распределены показатели продаж по жанрам."
   ]
  },
  {
   "cell_type": "code",
   "execution_count": 30,
   "metadata": {},
   "outputs": [
    {
     "data": {
      "image/png": "[encoded data removed]",
      "text/plain": [
       "<Figure size 1080x360 with 1 Axes>"
      ]
     },
     "metadata": {
      "needs_background": "light"
     },
     "output_type": "display_data"
    }
   ],
   "source": [
    "(\n",
    "    games_2015.pivot_table(\n",
    "        index='genre',\n",
    "        values='total_sales',\n",
    "        aggfunc='median'\n",
    "    )\n",
    "    .sort_values(by='total_sales', ascending=False)\n",
    "    .plot(kind='bar', figsize=(15, 5), grid=True, legend=False, title='Total sales median')\n",
    ")\n",
    "plt.xticks(rotation=45, fontsize=12)\n",
    "plt.show()"
   ]
  },
  {
   "cell_type": "markdown",
   "metadata": {},
   "source": [
    "На графике, отчетливо видно, что самые успешные игры в жанре Shooter. И между первым и вторым местом очень существенный разрыв(чуть меньше 0.8 млн). Разница между 2-ой и 12-ой позицией спаска ~1.5 млн. Не большое отличие, по сравнению с первым и вторым местом. Можно еще выделить 2 и 3 место, Simulation и Misc соответственно. У этих жанров хорошие показатели, если не учитывать первое место."
   ]
  },
  {
   "cell_type": "markdown",
   "metadata": {},
   "source": [
    "## Портрет пользователя\n",
    "\n",
    "Рассмотрим закономерности и интересные особенности трех разных рынков (Америка, Европа, Япония)."
   ]
  },
  {
   "cell_type": "markdown",
   "metadata": {},
   "source": [
    "### Сравним продажи по платформам"
   ]
  },
  {
   "cell_type": "code",
   "execution_count": 31,
   "metadata": {},
   "outputs": [
    {
     "data": {
      "image/png": "[encoded data removed]",
      "text/plain": [
       "<Figure size 864x360 with 1 Axes>"
      ]
     },
     "metadata": {
      "needs_background": "light"
     },
     "output_type": "display_data"
    },
    {
     "data": {
      "image/png": "[encoded data removed]",
      "text/plain": [
       "<Figure size 864x360 with 1 Axes>"
      ]
     },
     "metadata": {
      "needs_background": "light"
     },
     "output_type": "display_data"
    },
    {
     "data": {
      "image/png": "[encoded data removed]",
      "text/plain": [
       "<Figure size 864x360 with 1 Axes>"
      ]
     },
     "metadata": {
      "needs_background": "light"
     },
     "output_type": "display_data"
    }
   ],
   "source": [
    "for i, region in enumerate(['na_sales', 'eu_sales', 'jp_sales']):\n",
    "    (\n",
    "        games_2015.pivot_table(\n",
    "            index='platform',\n",
    "            values=region,\n",
    "            aggfunc='sum'\n",
    "        )\n",
    "        .sort_values(by=region, ascending=False)\n",
    "        .plot(kind='bar', figsize=(12, 5), grid=True, legend=False)\n",
    "    )\n",
    "    plt.title(region)\n",
    "    plt.show()"
   ]
  },
  {
   "cell_type": "markdown",
   "metadata": {},
   "source": [
    "На графиках мы можем наблюдать, что самые популярные платформы PS4 и Xbox One, но только не для Японского рынка. В Японии самая популярная консоль - 3DS, на втором месте PS4, а Xbox даже в топ-5 не попал. Но самих продажи в японии мало по сравнению с Европой и Америкой. Также, мы видим, что в Америке доля продаж для PS4 и Xbox One практически одинаковая, а в Европе PS4 сильно выигрывает по кол-во продаж."
   ]
  },
  {
   "cell_type": "markdown",
   "metadata": {},
   "source": [
    "### Сравним продажи по жанрам"
   ]
  },
  {
   "cell_type": "code",
   "execution_count": 32,
   "metadata": {},
   "outputs": [
    {
     "data": {
      "image/png": "[encoded data removed]",
      "text/plain": [
       "<Figure size 864x360 with 1 Axes>"
      ]
     },
     "metadata": {
      "needs_background": "light"
     },
     "output_type": "display_data"
    },
    {
     "data": {
      "image/png": "[encoded data removed]",
      "text/plain": [
       "<Figure size 864x360 with 1 Axes>"
      ]
     },
     "metadata": {
      "needs_background": "light"
     },
     "output_type": "display_data"
    },
    {
     "data": {
      "image/png": "[encoded data removed]",
      "text/plain": [
       "<Figure size 864x360 with 1 Axes>"
      ]
     },
     "metadata": {
      "needs_background": "light"
     },
     "output_type": "display_data"
    }
   ],
   "source": [
    "for i, region in enumerate(['na_sales', 'eu_sales', 'jp_sales']):\n",
    "    (\n",
    "        games_2015.pivot_table(\n",
    "            index='genre',\n",
    "            values=region,\n",
    "            aggfunc='median'\n",
    "        )\n",
    "        .sort_values(by=region, ascending=False)\n",
    "        .plot(kind='bar', figsize=(12, 5), grid=True, legend=False)\n",
    "    )\n",
    "    plt.xticks(rotation=45, fontsize=12)\n",
    "    plt.title(region)\n",
    "    plt.show()"
   ]
  },
  {
   "cell_type": "markdown",
   "metadata": {},
   "source": [
    "Также, как и с платформами, ситуация на рыках Европы и Америки схожи. Но несколько факторов можно отметить:\n",
    "- В Европе одинаково популярны жанры Shooter и Action. На Американском рынке выигрывает Shooter(разница около 7 млн с вторым местом).\n",
    "- Европейские геймеры больше предпочитают гонки, а Америке в топ-5 входит жанр Fighting.\n",
    "\n",
    "На Японском рынке сильно преобладать жанр Action. Разница со втором место больше половины. И еще одна особенность: жанр Simulation входит в топ-5.\n",
    "Все остальные жанры и места примерно схожи на всех рынках."
   ]
  },
  {
   "cell_type": "markdown",
   "metadata": {},
   "source": [
    "### Сравним, как влияет возрастной рейтинг на продажи"
   ]
  },
  {
   "cell_type": "code",
   "execution_count": 33,
   "metadata": {},
   "outputs": [],
   "source": [
    "games_2015['rating'] = games_2015['rating'].fillna('unknown')"
   ]
  },
  {
   "cell_type": "code",
   "execution_count": 34,
   "metadata": {},
   "outputs": [
    {
     "data": {
      "image/png": "[encoded data removed]",
      "text/plain": [
       "<Figure size 864x360 with 1 Axes>"
      ]
     },
     "metadata": {
      "needs_background": "light"
     },
     "output_type": "display_data"
    },
    {
     "data": {
      "image/png": "[encoded data removed]",
      "text/plain": [
       "<Figure size 864x360 with 1 Axes>"
      ]
     },
     "metadata": {
      "needs_background": "light"
     },
     "output_type": "display_data"
    },
    {
     "data": {
      "image/png": "[encoded data removed]",
      "text/plain": [
       "<Figure size 864x360 with 1 Axes>"
      ]
     },
     "metadata": {
      "needs_background": "light"
     },
     "output_type": "display_data"
    }
   ],
   "source": [
    "for i, region in enumerate(['na_sales', 'eu_sales', 'jp_sales']):\n",
    "    (\n",
    "        games_2015.pivot_table(\n",
    "            index='rating',\n",
    "            values=region,\n",
    "            aggfunc='sum'\n",
    "        )\n",
    "        .sort_values(by=region, ascending=False)\n",
    "        .plot(kind='bar', figsize=(12, 5), grid=True, legend=False)\n",
    "    )\n",
    "    plt.xticks(rotation=45, fontsize=12)\n",
    "    plt.title(region)\n",
    "    plt.show()"
   ]
  },
  {
   "cell_type": "markdown",
   "metadata": {},
   "source": [
    "Как и в прошлых наблюдениях, рынки Америки и Европы схожи. Есть только не большое различие между продажами игр для детей и подростков, но они не значительные. Процентно доли тоже совпадают.\n",
    "На Японском рынке картина другая. Преобладающая часть игр без рейтинга. Есть предположения, что это связанно с кол-вом игр, выпускаемых без международного возрастного рейтинга. Это могут быть игры только для Японского рынка. Либо на каких-то консолях этого рейтинга нет. В любом случае этот факт нужно учитывать при запуске рекламной компании."
   ]
  },
  {
   "cell_type": "markdown",
   "metadata": {},
   "source": [
    "## Проверка гипотез"
   ]
  },
  {
   "cell_type": "markdown",
   "metadata": {},
   "source": [
    "### Первая гипотеза.\n",
    "\n",
    "alpha возьмем стандартное - 5%. Выборки не большие, поэтому будет ошибкой брать alpha = 1%. p-значение может сильно исказится из-за недостатка значений в выборке.\n",
    "Нулевая гипотеза будет формироваться исходя из равенства двух выборок, а альтернативная из неравенства.\n",
    "Критерий оценки: Если уровень p-уровень значимости меньшее альфа, то отвергаем нулевую гипотезу. Если же альфа больше, то принимаем нулевую гипотезу.\n",
    "\n",
    "- Нулевая гипотеза: средние пользовательские рейтинги платформ Xbox One и PC одинаковые.\n",
    "- Альтернативная гипотеза: средние пользовательские рейтинги платформ Xbox One и PC отличаются."
   ]
  },
  {
   "cell_type": "code",
   "execution_count": 35,
   "metadata": {},
   "outputs": [
    {
     "name": "stdout",
     "output_type": "stream",
     "text": [
      "p-значение:  0.10450507919348415\n",
      "Не получилось отвергнуть нулевую гипотезу\n"
     ]
    }
   ],
   "source": [
    "results = st.ttest_ind(\n",
    "    games_2015[games_2015['platform'] == 'XOne']['user_score'].dropna().astype(float),\n",
    "    games_2015[games_2015['platform'] == 'PC']['user_score'].dropna().astype(float)\n",
    ")\n",
    "\n",
    "print('p-значение: ', results.pvalue)\n",
    "\n",
    "if results.pvalue < 0.05:\n",
    "    print('Отвергаем нулевую гипотезу')\n",
    "\n",
    "else:\n",
    "    print('Не получилось отвергнуть нулевую гипотезу')"
   ]
  },
  {
   "cell_type": "markdown",
   "metadata": {},
   "source": [
    "Полученный вывод говорит о том, что пользовательские оценки не сильно отличаются, в зависимости от платформы. Пользователь оценивают игру, а не платформу."
   ]
  },
  {
   "cell_type": "markdown",
   "metadata": {},
   "source": [
    "### Вторая гипотеза.\n",
    "\n",
    "alpha возьмем стандартное - 5%. Выборки не большие, поэтому будет ошибкой брать alpha = 1%. p-значение может сильно исказится из-за недостатка значений в выборке.\n",
    "Нулевая гипотеза будет формироваться исходя из равенста двух выборок, а альтернативная из неравенства.\n",
    "Критерий оценки: Если уровень p-уровень значимости меньше альфа, то отвергаем нулевую гипотезу. Если же альфа больше, то принимаем нулевую гипотезу.\n",
    "\n",
    "- Нулевая гипотеза: cредние пользовательские рейтинги жанров Action и Sports одиноковые.\n",
    "- Альтернативная гипотеза: cредние пользовательские рейтинги жанров Action и Sports различны."
   ]
  },
  {
   "cell_type": "code",
   "execution_count": 36,
   "metadata": {},
   "outputs": [
    {
     "name": "stdout",
     "output_type": "stream",
     "text": [
      "p-значение:  2.8711147985105864e-19\n",
      "Отвергаем нулевую гипотезу\n"
     ]
    }
   ],
   "source": [
    "results = st.ttest_ind(\n",
    "    games_2015[games_2015['genre'] == 'Action']['user_score'].dropna().astype(float),\n",
    "    games_2015[games_2015['genre'] == 'Sports']['user_score'].dropna().astype(float)\n",
    ")\n",
    "\n",
    "print('p-значение: ', results.pvalue)\n",
    "\n",
    "if results.pvalue < 0.05:\n",
    "    print('Отвергаем нулевую гипотезу')\n",
    "\n",
    "else:\n",
    "    print('Не получилось отвергнуть нулевую гипотезу')\n"
   ]
  },
  {
   "cell_type": "markdown",
   "metadata": {},
   "source": [
    "На основе полученных данные, мы можем сделать вывод, что оценки пользователей жанров Action и Sports действительно разные. И мы отвергаем нулевую гипотезу."
   ]
  },
  {
   "cell_type": "markdown",
   "metadata": {},
   "source": [
    "# Вывод"
   ]
  },
  {
   "cell_type": "markdown",
   "metadata": {},
   "source": [
    "*Данные взята за 2014 - 2016 года.*\n",
    "\n",
    "В ходе проведения исследования, были было обнаружено несколько факторов, которые могут повлиять на рекламную компанию:\n",
    "1. **Глобальные показатели:**\n",
    "    1. Самая популярная платформы по кол-ву продаж - **PS4** (**280 млн продаж** за 3 неполных года). Для сравнения, **Xbox One** (второе место по продажам) имеет этот показатель на уровне **140 млн**. На третьем месте -  **Nintendo 3DS** (**90 млн продаж**).\n",
    "    2. Средний диапазон продаж игр у PS4, не сильно больше Xbox One. Но на конечную цифру (**280 млн**), сильно **влияют эксклюзивы** (игры, которые выходят только для PS4). Это основное отличие двух платформ PS4 и Xbox One. \n",
    "    3. На продажи оценки пользователей влияют не сильно, что не скажешь про оценки критиков. Корреляция между высокой оценкой критика и кол-вом продаж более существенная. Для достижения **высоких показателей продаж**, игре желательно получать **хорошие отзывы от критиков**.\n",
    "    4. **Shooter** - самые продаваемые жанр. **Среднее** число продаж для игр в этом жанре - **0.5 млн**. На **втором месте** жанр **Sports** - **0.18 млн продаж**. Остальные жанры не сильно отличаются друг от друга кол-вом продаж. \n",
    "    5. Тип платформы не влияет на пользовательские оценки игры.\n",
    "\n",
    "2. **Для рынка Америки и Европы:**\n",
    "    1. **Популярность PS4** в Америке и Европе практически **одинаковая**. В **Европе - 126 млн**. В **Америке - 100 млн**.  В процентном соотношение разница не большая. **Кол-во продаж на PS4** в **Европе** **больше**, числа продаж в Америке **на 26%**.  \n",
    "    2. **Кол-во продаж** на **Xbox One** в **Америке** на **172% больше**, по сравнению с Европой. **82 млн продаж в Амрике**,  против **46 млн в Европе**.\n",
    "    3. **Популярность жанров** и процентном соотношение, **схожи с глобальными** показателями. Первое место (**Shooter**) - **0.23 млн**. **Второе место** - **0.07 млн**. \n",
    "    4. **Самые продаваем** игры имеют возрастной рейтинг M (**от 17 лет**). Это коррелируется с самым продаваемым жанром - Shooter. Так же, эксклюзивы Sony часто имеют такой рейтинг. На втором месте игры без рейтинга ESRB. \n",
    "    \n",
    "3. Для Японского рынка(третий по кол-ву продаж):\n",
    "    1. **Японский рынок самобытный** и сильно отличатся от глобального.\n",
    "    2. Самая популярная платформа - **Nintendo 3DS** (**47 млн продаж**). **Второе место** разделили две консоли Sony (**PS4, PSV**). Японцам больше предпочитают **портативные платформы**. Есть предположение, что это связанно с их образом жизни. Играют пока, добираются с работы до дома и обратно. Но PS4 для прохождения новинок Sony все же имеют, хоть это не основная их консоль. \n",
    "    3. Самые популярный жанр - **Role-playing** (**0.05 млн** продаж). На втором месте, Fighting и Puzzle. \n",
    "    4. Самые популярный жанр - Shooter, в Японии практически не имеет популярности. Можно предположить, что это связанно с их менталитетом и негативным отношением к оружию. \n",
    "    5. Самые популярные игры не имеют возрастного рейтинга ESRB. На втором месте игры с рейтингом T (от 13 лет).\n"
   ]
  }
 ],
 "metadata": {
  "ExecuteTimeLog": [
   {
    "duration": 1317,
    "start_time": "2023-01-08T09:06:58.678Z"
   },
   {
    "duration": 162,
    "start_time": "2023-01-08T09:06:59.999Z"
   },
   {
    "duration": 16,
    "start_time": "2023-01-08T09:07:00.163Z"
   },
   {
    "duration": 12,
    "start_time": "2023-01-08T09:07:00.181Z"
   },
   {
    "duration": 29,
    "start_time": "2023-01-08T09:07:00.195Z"
   },
   {
    "duration": 11,
    "start_time": "2023-01-08T09:07:00.226Z"
   },
   {
    "duration": 30,
    "start_time": "2023-01-08T09:07:00.238Z"
   },
   {
    "duration": 8,
    "start_time": "2023-01-08T09:07:00.270Z"
   },
   {
    "duration": 234,
    "start_time": "2023-01-08T09:07:00.280Z"
   },
   {
    "duration": 173,
    "start_time": "2023-01-08T09:07:00.515Z"
   },
   {
    "duration": 34,
    "start_time": "2023-01-08T09:07:00.689Z"
   },
   {
    "duration": 119,
    "start_time": "2023-01-08T09:07:00.725Z"
   },
   {
    "duration": 0,
    "start_time": "2023-01-08T09:07:00.846Z"
   },
   {
    "duration": 0,
    "start_time": "2023-01-08T09:07:00.847Z"
   },
   {
    "duration": 0,
    "start_time": "2023-01-08T09:07:00.848Z"
   },
   {
    "duration": 0,
    "start_time": "2023-01-08T09:07:00.849Z"
   },
   {
    "duration": 0,
    "start_time": "2023-01-08T09:07:00.850Z"
   },
   {
    "duration": 0,
    "start_time": "2023-01-08T09:07:00.851Z"
   },
   {
    "duration": 0,
    "start_time": "2023-01-08T09:07:00.851Z"
   },
   {
    "duration": 0,
    "start_time": "2023-01-08T09:07:00.852Z"
   },
   {
    "duration": 0,
    "start_time": "2023-01-08T09:07:00.853Z"
   },
   {
    "duration": 0,
    "start_time": "2023-01-08T09:07:00.854Z"
   },
   {
    "duration": 0,
    "start_time": "2023-01-08T09:07:00.855Z"
   },
   {
    "duration": 0,
    "start_time": "2023-01-08T09:07:00.856Z"
   },
   {
    "duration": 0,
    "start_time": "2023-01-08T09:07:00.856Z"
   },
   {
    "duration": 0,
    "start_time": "2023-01-08T09:07:00.857Z"
   },
   {
    "duration": 0,
    "start_time": "2023-01-08T09:07:00.858Z"
   },
   {
    "duration": 0,
    "start_time": "2023-01-08T09:07:00.859Z"
   },
   {
    "duration": 0,
    "start_time": "2023-01-08T09:07:00.860Z"
   },
   {
    "duration": 0,
    "start_time": "2023-01-08T09:07:00.860Z"
   },
   {
    "duration": 0,
    "start_time": "2023-01-08T09:07:00.861Z"
   },
   {
    "duration": 0,
    "start_time": "2023-01-08T09:07:00.862Z"
   },
   {
    "duration": 0,
    "start_time": "2023-01-08T09:07:00.863Z"
   },
   {
    "duration": 0,
    "start_time": "2023-01-08T09:07:00.864Z"
   },
   {
    "duration": 0,
    "start_time": "2023-01-08T09:07:00.865Z"
   },
   {
    "duration": 70,
    "start_time": "2023-01-08T09:07:13.215Z"
   },
   {
    "duration": 12,
    "start_time": "2023-01-08T09:07:14.055Z"
   },
   {
    "duration": 17,
    "start_time": "2023-01-08T09:08:54.758Z"
   },
   {
    "duration": 803,
    "start_time": "2023-01-08T09:15:09.441Z"
   },
   {
    "duration": 1140,
    "start_time": "2023-01-08T09:15:17.385Z"
   },
   {
    "duration": 80,
    "start_time": "2023-01-08T09:15:18.527Z"
   },
   {
    "duration": 17,
    "start_time": "2023-01-08T09:15:18.611Z"
   },
   {
    "duration": 7,
    "start_time": "2023-01-08T09:15:18.629Z"
   },
   {
    "duration": 18,
    "start_time": "2023-01-08T09:15:18.638Z"
   },
   {
    "duration": 5,
    "start_time": "2023-01-08T09:15:18.657Z"
   },
   {
    "duration": 19,
    "start_time": "2023-01-08T09:15:18.664Z"
   },
   {
    "duration": 17,
    "start_time": "2023-01-08T09:15:18.698Z"
   },
   {
    "duration": 224,
    "start_time": "2023-01-08T09:15:18.716Z"
   },
   {
    "duration": 210,
    "start_time": "2023-01-08T09:15:18.942Z"
   },
   {
    "duration": 17,
    "start_time": "2023-01-08T09:15:19.154Z"
   },
   {
    "duration": 113,
    "start_time": "2023-01-08T09:15:19.173Z"
   },
   {
    "duration": 0,
    "start_time": "2023-01-08T09:15:19.289Z"
   },
   {
    "duration": 0,
    "start_time": "2023-01-08T09:15:19.290Z"
   },
   {
    "duration": 0,
    "start_time": "2023-01-08T09:15:19.299Z"
   },
   {
    "duration": 0,
    "start_time": "2023-01-08T09:15:19.299Z"
   },
   {
    "duration": 0,
    "start_time": "2023-01-08T09:15:19.300Z"
   },
   {
    "duration": 0,
    "start_time": "2023-01-08T09:15:19.301Z"
   },
   {
    "duration": 0,
    "start_time": "2023-01-08T09:15:19.302Z"
   },
   {
    "duration": 0,
    "start_time": "2023-01-08T09:15:19.302Z"
   },
   {
    "duration": 0,
    "start_time": "2023-01-08T09:15:19.303Z"
   },
   {
    "duration": 0,
    "start_time": "2023-01-08T09:15:19.304Z"
   },
   {
    "duration": 0,
    "start_time": "2023-01-08T09:15:19.304Z"
   },
   {
    "duration": 0,
    "start_time": "2023-01-08T09:15:19.307Z"
   },
   {
    "duration": 0,
    "start_time": "2023-01-08T09:15:19.307Z"
   },
   {
    "duration": 0,
    "start_time": "2023-01-08T09:15:19.308Z"
   },
   {
    "duration": 0,
    "start_time": "2023-01-08T09:15:19.311Z"
   },
   {
    "duration": 0,
    "start_time": "2023-01-08T09:15:19.311Z"
   },
   {
    "duration": 0,
    "start_time": "2023-01-08T09:15:19.312Z"
   },
   {
    "duration": 0,
    "start_time": "2023-01-08T09:15:19.317Z"
   },
   {
    "duration": 0,
    "start_time": "2023-01-08T09:15:19.318Z"
   },
   {
    "duration": 0,
    "start_time": "2023-01-08T09:15:19.319Z"
   },
   {
    "duration": 0,
    "start_time": "2023-01-08T09:15:19.320Z"
   },
   {
    "duration": 0,
    "start_time": "2023-01-08T09:15:19.321Z"
   },
   {
    "duration": 0,
    "start_time": "2023-01-08T09:15:19.322Z"
   },
   {
    "duration": 1093,
    "start_time": "2023-01-08T09:16:35.924Z"
   },
   {
    "duration": 72,
    "start_time": "2023-01-08T09:16:37.019Z"
   },
   {
    "duration": 30,
    "start_time": "2023-01-08T09:16:37.093Z"
   },
   {
    "duration": 5,
    "start_time": "2023-01-08T09:16:37.125Z"
   },
   {
    "duration": 17,
    "start_time": "2023-01-08T09:16:37.132Z"
   },
   {
    "duration": 5,
    "start_time": "2023-01-08T09:16:37.151Z"
   },
   {
    "duration": 17,
    "start_time": "2023-01-08T09:16:37.157Z"
   },
   {
    "duration": 28,
    "start_time": "2023-01-08T09:16:37.176Z"
   },
   {
    "duration": 211,
    "start_time": "2023-01-08T09:16:37.208Z"
   },
   {
    "duration": 175,
    "start_time": "2023-01-08T09:16:37.421Z"
   },
   {
    "duration": 20,
    "start_time": "2023-01-08T09:16:37.599Z"
   },
   {
    "duration": 110,
    "start_time": "2023-01-08T09:16:37.621Z"
   },
   {
    "duration": 0,
    "start_time": "2023-01-08T09:16:37.734Z"
   },
   {
    "duration": 0,
    "start_time": "2023-01-08T09:16:37.734Z"
   },
   {
    "duration": 0,
    "start_time": "2023-01-08T09:16:37.735Z"
   },
   {
    "duration": 0,
    "start_time": "2023-01-08T09:16:37.736Z"
   },
   {
    "duration": 0,
    "start_time": "2023-01-08T09:16:37.736Z"
   },
   {
    "duration": 0,
    "start_time": "2023-01-08T09:16:37.738Z"
   },
   {
    "duration": 0,
    "start_time": "2023-01-08T09:16:37.738Z"
   },
   {
    "duration": 0,
    "start_time": "2023-01-08T09:16:37.739Z"
   },
   {
    "duration": 0,
    "start_time": "2023-01-08T09:16:37.740Z"
   },
   {
    "duration": 0,
    "start_time": "2023-01-08T09:16:37.741Z"
   },
   {
    "duration": 0,
    "start_time": "2023-01-08T09:16:37.742Z"
   },
   {
    "duration": 0,
    "start_time": "2023-01-08T09:16:37.743Z"
   },
   {
    "duration": 0,
    "start_time": "2023-01-08T09:16:37.744Z"
   },
   {
    "duration": 0,
    "start_time": "2023-01-08T09:16:37.746Z"
   },
   {
    "duration": 0,
    "start_time": "2023-01-08T09:16:37.747Z"
   },
   {
    "duration": 0,
    "start_time": "2023-01-08T09:16:37.749Z"
   },
   {
    "duration": 0,
    "start_time": "2023-01-08T09:16:37.750Z"
   },
   {
    "duration": 0,
    "start_time": "2023-01-08T09:16:37.751Z"
   },
   {
    "duration": 0,
    "start_time": "2023-01-08T09:16:37.752Z"
   },
   {
    "duration": 0,
    "start_time": "2023-01-08T09:16:37.754Z"
   },
   {
    "duration": 0,
    "start_time": "2023-01-08T09:16:37.755Z"
   },
   {
    "duration": 0,
    "start_time": "2023-01-08T09:16:37.756Z"
   },
   {
    "duration": 0,
    "start_time": "2023-01-08T09:16:37.757Z"
   },
   {
    "duration": 17,
    "start_time": "2023-01-08T09:18:12.746Z"
   },
   {
    "duration": 15,
    "start_time": "2023-01-08T09:18:25.777Z"
   },
   {
    "duration": 774,
    "start_time": "2023-01-08T09:18:43.160Z"
   },
   {
    "duration": 7,
    "start_time": "2023-01-08T09:18:52.455Z"
   },
   {
    "duration": 9,
    "start_time": "2023-01-08T09:19:09.504Z"
   },
   {
    "duration": 19,
    "start_time": "2023-01-08T09:19:35.264Z"
   },
   {
    "duration": 22,
    "start_time": "2023-01-08T09:19:52.497Z"
   },
   {
    "duration": 21,
    "start_time": "2023-01-08T09:20:16.247Z"
   },
   {
    "duration": 18,
    "start_time": "2023-01-08T09:20:25.121Z"
   },
   {
    "duration": 8,
    "start_time": "2023-01-08T09:20:27.402Z"
   },
   {
    "duration": 1120,
    "start_time": "2023-01-08T09:20:32.270Z"
   },
   {
    "duration": 74,
    "start_time": "2023-01-08T09:20:33.392Z"
   },
   {
    "duration": 17,
    "start_time": "2023-01-08T09:20:33.468Z"
   },
   {
    "duration": 4,
    "start_time": "2023-01-08T09:20:33.487Z"
   },
   {
    "duration": 26,
    "start_time": "2023-01-08T09:20:33.492Z"
   },
   {
    "duration": 14,
    "start_time": "2023-01-08T09:20:33.519Z"
   },
   {
    "duration": 19,
    "start_time": "2023-01-08T09:20:33.534Z"
   },
   {
    "duration": 7,
    "start_time": "2023-01-08T09:20:33.555Z"
   },
   {
    "duration": 215,
    "start_time": "2023-01-08T09:20:33.563Z"
   },
   {
    "duration": 192,
    "start_time": "2023-01-08T09:20:33.780Z"
   },
   {
    "duration": 32,
    "start_time": "2023-01-08T09:20:33.974Z"
   },
   {
    "duration": 26,
    "start_time": "2023-01-08T09:20:34.007Z"
   },
   {
    "duration": 17,
    "start_time": "2023-01-08T09:20:34.035Z"
   },
   {
    "duration": 5,
    "start_time": "2023-01-08T09:20:34.055Z"
   },
   {
    "duration": 210,
    "start_time": "2023-01-08T09:20:34.062Z"
   },
   {
    "duration": 5,
    "start_time": "2023-01-08T09:20:34.274Z"
   },
   {
    "duration": 232,
    "start_time": "2023-01-08T09:20:34.280Z"
   },
   {
    "duration": 10,
    "start_time": "2023-01-08T09:20:34.513Z"
   },
   {
    "duration": 328,
    "start_time": "2023-01-08T09:20:34.524Z"
   },
   {
    "duration": 10,
    "start_time": "2023-01-08T09:20:34.854Z"
   },
   {
    "duration": 496,
    "start_time": "2023-01-08T09:20:34.866Z"
   },
   {
    "duration": 7,
    "start_time": "2023-01-08T09:20:35.364Z"
   },
   {
    "duration": 24,
    "start_time": "2023-01-08T09:20:35.373Z"
   },
   {
    "duration": 249,
    "start_time": "2023-01-08T09:20:35.405Z"
   },
   {
    "duration": 274,
    "start_time": "2023-01-08T09:20:35.655Z"
   },
   {
    "duration": 161,
    "start_time": "2023-01-08T09:20:35.931Z"
   },
   {
    "duration": 149,
    "start_time": "2023-01-08T09:20:36.100Z"
   },
   {
    "duration": 146,
    "start_time": "2023-01-08T09:20:36.251Z"
   },
   {
    "duration": 163,
    "start_time": "2023-01-08T09:20:36.399Z"
   },
   {
    "duration": 212,
    "start_time": "2023-01-08T09:20:36.563Z"
   },
   {
    "duration": 545,
    "start_time": "2023-01-08T09:20:36.776Z"
   },
   {
    "duration": 614,
    "start_time": "2023-01-08T09:20:37.324Z"
   },
   {
    "duration": 397,
    "start_time": "2023-01-08T09:20:37.940Z"
   },
   {
    "duration": 10,
    "start_time": "2023-01-08T09:20:38.338Z"
   },
   {
    "duration": 10,
    "start_time": "2023-01-08T09:20:38.349Z"
   },
   {
    "duration": 27,
    "start_time": "2023-01-08T09:21:28.615Z"
   },
   {
    "duration": 1091,
    "start_time": "2023-01-08T09:21:40.996Z"
   },
   {
    "duration": 89,
    "start_time": "2023-01-08T09:21:42.089Z"
   },
   {
    "duration": 16,
    "start_time": "2023-01-08T09:21:42.179Z"
   },
   {
    "duration": 24,
    "start_time": "2023-01-08T09:21:42.196Z"
   },
   {
    "duration": 18,
    "start_time": "2023-01-08T09:21:42.222Z"
   },
   {
    "duration": 7,
    "start_time": "2023-01-08T09:21:42.241Z"
   },
   {
    "duration": 20,
    "start_time": "2023-01-08T09:21:42.250Z"
   },
   {
    "duration": 9,
    "start_time": "2023-01-08T09:21:42.272Z"
   },
   {
    "duration": 204,
    "start_time": "2023-01-08T09:21:42.283Z"
   },
   {
    "duration": 177,
    "start_time": "2023-01-08T09:21:42.489Z"
   },
   {
    "duration": 17,
    "start_time": "2023-01-08T09:21:42.667Z"
   },
   {
    "duration": 38,
    "start_time": "2023-01-08T09:21:42.685Z"
   },
   {
    "duration": 11,
    "start_time": "2023-01-08T09:21:42.725Z"
   },
   {
    "duration": 9,
    "start_time": "2023-01-08T09:21:42.738Z"
   },
   {
    "duration": 190,
    "start_time": "2023-01-08T09:21:42.748Z"
   },
   {
    "duration": 6,
    "start_time": "2023-01-08T09:21:42.940Z"
   },
   {
    "duration": 216,
    "start_time": "2023-01-08T09:21:42.948Z"
   },
   {
    "duration": 12,
    "start_time": "2023-01-08T09:21:43.166Z"
   },
   {
    "duration": 294,
    "start_time": "2023-01-08T09:21:43.180Z"
   },
   {
    "duration": 9,
    "start_time": "2023-01-08T09:21:43.475Z"
   },
   {
    "duration": 484,
    "start_time": "2023-01-08T09:21:43.486Z"
   },
   {
    "duration": 7,
    "start_time": "2023-01-08T09:21:43.972Z"
   },
   {
    "duration": 21,
    "start_time": "2023-01-08T09:21:43.981Z"
   },
   {
    "duration": 252,
    "start_time": "2023-01-08T09:21:44.010Z"
   },
   {
    "duration": 277,
    "start_time": "2023-01-08T09:21:44.263Z"
   },
   {
    "duration": 191,
    "start_time": "2023-01-08T09:21:44.542Z"
   },
   {
    "duration": 180,
    "start_time": "2023-01-08T09:21:44.735Z"
   },
   {
    "duration": 170,
    "start_time": "2023-01-08T09:21:44.917Z"
   },
   {
    "duration": 176,
    "start_time": "2023-01-08T09:21:45.089Z"
   },
   {
    "duration": 223,
    "start_time": "2023-01-08T09:21:45.267Z"
   },
   {
    "duration": 521,
    "start_time": "2023-01-08T09:21:45.499Z"
   },
   {
    "duration": 680,
    "start_time": "2023-01-08T09:21:46.022Z"
   },
   {
    "duration": 378,
    "start_time": "2023-01-08T09:21:46.704Z"
   },
   {
    "duration": 18,
    "start_time": "2023-01-08T09:21:47.084Z"
   },
   {
    "duration": 11,
    "start_time": "2023-01-08T09:21:47.113Z"
   },
   {
    "duration": 339,
    "start_time": "2023-01-08T09:30:05.737Z"
   },
   {
    "duration": 407,
    "start_time": "2023-01-08T09:30:14.779Z"
   },
   {
    "duration": 421,
    "start_time": "2023-01-08T09:30:22.095Z"
   },
   {
    "duration": 375,
    "start_time": "2023-01-08T09:30:29.937Z"
   },
   {
    "duration": 393,
    "start_time": "2023-01-08T09:30:33.859Z"
   },
   {
    "duration": 502,
    "start_time": "2023-01-08T09:31:11.913Z"
   },
   {
    "duration": 383,
    "start_time": "2023-01-08T09:31:16.537Z"
   },
   {
    "duration": 380,
    "start_time": "2023-01-08T09:31:21.283Z"
   },
   {
    "duration": 389,
    "start_time": "2023-01-08T09:31:34.581Z"
   },
   {
    "duration": 323,
    "start_time": "2023-01-08T09:31:44.658Z"
   },
   {
    "duration": 293,
    "start_time": "2023-01-08T09:31:49.942Z"
   },
   {
    "duration": 254,
    "start_time": "2023-01-08T09:31:55.516Z"
   },
   {
    "duration": 261,
    "start_time": "2023-01-08T09:32:03.058Z"
   },
   {
    "duration": 349,
    "start_time": "2023-01-08T09:32:06.582Z"
   },
   {
    "duration": 1128,
    "start_time": "2023-01-08T09:34:20.661Z"
   },
   {
    "duration": 93,
    "start_time": "2023-01-08T09:34:21.791Z"
   },
   {
    "duration": 18,
    "start_time": "2023-01-08T09:34:21.885Z"
   },
   {
    "duration": 4,
    "start_time": "2023-01-08T09:34:21.905Z"
   },
   {
    "duration": 13,
    "start_time": "2023-01-08T09:34:21.911Z"
   },
   {
    "duration": 5,
    "start_time": "2023-01-08T09:34:21.925Z"
   },
   {
    "duration": 18,
    "start_time": "2023-01-08T09:34:21.931Z"
   },
   {
    "duration": 8,
    "start_time": "2023-01-08T09:34:21.950Z"
   },
   {
    "duration": 225,
    "start_time": "2023-01-08T09:34:21.960Z"
   },
   {
    "duration": 198,
    "start_time": "2023-01-08T09:34:22.186Z"
   },
   {
    "duration": 32,
    "start_time": "2023-01-08T09:34:22.385Z"
   },
   {
    "duration": 18,
    "start_time": "2023-01-08T09:34:22.418Z"
   },
   {
    "duration": 4,
    "start_time": "2023-01-08T09:34:22.437Z"
   },
   {
    "duration": 19,
    "start_time": "2023-01-08T09:34:22.444Z"
   },
   {
    "duration": 238,
    "start_time": "2023-01-08T09:34:22.465Z"
   },
   {
    "duration": 8,
    "start_time": "2023-01-08T09:34:22.706Z"
   },
   {
    "duration": 214,
    "start_time": "2023-01-08T09:34:22.717Z"
   },
   {
    "duration": 11,
    "start_time": "2023-01-08T09:34:22.933Z"
   },
   {
    "duration": 291,
    "start_time": "2023-01-08T09:34:22.945Z"
   },
   {
    "duration": 9,
    "start_time": "2023-01-08T09:34:23.238Z"
   },
   {
    "duration": 505,
    "start_time": "2023-01-08T09:34:23.249Z"
   },
   {
    "duration": 7,
    "start_time": "2023-01-08T09:34:23.756Z"
   },
   {
    "duration": 22,
    "start_time": "2023-01-08T09:34:23.765Z"
   },
   {
    "duration": 255,
    "start_time": "2023-01-08T09:34:23.789Z"
   },
   {
    "duration": 267,
    "start_time": "2023-01-08T09:34:24.046Z"
   },
   {
    "duration": 158,
    "start_time": "2023-01-08T09:34:24.315Z"
   },
   {
    "duration": 212,
    "start_time": "2023-01-08T09:34:24.475Z"
   },
   {
    "duration": 199,
    "start_time": "2023-01-08T09:34:24.689Z"
   },
   {
    "duration": 156,
    "start_time": "2023-01-08T09:34:24.890Z"
   },
   {
    "duration": 213,
    "start_time": "2023-01-08T09:34:25.048Z"
   },
   {
    "duration": 500,
    "start_time": "2023-01-08T09:34:25.263Z"
   },
   {
    "duration": 646,
    "start_time": "2023-01-08T09:34:25.765Z"
   },
   {
    "duration": 373,
    "start_time": "2023-01-08T09:34:26.412Z"
   },
   {
    "duration": 26,
    "start_time": "2023-01-08T09:34:26.787Z"
   },
   {
    "duration": 8,
    "start_time": "2023-01-08T09:34:26.815Z"
   },
   {
    "duration": 1071,
    "start_time": "2023-01-09T01:47:04.436Z"
   },
   {
    "duration": 94,
    "start_time": "2023-01-09T01:47:05.509Z"
   },
   {
    "duration": 17,
    "start_time": "2023-01-09T01:47:05.605Z"
   },
   {
    "duration": 4,
    "start_time": "2023-01-09T01:47:05.624Z"
   },
   {
    "duration": 16,
    "start_time": "2023-01-09T01:47:05.629Z"
   },
   {
    "duration": 6,
    "start_time": "2023-01-09T01:47:05.647Z"
   },
   {
    "duration": 23,
    "start_time": "2023-01-09T01:47:05.655Z"
   },
   {
    "duration": 9,
    "start_time": "2023-01-09T01:47:05.679Z"
   },
   {
    "duration": 221,
    "start_time": "2023-01-09T01:47:05.690Z"
   },
   {
    "duration": 171,
    "start_time": "2023-01-09T01:47:05.913Z"
   },
   {
    "duration": 17,
    "start_time": "2023-01-09T01:47:06.086Z"
   },
   {
    "duration": 18,
    "start_time": "2023-01-09T01:47:06.115Z"
   },
   {
    "duration": 4,
    "start_time": "2023-01-09T01:47:06.134Z"
   },
   {
    "duration": 4,
    "start_time": "2023-01-09T01:47:06.140Z"
   },
   {
    "duration": 234,
    "start_time": "2023-01-09T01:47:06.146Z"
   },
   {
    "duration": 6,
    "start_time": "2023-01-09T01:47:06.382Z"
   },
   {
    "duration": 201,
    "start_time": "2023-01-09T01:47:06.389Z"
   },
   {
    "duration": 11,
    "start_time": "2023-01-09T01:47:06.591Z"
   },
   {
    "duration": 271,
    "start_time": "2023-01-09T01:47:06.604Z"
   },
   {
    "duration": 8,
    "start_time": "2023-01-09T01:47:06.877Z"
   },
   {
    "duration": 445,
    "start_time": "2023-01-09T01:47:06.887Z"
   },
   {
    "duration": 6,
    "start_time": "2023-01-09T01:47:07.333Z"
   },
   {
    "duration": 14,
    "start_time": "2023-01-09T01:47:07.340Z"
   },
   {
    "duration": 226,
    "start_time": "2023-01-09T01:47:07.355Z"
   },
   {
    "duration": 249,
    "start_time": "2023-01-09T01:47:07.583Z"
   },
   {
    "duration": 140,
    "start_time": "2023-01-09T01:47:07.833Z"
   },
   {
    "duration": 145,
    "start_time": "2023-01-09T01:47:07.976Z"
   },
   {
    "duration": 151,
    "start_time": "2023-01-09T01:47:08.124Z"
   },
   {
    "duration": 141,
    "start_time": "2023-01-09T01:47:08.277Z"
   },
   {
    "duration": 201,
    "start_time": "2023-01-09T01:47:08.420Z"
   },
   {
    "duration": 461,
    "start_time": "2023-01-09T01:47:08.623Z"
   },
   {
    "duration": 587,
    "start_time": "2023-01-09T01:47:09.086Z"
   },
   {
    "duration": 367,
    "start_time": "2023-01-09T01:47:09.675Z"
   },
   {
    "duration": 8,
    "start_time": "2023-01-09T01:47:10.044Z"
   },
   {
    "duration": 18,
    "start_time": "2023-01-09T01:47:10.053Z"
   },
   {
    "duration": 1098,
    "start_time": "2023-01-09T02:13:24.997Z"
   },
   {
    "duration": 72,
    "start_time": "2023-01-09T02:13:26.097Z"
   },
   {
    "duration": 17,
    "start_time": "2023-01-09T02:13:26.171Z"
   },
   {
    "duration": 4,
    "start_time": "2023-01-09T02:13:26.191Z"
   },
   {
    "duration": 20,
    "start_time": "2023-01-09T02:13:26.196Z"
   },
   {
    "duration": 18,
    "start_time": "2023-01-09T02:13:26.218Z"
   },
   {
    "duration": 23,
    "start_time": "2023-01-09T02:13:26.237Z"
   },
   {
    "duration": 10,
    "start_time": "2023-01-09T02:13:26.261Z"
   },
   {
    "duration": 227,
    "start_time": "2023-01-09T02:13:26.272Z"
   },
   {
    "duration": 167,
    "start_time": "2023-01-09T02:13:26.502Z"
   },
   {
    "duration": 17,
    "start_time": "2023-01-09T02:13:26.670Z"
   },
   {
    "duration": 31,
    "start_time": "2023-01-09T02:13:26.688Z"
   },
   {
    "duration": 5,
    "start_time": "2023-01-09T02:13:26.720Z"
   },
   {
    "duration": 7,
    "start_time": "2023-01-09T02:13:26.726Z"
   },
   {
    "duration": 183,
    "start_time": "2023-01-09T02:13:26.734Z"
   },
   {
    "duration": 5,
    "start_time": "2023-01-09T02:13:26.919Z"
   },
   {
    "duration": 194,
    "start_time": "2023-01-09T02:13:26.925Z"
   },
   {
    "duration": 10,
    "start_time": "2023-01-09T02:13:27.121Z"
   },
   {
    "duration": 277,
    "start_time": "2023-01-09T02:13:27.133Z"
   },
   {
    "duration": 10,
    "start_time": "2023-01-09T02:13:27.412Z"
   },
   {
    "duration": 440,
    "start_time": "2023-01-09T02:13:27.423Z"
   },
   {
    "duration": 6,
    "start_time": "2023-01-09T02:13:27.865Z"
   },
   {
    "duration": 20,
    "start_time": "2023-01-09T02:13:27.873Z"
   },
   {
    "duration": 253,
    "start_time": "2023-01-09T02:13:27.895Z"
   },
   {
    "duration": 250,
    "start_time": "2023-01-09T02:13:28.150Z"
   },
   {
    "duration": 159,
    "start_time": "2023-01-09T02:13:28.402Z"
   },
   {
    "duration": 150,
    "start_time": "2023-01-09T02:13:28.563Z"
   },
   {
    "duration": 148,
    "start_time": "2023-01-09T02:13:28.718Z"
   },
   {
    "duration": 152,
    "start_time": "2023-01-09T02:13:28.868Z"
   },
   {
    "duration": 200,
    "start_time": "2023-01-09T02:13:29.022Z"
   },
   {
    "duration": 434,
    "start_time": "2023-01-09T02:13:29.224Z"
   },
   {
    "duration": 610,
    "start_time": "2023-01-09T02:13:29.659Z"
   },
   {
    "duration": 357,
    "start_time": "2023-01-09T02:13:30.271Z"
   },
   {
    "duration": 8,
    "start_time": "2023-01-09T02:13:30.630Z"
   },
   {
    "duration": 34,
    "start_time": "2023-01-09T02:13:30.639Z"
   },
   {
    "duration": 6,
    "start_time": "2023-01-09T02:16:03.782Z"
   },
   {
    "duration": 1263,
    "start_time": "2023-01-09T20:29:24.341Z"
   },
   {
    "duration": 107,
    "start_time": "2023-01-09T20:29:25.606Z"
   },
   {
    "duration": 18,
    "start_time": "2023-01-09T20:29:25.714Z"
   },
   {
    "duration": 6,
    "start_time": "2023-01-09T20:29:25.735Z"
   },
   {
    "duration": 37,
    "start_time": "2023-01-09T20:29:25.742Z"
   },
   {
    "duration": 8,
    "start_time": "2023-01-09T20:29:25.781Z"
   },
   {
    "duration": 9,
    "start_time": "2023-01-09T20:29:25.792Z"
   },
   {
    "duration": 234,
    "start_time": "2023-01-09T20:29:25.803Z"
   },
   {
    "duration": 236,
    "start_time": "2023-01-09T20:29:26.039Z"
   },
   {
    "duration": 30,
    "start_time": "2023-01-09T20:29:26.278Z"
   },
   {
    "duration": 33,
    "start_time": "2023-01-09T20:29:26.311Z"
   },
   {
    "duration": 23,
    "start_time": "2023-01-09T20:29:26.346Z"
   },
   {
    "duration": 24,
    "start_time": "2023-01-09T20:29:26.377Z"
   },
   {
    "duration": 234,
    "start_time": "2023-01-09T20:29:26.403Z"
   },
   {
    "duration": 22,
    "start_time": "2023-01-09T20:29:26.639Z"
   },
   {
    "duration": 242,
    "start_time": "2023-01-09T20:29:26.664Z"
   },
   {
    "duration": 10,
    "start_time": "2023-01-09T20:29:26.908Z"
   },
   {
    "duration": 337,
    "start_time": "2023-01-09T20:29:26.920Z"
   },
   {
    "duration": 26,
    "start_time": "2023-01-09T20:29:27.263Z"
   },
   {
    "duration": 578,
    "start_time": "2023-01-09T20:29:27.290Z"
   },
   {
    "duration": 10,
    "start_time": "2023-01-09T20:29:27.871Z"
   },
   {
    "duration": 23,
    "start_time": "2023-01-09T20:29:27.883Z"
   },
   {
    "duration": 283,
    "start_time": "2023-01-09T20:29:27.908Z"
   },
   {
    "duration": 609,
    "start_time": "2023-01-09T20:29:28.194Z"
   },
   {
    "duration": 188,
    "start_time": "2023-01-09T20:29:28.805Z"
   },
   {
    "duration": 196,
    "start_time": "2023-01-09T20:29:28.995Z"
   },
   {
    "duration": 188,
    "start_time": "2023-01-09T20:29:29.193Z"
   },
   {
    "duration": 176,
    "start_time": "2023-01-09T20:29:29.385Z"
   },
   {
    "duration": 273,
    "start_time": "2023-01-09T20:29:29.562Z"
   },
   {
    "duration": 824,
    "start_time": "2023-01-09T20:29:29.837Z"
   },
   {
    "duration": 709,
    "start_time": "2023-01-09T20:29:30.664Z"
   },
   {
    "duration": 5,
    "start_time": "2023-01-09T20:29:31.375Z"
   },
   {
    "duration": 526,
    "start_time": "2023-01-09T20:29:31.383Z"
   },
   {
    "duration": 10,
    "start_time": "2023-01-09T20:29:31.911Z"
   },
   {
    "duration": 21,
    "start_time": "2023-01-09T20:29:31.923Z"
   },
   {
    "duration": 274,
    "start_time": "2023-01-09T20:32:15.791Z"
   },
   {
    "duration": 1156,
    "start_time": "2023-01-10T19:22:28.141Z"
   },
   {
    "duration": 120,
    "start_time": "2023-01-10T19:22:29.299Z"
   },
   {
    "duration": 17,
    "start_time": "2023-01-10T19:22:29.421Z"
   },
   {
    "duration": 4,
    "start_time": "2023-01-10T19:22:29.439Z"
   },
   {
    "duration": 18,
    "start_time": "2023-01-10T19:22:29.444Z"
   },
   {
    "duration": 4,
    "start_time": "2023-01-10T19:22:29.464Z"
   },
   {
    "duration": 6,
    "start_time": "2023-01-10T19:22:29.469Z"
   },
   {
    "duration": 185,
    "start_time": "2023-01-10T19:22:29.476Z"
   },
   {
    "duration": 172,
    "start_time": "2023-01-10T19:22:29.663Z"
   },
   {
    "duration": 18,
    "start_time": "2023-01-10T19:22:29.837Z"
   },
   {
    "duration": 21,
    "start_time": "2023-01-10T19:22:29.856Z"
   },
   {
    "duration": 19,
    "start_time": "2023-01-10T19:22:29.878Z"
   },
   {
    "duration": 5,
    "start_time": "2023-01-10T19:22:29.898Z"
   },
   {
    "duration": 211,
    "start_time": "2023-01-10T19:22:29.904Z"
   },
   {
    "duration": 5,
    "start_time": "2023-01-10T19:22:30.116Z"
   },
   {
    "duration": 198,
    "start_time": "2023-01-10T19:22:30.123Z"
   },
   {
    "duration": 9,
    "start_time": "2023-01-10T19:22:30.323Z"
   },
   {
    "duration": 293,
    "start_time": "2023-01-10T19:22:30.334Z"
   },
   {
    "duration": 8,
    "start_time": "2023-01-10T19:22:30.628Z"
   },
   {
    "duration": 464,
    "start_time": "2023-01-10T19:22:30.638Z"
   },
   {
    "duration": 6,
    "start_time": "2023-01-10T19:22:31.104Z"
   },
   {
    "duration": 115,
    "start_time": "2023-01-10T19:22:31.111Z"
   },
   {
    "duration": 333,
    "start_time": "2023-01-10T19:22:31.227Z"
   },
   {
    "duration": 501,
    "start_time": "2023-01-10T19:22:31.562Z"
   },
   {
    "duration": 158,
    "start_time": "2023-01-10T19:22:32.064Z"
   },
   {
    "duration": 150,
    "start_time": "2023-01-10T19:22:32.223Z"
   },
   {
    "duration": 153,
    "start_time": "2023-01-10T19:22:32.374Z"
   },
   {
    "duration": 135,
    "start_time": "2023-01-10T19:22:32.530Z"
   },
   {
    "duration": 180,
    "start_time": "2023-01-10T19:22:32.666Z"
   },
   {
    "duration": 528,
    "start_time": "2023-01-10T19:22:32.847Z"
   },
   {
    "duration": 532,
    "start_time": "2023-01-10T19:22:33.377Z"
   },
   {
    "duration": 5,
    "start_time": "2023-01-10T19:22:33.912Z"
   },
   {
    "duration": 397,
    "start_time": "2023-01-10T19:22:33.918Z"
   },
   {
    "duration": 7,
    "start_time": "2023-01-10T19:22:34.317Z"
   },
   {
    "duration": 19,
    "start_time": "2023-01-10T19:22:34.326Z"
   },
   {
    "duration": 8,
    "start_time": "2023-01-10T19:24:58.718Z"
   },
   {
    "duration": 17,
    "start_time": "2023-01-10T19:25:47.756Z"
   },
   {
    "duration": 15,
    "start_time": "2023-01-10T19:26:46.887Z"
   },
   {
    "duration": 1206,
    "start_time": "2023-01-11T05:40:36.886Z"
   },
   {
    "duration": 151,
    "start_time": "2023-01-11T05:40:38.093Z"
   },
   {
    "duration": 16,
    "start_time": "2023-01-11T05:40:38.246Z"
   },
   {
    "duration": 4,
    "start_time": "2023-01-11T05:40:38.264Z"
   },
   {
    "duration": 26,
    "start_time": "2023-01-11T05:40:38.269Z"
   },
   {
    "duration": 5,
    "start_time": "2023-01-11T05:40:38.296Z"
   },
   {
    "duration": 6,
    "start_time": "2023-01-11T05:40:38.302Z"
   },
   {
    "duration": 185,
    "start_time": "2023-01-11T05:40:38.310Z"
   },
   {
    "duration": 163,
    "start_time": "2023-01-11T05:40:38.497Z"
   },
   {
    "duration": 19,
    "start_time": "2023-01-11T05:40:38.663Z"
   },
   {
    "duration": 35,
    "start_time": "2023-01-11T05:40:38.683Z"
   },
   {
    "duration": 5,
    "start_time": "2023-01-11T05:40:38.719Z"
   },
   {
    "duration": 8,
    "start_time": "2023-01-11T05:40:38.725Z"
   },
   {
    "duration": 175,
    "start_time": "2023-01-11T05:40:38.734Z"
   },
   {
    "duration": 6,
    "start_time": "2023-01-11T05:40:38.910Z"
   },
   {
    "duration": 199,
    "start_time": "2023-01-11T05:40:38.917Z"
   },
   {
    "duration": 9,
    "start_time": "2023-01-11T05:40:39.118Z"
   },
   {
    "duration": 242,
    "start_time": "2023-01-11T05:40:39.129Z"
   },
   {
    "duration": 8,
    "start_time": "2023-01-11T05:40:39.373Z"
   },
   {
    "duration": 427,
    "start_time": "2023-01-11T05:40:39.383Z"
   },
   {
    "duration": 5,
    "start_time": "2023-01-11T05:40:39.812Z"
   },
   {
    "duration": 29,
    "start_time": "2023-01-11T05:40:39.819Z"
   },
   {
    "duration": 238,
    "start_time": "2023-01-11T05:40:39.849Z"
   },
   {
    "duration": 463,
    "start_time": "2023-01-11T05:40:40.089Z"
   },
   {
    "duration": 144,
    "start_time": "2023-01-11T05:40:40.553Z"
   },
   {
    "duration": 140,
    "start_time": "2023-01-11T05:40:40.698Z"
   },
   {
    "duration": 136,
    "start_time": "2023-01-11T05:40:40.839Z"
   },
   {
    "duration": 145,
    "start_time": "2023-01-11T05:40:40.978Z"
   },
   {
    "duration": 166,
    "start_time": "2023-01-11T05:40:41.125Z"
   },
   {
    "duration": 511,
    "start_time": "2023-01-11T05:40:41.292Z"
   },
   {
    "duration": 501,
    "start_time": "2023-01-11T05:40:41.805Z"
   },
   {
    "duration": 3,
    "start_time": "2023-01-11T05:40:42.308Z"
   },
   {
    "duration": 355,
    "start_time": "2023-01-11T05:40:42.313Z"
   },
   {
    "duration": 8,
    "start_time": "2023-01-11T05:40:42.669Z"
   },
   {
    "duration": 20,
    "start_time": "2023-01-11T05:40:42.678Z"
   },
   {
    "duration": 1067,
    "start_time": "2023-01-11T05:53:02.898Z"
   },
   {
    "duration": 94,
    "start_time": "2023-01-11T05:53:03.967Z"
   },
   {
    "duration": 17,
    "start_time": "2023-01-11T05:53:04.063Z"
   },
   {
    "duration": 13,
    "start_time": "2023-01-11T05:53:04.082Z"
   },
   {
    "duration": 37,
    "start_time": "2023-01-11T05:53:04.097Z"
   },
   {
    "duration": 28,
    "start_time": "2023-01-11T05:53:04.135Z"
   },
   {
    "duration": 18,
    "start_time": "2023-01-11T05:53:04.164Z"
   },
   {
    "duration": 190,
    "start_time": "2023-01-11T05:53:04.184Z"
   },
   {
    "duration": 161,
    "start_time": "2023-01-11T05:53:04.376Z"
   },
   {
    "duration": 22,
    "start_time": "2023-01-11T05:53:04.540Z"
   },
   {
    "duration": 35,
    "start_time": "2023-01-11T05:53:04.564Z"
   },
   {
    "duration": 5,
    "start_time": "2023-01-11T05:53:04.601Z"
   },
   {
    "duration": 14,
    "start_time": "2023-01-11T05:53:04.607Z"
   },
   {
    "duration": 177,
    "start_time": "2023-01-11T05:53:04.622Z"
   },
   {
    "duration": 5,
    "start_time": "2023-01-11T05:53:04.800Z"
   },
   {
    "duration": 232,
    "start_time": "2023-01-11T05:53:04.806Z"
   },
   {
    "duration": 10,
    "start_time": "2023-01-11T05:53:05.040Z"
   },
   {
    "duration": 267,
    "start_time": "2023-01-11T05:53:05.052Z"
   },
   {
    "duration": 9,
    "start_time": "2023-01-11T05:53:05.320Z"
   },
   {
    "duration": 455,
    "start_time": "2023-01-11T05:53:05.331Z"
   },
   {
    "duration": 6,
    "start_time": "2023-01-11T05:53:05.787Z"
   },
   {
    "duration": 14,
    "start_time": "2023-01-11T05:53:05.795Z"
   },
   {
    "duration": 235,
    "start_time": "2023-01-11T05:53:05.810Z"
   },
   {
    "duration": 475,
    "start_time": "2023-01-11T05:53:06.047Z"
   },
   {
    "duration": 149,
    "start_time": "2023-01-11T05:53:06.524Z"
   },
   {
    "duration": 143,
    "start_time": "2023-01-11T05:53:06.674Z"
   },
   {
    "duration": 146,
    "start_time": "2023-01-11T05:53:06.818Z"
   },
   {
    "duration": 140,
    "start_time": "2023-01-11T05:53:06.967Z"
   },
   {
    "duration": 207,
    "start_time": "2023-01-11T05:53:07.109Z"
   },
   {
    "duration": 583,
    "start_time": "2023-01-11T05:53:07.317Z"
   },
   {
    "duration": 517,
    "start_time": "2023-01-11T05:53:07.901Z"
   },
   {
    "duration": 3,
    "start_time": "2023-01-11T05:53:08.419Z"
   },
   {
    "duration": 384,
    "start_time": "2023-01-11T05:53:08.424Z"
   },
   {
    "duration": 7,
    "start_time": "2023-01-11T05:53:08.810Z"
   },
   {
    "duration": 11,
    "start_time": "2023-01-11T05:53:08.818Z"
   },
   {
    "duration": 1050,
    "start_time": "2023-01-11T06:56:05.038Z"
   },
   {
    "duration": 78,
    "start_time": "2023-01-11T06:56:06.091Z"
   },
   {
    "duration": 17,
    "start_time": "2023-01-11T06:56:06.171Z"
   },
   {
    "duration": 5,
    "start_time": "2023-01-11T06:56:06.189Z"
   },
   {
    "duration": 17,
    "start_time": "2023-01-11T06:56:06.196Z"
   },
   {
    "duration": 6,
    "start_time": "2023-01-11T06:56:06.214Z"
   },
   {
    "duration": 5,
    "start_time": "2023-01-11T06:56:06.222Z"
   },
   {
    "duration": 201,
    "start_time": "2023-01-11T06:56:06.229Z"
   },
   {
    "duration": 175,
    "start_time": "2023-01-11T06:56:06.432Z"
   },
   {
    "duration": 19,
    "start_time": "2023-01-11T06:56:06.609Z"
   },
   {
    "duration": 20,
    "start_time": "2023-01-11T06:56:06.629Z"
   },
   {
    "duration": 5,
    "start_time": "2023-01-11T06:56:06.650Z"
   },
   {
    "duration": 5,
    "start_time": "2023-01-11T06:56:06.656Z"
   },
   {
    "duration": 202,
    "start_time": "2023-01-11T06:56:06.664Z"
   },
   {
    "duration": 6,
    "start_time": "2023-01-11T06:56:06.868Z"
   },
   {
    "duration": 201,
    "start_time": "2023-01-11T06:56:06.875Z"
   },
   {
    "duration": 10,
    "start_time": "2023-01-11T06:56:07.078Z"
   },
   {
    "duration": 271,
    "start_time": "2023-01-11T06:56:07.097Z"
   },
   {
    "duration": 10,
    "start_time": "2023-01-11T06:56:07.369Z"
   },
   {
    "duration": 437,
    "start_time": "2023-01-11T06:56:07.381Z"
   },
   {
    "duration": 7,
    "start_time": "2023-01-11T06:56:07.820Z"
   },
   {
    "duration": 16,
    "start_time": "2023-01-11T06:56:07.829Z"
   },
   {
    "duration": 283,
    "start_time": "2023-01-11T06:56:07.847Z"
   },
   {
    "duration": 513,
    "start_time": "2023-01-11T06:56:08.132Z"
   },
   {
    "duration": 162,
    "start_time": "2023-01-11T06:56:08.647Z"
   },
   {
    "duration": 147,
    "start_time": "2023-01-11T06:56:08.811Z"
   },
   {
    "duration": 157,
    "start_time": "2023-01-11T06:56:08.959Z"
   },
   {
    "duration": 154,
    "start_time": "2023-01-11T06:56:09.117Z"
   },
   {
    "duration": 177,
    "start_time": "2023-01-11T06:56:09.272Z"
   },
   {
    "duration": 520,
    "start_time": "2023-01-11T06:56:09.451Z"
   },
   {
    "duration": 517,
    "start_time": "2023-01-11T06:56:09.973Z"
   },
   {
    "duration": 5,
    "start_time": "2023-01-11T06:56:10.492Z"
   },
   {
    "duration": 366,
    "start_time": "2023-01-11T06:56:10.498Z"
   },
   {
    "duration": 8,
    "start_time": "2023-01-11T06:56:10.866Z"
   },
   {
    "duration": 23,
    "start_time": "2023-01-11T06:56:10.876Z"
   },
   {
    "duration": 6,
    "start_time": "2023-01-11T06:57:06.517Z"
   },
   {
    "duration": 1095,
    "start_time": "2023-01-11T06:57:10.511Z"
   },
   {
    "duration": 73,
    "start_time": "2023-01-11T06:57:11.608Z"
   },
   {
    "duration": 20,
    "start_time": "2023-01-11T06:57:11.683Z"
   },
   {
    "duration": 5,
    "start_time": "2023-01-11T06:57:11.705Z"
   },
   {
    "duration": 18,
    "start_time": "2023-01-11T06:57:11.711Z"
   },
   {
    "duration": 5,
    "start_time": "2023-01-11T06:57:11.731Z"
   },
   {
    "duration": 5,
    "start_time": "2023-01-11T06:57:11.738Z"
   },
   {
    "duration": 207,
    "start_time": "2023-01-11T06:57:11.744Z"
   },
   {
    "duration": 168,
    "start_time": "2023-01-11T06:57:11.953Z"
   },
   {
    "duration": 20,
    "start_time": "2023-01-11T06:57:12.123Z"
   },
   {
    "duration": 21,
    "start_time": "2023-01-11T06:57:12.144Z"
   },
   {
    "duration": 5,
    "start_time": "2023-01-11T06:57:12.167Z"
   },
   {
    "duration": 25,
    "start_time": "2023-01-11T06:57:12.173Z"
   },
   {
    "duration": 185,
    "start_time": "2023-01-11T06:57:12.199Z"
   },
   {
    "duration": 11,
    "start_time": "2023-01-11T06:57:12.386Z"
   },
   {
    "duration": 187,
    "start_time": "2023-01-11T06:57:12.399Z"
   },
   {
    "duration": 16,
    "start_time": "2023-01-11T06:57:12.588Z"
   },
   {
    "duration": 272,
    "start_time": "2023-01-11T06:57:12.605Z"
   },
   {
    "duration": 10,
    "start_time": "2023-01-11T06:57:12.878Z"
   },
   {
    "duration": 488,
    "start_time": "2023-01-11T06:57:12.898Z"
   },
   {
    "duration": 7,
    "start_time": "2023-01-11T06:57:13.388Z"
   },
   {
    "duration": 16,
    "start_time": "2023-01-11T06:57:13.397Z"
   },
   {
    "duration": 260,
    "start_time": "2023-01-11T06:57:13.414Z"
   },
   {
    "duration": 547,
    "start_time": "2023-01-11T06:57:13.676Z"
   },
   {
    "duration": 155,
    "start_time": "2023-01-11T06:57:14.225Z"
   },
   {
    "duration": 154,
    "start_time": "2023-01-11T06:57:14.381Z"
   },
   {
    "duration": 178,
    "start_time": "2023-01-11T06:57:14.537Z"
   },
   {
    "duration": 183,
    "start_time": "2023-01-11T06:57:14.720Z"
   },
   {
    "duration": 197,
    "start_time": "2023-01-11T06:57:14.905Z"
   },
   {
    "duration": 640,
    "start_time": "2023-01-11T06:57:15.104Z"
   },
   {
    "duration": 576,
    "start_time": "2023-01-11T06:57:15.746Z"
   },
   {
    "duration": 4,
    "start_time": "2023-01-11T06:57:16.324Z"
   },
   {
    "duration": 447,
    "start_time": "2023-01-11T06:57:16.330Z"
   },
   {
    "duration": 9,
    "start_time": "2023-01-11T06:57:16.779Z"
   },
   {
    "duration": 11,
    "start_time": "2023-01-11T06:57:16.797Z"
   },
   {
    "duration": 1106,
    "start_time": "2023-01-11T06:58:23.252Z"
   },
   {
    "duration": 82,
    "start_time": "2023-01-11T06:58:24.360Z"
   },
   {
    "duration": 23,
    "start_time": "2023-01-11T06:58:24.444Z"
   },
   {
    "duration": 6,
    "start_time": "2023-01-11T06:58:24.469Z"
   },
   {
    "duration": 19,
    "start_time": "2023-01-11T06:58:24.476Z"
   },
   {
    "duration": 6,
    "start_time": "2023-01-11T06:58:24.497Z"
   },
   {
    "duration": 10,
    "start_time": "2023-01-11T06:58:24.505Z"
   },
   {
    "duration": 284,
    "start_time": "2023-01-11T06:58:24.516Z"
   },
   {
    "duration": 268,
    "start_time": "2023-01-11T06:58:24.802Z"
   },
   {
    "duration": 27,
    "start_time": "2023-01-11T06:58:25.073Z"
   },
   {
    "duration": 22,
    "start_time": "2023-01-11T06:58:25.102Z"
   },
   {
    "duration": 5,
    "start_time": "2023-01-11T06:58:25.126Z"
   },
   {
    "duration": 10,
    "start_time": "2023-01-11T06:58:25.133Z"
   },
   {
    "duration": 196,
    "start_time": "2023-01-11T06:58:25.145Z"
   },
   {
    "duration": 6,
    "start_time": "2023-01-11T06:58:25.343Z"
   },
   {
    "duration": 226,
    "start_time": "2023-01-11T06:58:25.351Z"
   },
   {
    "duration": 21,
    "start_time": "2023-01-11T06:58:25.579Z"
   },
   {
    "duration": 273,
    "start_time": "2023-01-11T06:58:25.601Z"
   },
   {
    "duration": 9,
    "start_time": "2023-01-11T06:58:25.875Z"
   },
   {
    "duration": 464,
    "start_time": "2023-01-11T06:58:25.886Z"
   },
   {
    "duration": 8,
    "start_time": "2023-01-11T06:58:26.353Z"
   },
   {
    "duration": 23,
    "start_time": "2023-01-11T06:58:26.363Z"
   },
   {
    "duration": 263,
    "start_time": "2023-01-11T06:58:26.387Z"
   },
   {
    "duration": 538,
    "start_time": "2023-01-11T06:58:26.651Z"
   },
   {
    "duration": 179,
    "start_time": "2023-01-11T06:58:27.191Z"
   },
   {
    "duration": 157,
    "start_time": "2023-01-11T06:58:27.372Z"
   },
   {
    "duration": 158,
    "start_time": "2023-01-11T06:58:27.530Z"
   },
   {
    "duration": 156,
    "start_time": "2023-01-11T06:58:27.691Z"
   },
   {
    "duration": 206,
    "start_time": "2023-01-11T06:58:27.849Z"
   },
   {
    "duration": 542,
    "start_time": "2023-01-11T06:58:28.057Z"
   },
   {
    "duration": 511,
    "start_time": "2023-01-11T06:58:28.600Z"
   },
   {
    "duration": 4,
    "start_time": "2023-01-11T06:58:29.113Z"
   },
   {
    "duration": 357,
    "start_time": "2023-01-11T06:58:29.119Z"
   },
   {
    "duration": 7,
    "start_time": "2023-01-11T06:58:29.477Z"
   },
   {
    "duration": 20,
    "start_time": "2023-01-11T06:58:29.485Z"
   },
   {
    "duration": 1316,
    "start_time": "2023-01-11T11:31:24.596Z"
   },
   {
    "duration": 225,
    "start_time": "2023-01-11T11:31:25.914Z"
   },
   {
    "duration": 18,
    "start_time": "2023-01-11T11:31:26.141Z"
   },
   {
    "duration": 4,
    "start_time": "2023-01-11T11:31:26.161Z"
   },
   {
    "duration": 18,
    "start_time": "2023-01-11T11:31:26.166Z"
   },
   {
    "duration": 16,
    "start_time": "2023-01-11T11:31:26.185Z"
   },
   {
    "duration": 14,
    "start_time": "2023-01-11T11:31:26.203Z"
   },
   {
    "duration": 228,
    "start_time": "2023-01-11T11:31:26.219Z"
   },
   {
    "duration": 184,
    "start_time": "2023-01-11T11:31:26.448Z"
   },
   {
    "duration": 22,
    "start_time": "2023-01-11T11:31:26.634Z"
   },
   {
    "duration": 35,
    "start_time": "2023-01-11T11:31:26.658Z"
   },
   {
    "duration": 9,
    "start_time": "2023-01-11T11:31:26.695Z"
   },
   {
    "duration": 21,
    "start_time": "2023-01-11T11:31:26.706Z"
   },
   {
    "duration": 203,
    "start_time": "2023-01-11T11:31:26.729Z"
   },
   {
    "duration": 5,
    "start_time": "2023-01-11T11:31:26.934Z"
   },
   {
    "duration": 220,
    "start_time": "2023-01-11T11:31:26.940Z"
   },
   {
    "duration": 15,
    "start_time": "2023-01-11T11:31:27.162Z"
   },
   {
    "duration": 281,
    "start_time": "2023-01-11T11:31:27.179Z"
   },
   {
    "duration": 8,
    "start_time": "2023-01-11T11:31:27.462Z"
   },
   {
    "duration": 472,
    "start_time": "2023-01-11T11:31:27.478Z"
   },
   {
    "duration": 6,
    "start_time": "2023-01-11T11:31:27.951Z"
   },
   {
    "duration": 41,
    "start_time": "2023-01-11T11:31:27.958Z"
   },
   {
    "duration": 257,
    "start_time": "2023-01-11T11:31:28.001Z"
   },
   {
    "duration": 501,
    "start_time": "2023-01-11T11:31:28.260Z"
   },
   {
    "duration": 161,
    "start_time": "2023-01-11T11:31:28.763Z"
   },
   {
    "duration": 165,
    "start_time": "2023-01-11T11:31:28.926Z"
   },
   {
    "duration": 169,
    "start_time": "2023-01-11T11:31:29.093Z"
   },
   {
    "duration": 166,
    "start_time": "2023-01-11T11:31:29.265Z"
   },
   {
    "duration": 206,
    "start_time": "2023-01-11T11:31:29.432Z"
   },
   {
    "duration": 576,
    "start_time": "2023-01-11T11:31:29.640Z"
   },
   {
    "duration": 553,
    "start_time": "2023-01-11T11:31:30.218Z"
   },
   {
    "duration": 4,
    "start_time": "2023-01-11T11:31:30.778Z"
   },
   {
    "duration": 426,
    "start_time": "2023-01-11T11:31:30.784Z"
   },
   {
    "duration": 9,
    "start_time": "2023-01-11T11:31:31.211Z"
   },
   {
    "duration": 30,
    "start_time": "2023-01-11T11:31:31.222Z"
   },
   {
    "duration": 396,
    "start_time": "2023-01-11T12:46:36.729Z"
   },
   {
    "duration": 1172,
    "start_time": "2023-01-11T12:46:41.818Z"
   },
   {
    "duration": 213,
    "start_time": "2023-01-11T12:46:42.992Z"
   },
   {
    "duration": 16,
    "start_time": "2023-01-11T12:46:43.207Z"
   },
   {
    "duration": 4,
    "start_time": "2023-01-11T12:46:43.225Z"
   },
   {
    "duration": 17,
    "start_time": "2023-01-11T12:46:43.231Z"
   },
   {
    "duration": 4,
    "start_time": "2023-01-11T12:46:43.250Z"
   },
   {
    "duration": 9,
    "start_time": "2023-01-11T12:46:43.256Z"
   },
   {
    "duration": 191,
    "start_time": "2023-01-11T12:46:43.277Z"
   },
   {
    "duration": 175,
    "start_time": "2023-01-11T12:46:43.470Z"
   },
   {
    "duration": 32,
    "start_time": "2023-01-11T12:46:43.646Z"
   },
   {
    "duration": 23,
    "start_time": "2023-01-11T12:46:43.679Z"
   },
   {
    "duration": 13,
    "start_time": "2023-01-11T12:46:43.704Z"
   },
   {
    "duration": 49,
    "start_time": "2023-01-11T12:46:43.719Z"
   },
   {
    "duration": 205,
    "start_time": "2023-01-11T12:46:43.771Z"
   },
   {
    "duration": 6,
    "start_time": "2023-01-11T12:46:43.978Z"
   },
   {
    "duration": 300,
    "start_time": "2023-01-11T12:46:43.987Z"
   },
   {
    "duration": 10,
    "start_time": "2023-01-11T12:46:44.288Z"
   },
   {
    "duration": 274,
    "start_time": "2023-01-11T12:46:44.300Z"
   },
   {
    "duration": 8,
    "start_time": "2023-01-11T12:46:44.576Z"
   },
   {
    "duration": 476,
    "start_time": "2023-01-11T12:46:44.585Z"
   },
   {
    "duration": 6,
    "start_time": "2023-01-11T12:46:45.063Z"
   },
   {
    "duration": 20,
    "start_time": "2023-01-11T12:46:45.071Z"
   },
   {
    "duration": 286,
    "start_time": "2023-01-11T12:46:45.093Z"
   },
   {
    "duration": 515,
    "start_time": "2023-01-11T12:46:45.381Z"
   },
   {
    "duration": 463,
    "start_time": "2023-01-11T12:46:45.898Z"
   },
   {
    "duration": 0,
    "start_time": "2023-01-11T12:46:46.363Z"
   },
   {
    "duration": 0,
    "start_time": "2023-01-11T12:46:46.365Z"
   },
   {
    "duration": 0,
    "start_time": "2023-01-11T12:46:46.366Z"
   },
   {
    "duration": 0,
    "start_time": "2023-01-11T12:46:46.368Z"
   },
   {
    "duration": 0,
    "start_time": "2023-01-11T12:46:46.369Z"
   },
   {
    "duration": 0,
    "start_time": "2023-01-11T12:46:46.371Z"
   },
   {
    "duration": 0,
    "start_time": "2023-01-11T12:46:46.373Z"
   },
   {
    "duration": 0,
    "start_time": "2023-01-11T12:46:46.374Z"
   },
   {
    "duration": 0,
    "start_time": "2023-01-11T12:46:46.376Z"
   },
   {
    "duration": 0,
    "start_time": "2023-01-11T12:46:46.378Z"
   },
   {
    "duration": 0,
    "start_time": "2023-01-11T12:46:46.379Z"
   },
   {
    "duration": 7,
    "start_time": "2023-01-11T12:47:10.865Z"
   },
   {
    "duration": 1126,
    "start_time": "2023-01-11T12:56:32.343Z"
   },
   {
    "duration": 91,
    "start_time": "2023-01-11T12:56:33.471Z"
   },
   {
    "duration": 17,
    "start_time": "2023-01-11T12:56:33.563Z"
   },
   {
    "duration": 5,
    "start_time": "2023-01-11T12:56:33.582Z"
   },
   {
    "duration": 23,
    "start_time": "2023-01-11T12:56:33.588Z"
   },
   {
    "duration": 8,
    "start_time": "2023-01-11T12:56:33.613Z"
   },
   {
    "duration": 15,
    "start_time": "2023-01-11T12:56:33.622Z"
   },
   {
    "duration": 192,
    "start_time": "2023-01-11T12:56:33.639Z"
   },
   {
    "duration": 211,
    "start_time": "2023-01-11T12:56:33.832Z"
   },
   {
    "duration": 39,
    "start_time": "2023-01-11T12:56:34.046Z"
   },
   {
    "duration": 35,
    "start_time": "2023-01-11T12:56:34.087Z"
   },
   {
    "duration": 16,
    "start_time": "2023-01-11T12:56:34.125Z"
   },
   {
    "duration": 10,
    "start_time": "2023-01-11T12:56:34.143Z"
   },
   {
    "duration": 223,
    "start_time": "2023-01-11T12:56:34.154Z"
   },
   {
    "duration": 6,
    "start_time": "2023-01-11T12:56:34.379Z"
   },
   {
    "duration": 202,
    "start_time": "2023-01-11T12:56:34.386Z"
   },
   {
    "duration": 10,
    "start_time": "2023-01-11T12:56:34.589Z"
   },
   {
    "duration": 277,
    "start_time": "2023-01-11T12:56:34.601Z"
   },
   {
    "duration": 9,
    "start_time": "2023-01-11T12:56:34.879Z"
   },
   {
    "duration": 483,
    "start_time": "2023-01-11T12:56:34.890Z"
   },
   {
    "duration": 7,
    "start_time": "2023-01-11T12:56:35.376Z"
   },
   {
    "duration": 20,
    "start_time": "2023-01-11T12:56:35.385Z"
   },
   {
    "duration": 267,
    "start_time": "2023-01-11T12:56:35.406Z"
   },
   {
    "duration": 517,
    "start_time": "2023-01-11T12:56:35.677Z"
   },
   {
    "duration": 7,
    "start_time": "2023-01-11T12:56:36.196Z"
   },
   {
    "duration": 175,
    "start_time": "2023-01-11T12:56:36.204Z"
   },
   {
    "duration": 152,
    "start_time": "2023-01-11T12:56:36.381Z"
   },
   {
    "duration": 164,
    "start_time": "2023-01-11T12:56:36.536Z"
   },
   {
    "duration": 162,
    "start_time": "2023-01-11T12:56:36.701Z"
   },
   {
    "duration": 200,
    "start_time": "2023-01-11T12:56:36.864Z"
   },
   {
    "duration": 567,
    "start_time": "2023-01-11T12:56:37.065Z"
   },
   {
    "duration": 536,
    "start_time": "2023-01-11T12:56:37.634Z"
   },
   {
    "duration": 8,
    "start_time": "2023-01-11T12:56:38.171Z"
   },
   {
    "duration": 378,
    "start_time": "2023-01-11T12:56:38.181Z"
   },
   {
    "duration": 7,
    "start_time": "2023-01-11T12:56:38.561Z"
   },
   {
    "duration": 7,
    "start_time": "2023-01-11T12:56:38.578Z"
   }
  ],
  "kernelspec": {
   "display_name": "Python 3 (ipykernel)",
   "language": "python",
   "name": "python3"
  },
  "language_info": {
   "codemirror_mode": {
    "name": "ipython",
    "version": 3
   },
   "file_extension": ".py",
   "mimetype": "text/x-python",
   "name": "python",
   "nbconvert_exporter": "python",
   "pygments_lexer": "ipython3",
   "version": "3.9.5"
  },
  "toc": {
   "base_numbering": 1,
   "nav_menu": {},
   "number_sections": true,
   "sideBar": true,
   "skip_h1_title": true,
   "title_cell": "Table of Contents",
   "title_sidebar": "Contents",
   "toc_cell": false,
   "toc_position": {},
   "toc_section_display": true,
   "toc_window_display": false
  }
 },
 "nbformat": 4,
 "nbformat_minor": 1
}
