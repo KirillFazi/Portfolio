{
 "cells": [
  {
   "cell_type": "markdown",
   "metadata": {},
   "source": [
    "# Определение стоимости автомобилей"
   ]
  },
  {
   "cell_type": "markdown",
   "source": [
    "## Описание проекта"
   ],
   "metadata": {
    "collapsed": false
   }
  },
  {
   "cell_type": "markdown",
   "metadata": {},
   "source": [
    "Компания \"Чётенькое авто\", занимающаяся продажей подержанных автомобилей, планирует создать приложение для привлечения новых клиентов. Одной из возможностей приложения будет быстрое определение рыночной стоимости автомобиля, основываясь на технических характеристиках, комплектации и ценах аналогичных автомобилей, собранных в исторических данных. Для этого необходимо разработать модель, которая быстро и точно определяет стоимость автомобиля.\n",
    "\n",
    "Заказчику важны:\n",
    "\n",
    "- качество предсказания\n",
    "- скорость предсказания\n",
    "- время обучения"
   ]
  },
  {
   "cell_type": "markdown",
   "source": [
    "## Описание данных"
   ],
   "metadata": {
    "collapsed": false
   }
  },
  {
   "cell_type": "markdown",
   "source": [
    "Для повторения проекта можно например использовать готовый датасет с Kaggle: https://www.kaggle.com/code/iabhishekmaurya/used-car-price-prediction\n",
    "\n",
    "\n",
    "- DateCrawled — дата скачивания анкеты из базы\n",
    "- VehicleType — тип автомобильного кузова\n",
    "- RegistrationYear — год регистрации автомобиля\n",
    "- Gearbox — тип коробки передач\n",
    "- Power — мощность (л. с.)\n",
    "- Model — модель автомобиля\n",
    "- Kilometer — пробег (км)\n",
    "- RegistrationMonth — месяц регистрации автомобиля\n",
    "- FuelType — тип топлива\n",
    "- Brand — марка автомобиля\n",
    "- Repaired — была машина в ремонте или нет\n",
    "- DateCreated — дата создания анкеты\n",
    "- NumberOfPictures — количество фотографий автомобиля\n",
    "- PostalCode — почтовый индекс владельца анкеты (пользователя)\n",
    "- LastSeen — дата последней активности пользователя\n",
    "- Price — цена (евро)"
   ],
   "metadata": {
    "collapsed": false
   }
  },
  {
   "cell_type": "markdown",
   "metadata": {},
   "source": [
    "## Подготовка данных"
   ]
  },
  {
   "cell_type": "code",
   "execution_count": 1,
   "metadata": {},
   "outputs": [],
   "source": [
    "import pandas as pd\n",
    "import numpy as np\n",
    "import time\n",
    "\n",
    "from sklearn.model_selection import train_test_split, RandomizedSearchCV\n",
    "from sklearn.preprocessing import StandardScaler, OneHotEncoder, OrdinalEncoder\n",
    "from sklearn.metrics import mean_squared_error\n",
    "from sklearn.linear_model import LinearRegression\n",
    "from sklearn.ensemble import RandomForestRegressor\n",
    "from sklearn.dummy import DummyRegressor\n",
    "from sklearn.pipeline import Pipeline, FeatureUnion\n",
    "from sklearn.base import BaseEstimator, TransformerMixin\n",
    "\n",
    "from lightgbm import LGBMRegressor\n",
    "\n",
    "from catboost import CatBoostRegressor\n",
    "\n",
    "import joblib\n",
    "import re\n",
    "\n",
    "import warnings\n",
    "warnings.filterwarnings('ignore')"
   ]
  },
  {
   "cell_type": "markdown",
   "metadata": {},
   "source": [
    "Создаем random seed и выводим его для воспроизводимости результатов"
   ]
  },
  {
   "cell_type": "code",
   "execution_count": 2,
   "metadata": {},
   "outputs": [
    {
     "name": "stdout",
     "output_type": "stream",
     "text": [
      "11\n"
     ]
    }
   ],
   "source": [
    "# set random seed with random number and print it\n",
    "random_seed = np.random.randint(1000)\n",
    "np.random.seed(793)\n",
    "print(random_seed)"
   ]
  },
  {
   "cell_type": "markdown",
   "metadata": {},
   "source": [
    "Загружаем данные и выводим информацию о них на экран"
   ]
  },
  {
   "cell_type": "code",
   "execution_count": 3,
   "metadata": {},
   "outputs": [],
   "source": [
    "try:\n",
    "    data = pd.read_csv('/datasets/autos.csv')\n",
    "except:\n",
    "    data = pd.read_csv('autos.csv')"
   ]
  },
  {
   "cell_type": "code",
   "execution_count": 4,
   "metadata": {},
   "outputs": [
    {
     "name": "stdout",
     "output_type": "stream",
     "text": [
      "<class 'pandas.core.frame.DataFrame'>\n",
      "RangeIndex: 354369 entries, 0 to 354368\n",
      "Data columns (total 16 columns):\n",
      " #   Column             Non-Null Count   Dtype \n",
      "---  ------             --------------   ----- \n",
      " 0   DateCrawled        354369 non-null  object\n",
      " 1   Price              354369 non-null  int64 \n",
      " 2   VehicleType        316879 non-null  object\n",
      " 3   RegistrationYear   354369 non-null  int64 \n",
      " 4   Gearbox            334536 non-null  object\n",
      " 5   Power              354369 non-null  int64 \n",
      " 6   Model              334664 non-null  object\n",
      " 7   Kilometer          354369 non-null  int64 \n",
      " 8   RegistrationMonth  354369 non-null  int64 \n",
      " 9   FuelType           321474 non-null  object\n",
      " 10  Brand              354369 non-null  object\n",
      " 11  Repaired           283215 non-null  object\n",
      " 12  DateCreated        354369 non-null  object\n",
      " 13  NumberOfPictures   354369 non-null  int64 \n",
      " 14  PostalCode         354369 non-null  int64 \n",
      " 15  LastSeen           354369 non-null  object\n",
      "dtypes: int64(7), object(9)\n",
      "memory usage: 43.3+ MB\n"
     ]
    }
   ],
   "source": [
    "data.info()"
   ]
  },
  {
   "cell_type": "code",
   "execution_count": 5,
   "metadata": {},
   "outputs": [
    {
     "data": {
      "text/html": [
       "<div>\n",
       "<style scoped>\n",
       "    .dataframe tbody tr th:only-of-type {\n",
       "        vertical-align: middle;\n",
       "    }\n",
       "\n",
       "    .dataframe tbody tr th {\n",
       "        vertical-align: top;\n",
       "    }\n",
       "\n",
       "    .dataframe thead th {\n",
       "        text-align: right;\n",
       "    }\n",
       "</style>\n",
       "<table border=\"1\" class=\"dataframe\">\n",
       "  <thead>\n",
       "    <tr style=\"text-align: right;\">\n",
       "      <th></th>\n",
       "      <th>Price</th>\n",
       "      <th>RegistrationYear</th>\n",
       "      <th>Power</th>\n",
       "      <th>Kilometer</th>\n",
       "      <th>RegistrationMonth</th>\n",
       "      <th>NumberOfPictures</th>\n",
       "      <th>PostalCode</th>\n",
       "    </tr>\n",
       "  </thead>\n",
       "  <tbody>\n",
       "    <tr>\n",
       "      <th>count</th>\n",
       "      <td>354369.000000</td>\n",
       "      <td>354369.000000</td>\n",
       "      <td>354369.000000</td>\n",
       "      <td>354369.000000</td>\n",
       "      <td>354369.000000</td>\n",
       "      <td>354369.0</td>\n",
       "      <td>354369.000000</td>\n",
       "    </tr>\n",
       "    <tr>\n",
       "      <th>mean</th>\n",
       "      <td>4416.656776</td>\n",
       "      <td>2004.234448</td>\n",
       "      <td>110.094337</td>\n",
       "      <td>128211.172535</td>\n",
       "      <td>5.714645</td>\n",
       "      <td>0.0</td>\n",
       "      <td>50508.689087</td>\n",
       "    </tr>\n",
       "    <tr>\n",
       "      <th>std</th>\n",
       "      <td>4514.158514</td>\n",
       "      <td>90.227958</td>\n",
       "      <td>189.850405</td>\n",
       "      <td>37905.341530</td>\n",
       "      <td>3.726421</td>\n",
       "      <td>0.0</td>\n",
       "      <td>25783.096248</td>\n",
       "    </tr>\n",
       "    <tr>\n",
       "      <th>min</th>\n",
       "      <td>0.000000</td>\n",
       "      <td>1000.000000</td>\n",
       "      <td>0.000000</td>\n",
       "      <td>5000.000000</td>\n",
       "      <td>0.000000</td>\n",
       "      <td>0.0</td>\n",
       "      <td>1067.000000</td>\n",
       "    </tr>\n",
       "    <tr>\n",
       "      <th>25%</th>\n",
       "      <td>1050.000000</td>\n",
       "      <td>1999.000000</td>\n",
       "      <td>69.000000</td>\n",
       "      <td>125000.000000</td>\n",
       "      <td>3.000000</td>\n",
       "      <td>0.0</td>\n",
       "      <td>30165.000000</td>\n",
       "    </tr>\n",
       "    <tr>\n",
       "      <th>50%</th>\n",
       "      <td>2700.000000</td>\n",
       "      <td>2003.000000</td>\n",
       "      <td>105.000000</td>\n",
       "      <td>150000.000000</td>\n",
       "      <td>6.000000</td>\n",
       "      <td>0.0</td>\n",
       "      <td>49413.000000</td>\n",
       "    </tr>\n",
       "    <tr>\n",
       "      <th>75%</th>\n",
       "      <td>6400.000000</td>\n",
       "      <td>2008.000000</td>\n",
       "      <td>143.000000</td>\n",
       "      <td>150000.000000</td>\n",
       "      <td>9.000000</td>\n",
       "      <td>0.0</td>\n",
       "      <td>71083.000000</td>\n",
       "    </tr>\n",
       "    <tr>\n",
       "      <th>max</th>\n",
       "      <td>20000.000000</td>\n",
       "      <td>9999.000000</td>\n",
       "      <td>20000.000000</td>\n",
       "      <td>150000.000000</td>\n",
       "      <td>12.000000</td>\n",
       "      <td>0.0</td>\n",
       "      <td>99998.000000</td>\n",
       "    </tr>\n",
       "  </tbody>\n",
       "</table>\n",
       "</div>"
      ],
      "text/plain": [
       "               Price  RegistrationYear          Power      Kilometer  \\\n",
       "count  354369.000000     354369.000000  354369.000000  354369.000000   \n",
       "mean     4416.656776       2004.234448     110.094337  128211.172535   \n",
       "std      4514.158514         90.227958     189.850405   37905.341530   \n",
       "min         0.000000       1000.000000       0.000000    5000.000000   \n",
       "25%      1050.000000       1999.000000      69.000000  125000.000000   \n",
       "50%      2700.000000       2003.000000     105.000000  150000.000000   \n",
       "75%      6400.000000       2008.000000     143.000000  150000.000000   \n",
       "max     20000.000000       9999.000000   20000.000000  150000.000000   \n",
       "\n",
       "       RegistrationMonth  NumberOfPictures     PostalCode  \n",
       "count      354369.000000          354369.0  354369.000000  \n",
       "mean            5.714645               0.0   50508.689087  \n",
       "std             3.726421               0.0   25783.096248  \n",
       "min             0.000000               0.0    1067.000000  \n",
       "25%             3.000000               0.0   30165.000000  \n",
       "50%             6.000000               0.0   49413.000000  \n",
       "75%             9.000000               0.0   71083.000000  \n",
       "max            12.000000               0.0   99998.000000  "
      ]
     },
     "execution_count": 5,
     "metadata": {},
     "output_type": "execute_result"
    }
   ],
   "source": [
    "data.describe()"
   ]
  },
  {
   "cell_type": "code",
   "execution_count": 6,
   "metadata": {},
   "outputs": [
    {
     "data": {
      "text/html": [
       "<div>\n",
       "<style scoped>\n",
       "    .dataframe tbody tr th:only-of-type {\n",
       "        vertical-align: middle;\n",
       "    }\n",
       "\n",
       "    .dataframe tbody tr th {\n",
       "        vertical-align: top;\n",
       "    }\n",
       "\n",
       "    .dataframe thead th {\n",
       "        text-align: right;\n",
       "    }\n",
       "</style>\n",
       "<table border=\"1\" class=\"dataframe\">\n",
       "  <thead>\n",
       "    <tr style=\"text-align: right;\">\n",
       "      <th></th>\n",
       "      <th>DateCrawled</th>\n",
       "      <th>Price</th>\n",
       "      <th>VehicleType</th>\n",
       "      <th>RegistrationYear</th>\n",
       "      <th>Gearbox</th>\n",
       "      <th>Power</th>\n",
       "      <th>Model</th>\n",
       "      <th>Kilometer</th>\n",
       "      <th>RegistrationMonth</th>\n",
       "      <th>FuelType</th>\n",
       "      <th>Brand</th>\n",
       "      <th>Repaired</th>\n",
       "      <th>DateCreated</th>\n",
       "      <th>NumberOfPictures</th>\n",
       "      <th>PostalCode</th>\n",
       "      <th>LastSeen</th>\n",
       "    </tr>\n",
       "  </thead>\n",
       "  <tbody>\n",
       "    <tr>\n",
       "      <th>0</th>\n",
       "      <td>2016-03-24 11:52:17</td>\n",
       "      <td>480</td>\n",
       "      <td>NaN</td>\n",
       "      <td>1993</td>\n",
       "      <td>manual</td>\n",
       "      <td>0</td>\n",
       "      <td>golf</td>\n",
       "      <td>150000</td>\n",
       "      <td>0</td>\n",
       "      <td>petrol</td>\n",
       "      <td>volkswagen</td>\n",
       "      <td>NaN</td>\n",
       "      <td>2016-03-24 00:00:00</td>\n",
       "      <td>0</td>\n",
       "      <td>70435</td>\n",
       "      <td>2016-04-07 03:16:57</td>\n",
       "    </tr>\n",
       "    <tr>\n",
       "      <th>1</th>\n",
       "      <td>2016-03-24 10:58:45</td>\n",
       "      <td>18300</td>\n",
       "      <td>coupe</td>\n",
       "      <td>2011</td>\n",
       "      <td>manual</td>\n",
       "      <td>190</td>\n",
       "      <td>NaN</td>\n",
       "      <td>125000</td>\n",
       "      <td>5</td>\n",
       "      <td>gasoline</td>\n",
       "      <td>audi</td>\n",
       "      <td>yes</td>\n",
       "      <td>2016-03-24 00:00:00</td>\n",
       "      <td>0</td>\n",
       "      <td>66954</td>\n",
       "      <td>2016-04-07 01:46:50</td>\n",
       "    </tr>\n",
       "    <tr>\n",
       "      <th>2</th>\n",
       "      <td>2016-03-14 12:52:21</td>\n",
       "      <td>9800</td>\n",
       "      <td>suv</td>\n",
       "      <td>2004</td>\n",
       "      <td>auto</td>\n",
       "      <td>163</td>\n",
       "      <td>grand</td>\n",
       "      <td>125000</td>\n",
       "      <td>8</td>\n",
       "      <td>gasoline</td>\n",
       "      <td>jeep</td>\n",
       "      <td>NaN</td>\n",
       "      <td>2016-03-14 00:00:00</td>\n",
       "      <td>0</td>\n",
       "      <td>90480</td>\n",
       "      <td>2016-04-05 12:47:46</td>\n",
       "    </tr>\n",
       "    <tr>\n",
       "      <th>3</th>\n",
       "      <td>2016-03-17 16:54:04</td>\n",
       "      <td>1500</td>\n",
       "      <td>small</td>\n",
       "      <td>2001</td>\n",
       "      <td>manual</td>\n",
       "      <td>75</td>\n",
       "      <td>golf</td>\n",
       "      <td>150000</td>\n",
       "      <td>6</td>\n",
       "      <td>petrol</td>\n",
       "      <td>volkswagen</td>\n",
       "      <td>no</td>\n",
       "      <td>2016-03-17 00:00:00</td>\n",
       "      <td>0</td>\n",
       "      <td>91074</td>\n",
       "      <td>2016-03-17 17:40:17</td>\n",
       "    </tr>\n",
       "    <tr>\n",
       "      <th>4</th>\n",
       "      <td>2016-03-31 17:25:20</td>\n",
       "      <td>3600</td>\n",
       "      <td>small</td>\n",
       "      <td>2008</td>\n",
       "      <td>manual</td>\n",
       "      <td>69</td>\n",
       "      <td>fabia</td>\n",
       "      <td>90000</td>\n",
       "      <td>7</td>\n",
       "      <td>gasoline</td>\n",
       "      <td>skoda</td>\n",
       "      <td>no</td>\n",
       "      <td>2016-03-31 00:00:00</td>\n",
       "      <td>0</td>\n",
       "      <td>60437</td>\n",
       "      <td>2016-04-06 10:17:21</td>\n",
       "    </tr>\n",
       "  </tbody>\n",
       "</table>\n",
       "</div>"
      ],
      "text/plain": [
       "           DateCrawled  Price VehicleType  RegistrationYear Gearbox  Power  \\\n",
       "0  2016-03-24 11:52:17    480         NaN              1993  manual      0   \n",
       "1  2016-03-24 10:58:45  18300       coupe              2011  manual    190   \n",
       "2  2016-03-14 12:52:21   9800         suv              2004    auto    163   \n",
       "3  2016-03-17 16:54:04   1500       small              2001  manual     75   \n",
       "4  2016-03-31 17:25:20   3600       small              2008  manual     69   \n",
       "\n",
       "   Model  Kilometer  RegistrationMonth  FuelType       Brand Repaired  \\\n",
       "0   golf     150000                  0    petrol  volkswagen      NaN   \n",
       "1    NaN     125000                  5  gasoline        audi      yes   \n",
       "2  grand     125000                  8  gasoline        jeep      NaN   \n",
       "3   golf     150000                  6    petrol  volkswagen       no   \n",
       "4  fabia      90000                  7  gasoline       skoda       no   \n",
       "\n",
       "           DateCreated  NumberOfPictures  PostalCode             LastSeen  \n",
       "0  2016-03-24 00:00:00                 0       70435  2016-04-07 03:16:57  \n",
       "1  2016-03-24 00:00:00                 0       66954  2016-04-07 01:46:50  \n",
       "2  2016-03-14 00:00:00                 0       90480  2016-04-05 12:47:46  \n",
       "3  2016-03-17 00:00:00                 0       91074  2016-03-17 17:40:17  \n",
       "4  2016-03-31 00:00:00                 0       60437  2016-04-06 10:17:21  "
      ]
     },
     "execution_count": 6,
     "metadata": {},
     "output_type": "execute_result"
    }
   ],
   "source": [
    "data.head(5)"
   ]
  },
  {
   "cell_type": "markdown",
   "metadata": {},
   "source": [
    "Можем наблюдать, что в данных есть пропуски в столбцах `vehicle_type`, `gearbox`, `model`, `fuel_type`, `repaired`. Также в столбце `registration_year` есть некорректные значения, так как автомобили не могут быть зарегистрированы в будущем. Также в столбце power есть некорректные значения, так как мощность автомобиля только в очень редких случаях может быть больше 1000 л.с. Также в столбце price есть некорректные значения, так как цена очень маловероятно может быть меньше 500 евро. Также в столбце name есть некорректные значения, так как название не может быть пустым.\n",
    "Помимо этого, в таблице присутствуют данные, которые не понадобятся при обучении модели, такие как `date_crawled`, `date_created`, `postal_code`, `last_seen`, `number_of_pictures`. Они не могут быть использованы для обучения модели, так как они не несут в себе никакой информации, которая поможет предсказать цену автомобиля."
   ]
  },
  {
   "cell_type": "code",
   "execution_count": 7,
   "metadata": {},
   "outputs": [],
   "source": [
    "# columns to snake case from camel case\n",
    "def camel_to_snake(name):\n",
    "    s1 = re.sub('(.)([A-Z][a-z]+)', r'\\1_\\2', name)\n",
    "    return re.sub('([a-z0-9])([A-Z])', r'\\1_\\2', s1).lower()\n",
    "\n",
    "\n",
    "data.columns = [camel_to_snake(col) for col in data.columns]"
   ]
  },
  {
   "cell_type": "markdown",
   "metadata": {},
   "source": [
    "Создаем и применяем функцию для изменения типа записи столбцов из CamelCase в snake_case."
   ]
  },
  {
   "cell_type": "code",
   "execution_count": 8,
   "metadata": {},
   "outputs": [],
   "source": [
    "# drop useless columns\n",
    "data = data.drop(['date_crawled', 'date_created', 'postal_code', 'last_seen', 'number_of_pictures'], axis=1)"
   ]
  },
  {
   "cell_type": "markdown",
   "metadata": {},
   "source": [
    "Удаляем столбцы, которые не несут в себе никакой информации, которая поможет предсказать цену автомобиля."
   ]
  },
  {
   "cell_type": "code",
   "execution_count": 9,
   "metadata": {},
   "outputs": [
    {
     "name": "stdout",
     "output_type": "stream",
     "text": [
      "27543\n"
     ]
    }
   ],
   "source": [
    "# drop duplicates\n",
    "print(data.duplicated().sum())\n",
    "data = data.drop_duplicates().reset_index(drop=True)"
   ]
  },
  {
   "cell_type": "markdown",
   "metadata": {},
   "source": [
    "Так как в данных есть отслеживание объявления на протяжении времени в выборке не переменно появляются дубликаты (вывод сверху доказывает это). Удаляем их."
   ]
  },
  {
   "cell_type": "code",
   "execution_count": 10,
   "metadata": {},
   "outputs": [
    {
     "data": {
      "text/plain": [
       "33493"
      ]
     },
     "execution_count": 10,
     "metadata": {},
     "output_type": "execute_result"
    }
   ],
   "source": [
    "data.query('price < 500')['price'].count()"
   ]
  },
  {
   "cell_type": "code",
   "execution_count": 11,
   "metadata": {},
   "outputs": [],
   "source": [
    "# drop rows with price less than 100\n",
    "data = data.query('price > 500')\n",
    "\n",
    "# drop rows with nan values in column price\n",
    "data = data.dropna(subset=['price'])"
   ]
  },
  {
   "cell_type": "markdown",
   "metadata": {},
   "source": [
    "Удаляем строки с ценой меньше 500 евро, так как цена очень маловероятно может быть меньше 500 евро. Также удаляем строки с пустыми значениями в столбце price. Так как строки с пустыми значениями в столбце price невозможно использовать для обучения модели."
   ]
  },
  {
   "cell_type": "code",
   "execution_count": 12,
   "metadata": {},
   "outputs": [
    {
     "data": {
      "text/plain": [
       "2017    8640\n",
       "2018    3521\n",
       "2019      11\n",
       "9999      10\n",
       "5000       9\n",
       "6000       4\n",
       "7000       3\n",
       "4500       2\n",
       "9000       2\n",
       "4000       2\n",
       "3000       2\n",
       "2900       1\n",
       "4100       1\n",
       "5300       1\n",
       "5911       1\n",
       "9450       1\n",
       "3700       1\n",
       "8500       1\n",
       "7800       1\n",
       "2500       1\n",
       "8888       1\n",
       "2800       1\n",
       "2290       1\n",
       "2066       1\n",
       "5555       1\n",
       "3200       1\n",
       "7100       1\n",
       "Name: registration_year, dtype: int64"
      ]
     },
     "execution_count": 12,
     "metadata": {},
     "output_type": "execute_result"
    }
   ],
   "source": [
    "data.query('registration_year > 2016')['registration_year'].value_counts()"
   ]
  },
  {
   "cell_type": "code",
   "execution_count": 13,
   "metadata": {},
   "outputs": [],
   "source": [
    "# fill outliers in column registration_year with median\n",
    "data.loc[data['registration_year'] > 2016, 'registration_year'] = data['registration_year'].median()"
   ]
  },
  {
   "cell_type": "markdown",
   "metadata": {},
   "source": [
    "Заменяем некорректные значения в столбце registration_year на медиану, так как автомобили не могут быть зарегистрированы в будущем."
   ]
  },
  {
   "cell_type": "code",
   "execution_count": 14,
   "metadata": {},
   "outputs": [],
   "source": [
    "# replace outliers in column power more than 1000 with values / 10\n",
    "data.loc[data['power'] > 1000, 'power'] = data['power'] / 10\n",
    "data = data.query('power < 1000')"
   ]
  },
  {
   "cell_type": "markdown",
   "metadata": {},
   "source": [
    "Заменяем некорректные значения в столбце power на значения деленные на 10, так как мощность автомобиля только в очень редких случаях может быть больше 1000 л.с. Также удаляем строки с мощностью больше 1000 л.с. (после деления аномальных значений на 10)."
   ]
  },
  {
   "cell_type": "code",
   "execution_count": 15,
   "metadata": {},
   "outputs": [],
   "source": [
    "# fill nan values in columns vehicle_type, gearbox, model, fuel_type, brand with unknown\n",
    "for col in ['vehicle_type', 'gearbox', 'model', 'fuel_type', 'brand']:\n",
    "    data[col] = data[col].fillna('unknown')"
   ]
  },
  {
   "cell_type": "markdown",
   "metadata": {},
   "source": [
    "Заменяем пустые значения в столбцах vehicle_type, gearbox, model, fuel_type, brand на unknown, так как название не может быть пустым."
   ]
  },
  {
   "cell_type": "code",
   "execution_count": 16,
   "metadata": {},
   "outputs": [],
   "source": [
    "# fill nan values in column repaired with 0 and values yes with 1 and no with 0 and convert to bool\n",
    "data['repaired'] = data['repaired'].fillna(0)\n",
    "data.loc[data['repaired'] == 'yes', 'repaired'] = 1\n",
    "data.loc[data['repaired'] == 'no', 'repaired'] = 0\n",
    "data['repaired'] = data['repaired'].astype('bool')"
   ]
  },
  {
   "cell_type": "markdown",
   "metadata": {},
   "source": [
    "Заменяем пустые значения в столбце repaired на 0, так как если значение не указано, то автомобиль вероятно не был в ремонте. Заменяем значения yes на 1 и no на 0. Преобразуем столбец в тип bool."
   ]
  },
  {
   "cell_type": "code",
   "execution_count": 17,
   "metadata": {},
   "outputs": [
    {
     "name": "stdout",
     "output_type": "stream",
     "text": [
      "3086\n"
     ]
    }
   ],
   "source": [
    "# show duplicates and drop them\n",
    "print(data.duplicated().sum())\n",
    "data = data.drop_duplicates().reset_index(drop=True)"
   ]
  },
  {
   "cell_type": "markdown",
   "metadata": {},
   "source": [
    "Проверяем наличие дубликатов после всех преобразований и удаляем их. Так как дубликаты появились в ходе преобразований."
   ]
  },
  {
   "cell_type": "code",
   "execution_count": 18,
   "metadata": {},
   "outputs": [],
   "source": [
    "# split data to features and target\n",
    "features = data.drop(['price'], axis=1)\n",
    "target = data['price']"
   ]
  },
  {
   "cell_type": "code",
   "execution_count": 19,
   "metadata": {},
   "outputs": [],
   "source": [
    "# split data to train valid and test sets\n",
    "features_train, features_valid, target_train, target_valid = train_test_split(\n",
    "    features, target, test_size=0.4, stratify=features['brand'])\n",
    "features_valid, features_test, target_valid, target_test = train_test_split(\n",
    "    features_valid, target_valid, test_size=0.5, stratify=features_valid['brand'])"
   ]
  },
  {
   "cell_type": "code",
   "execution_count": 20,
   "metadata": {},
   "outputs": [],
   "source": [
    "# join train and valid sets\n",
    "features_train_valid = pd.concat([features_train, features_valid])\n",
    "target_train_valid = pd.concat([target_train, target_valid])"
   ]
  },
  {
   "cell_type": "markdown",
   "metadata": {},
   "source": [
    "Разделяем данные на признаки и целевой признак. Разделяем данные на обучающую, валидационную и тестовую выборки. В соотношении 60% - 20% - 20%. Также объединяем обучающую и валидационную выборки для дальнейшего использования в кросс-валидации."
   ]
  },
  {
   "cell_type": "code",
   "execution_count": 21,
   "metadata": {},
   "outputs": [],
   "source": [
    "# scale features for columns registration_year, power, kilometer, registration_month and create new dataframes\n",
    "scaler = StandardScaler()\n",
    "columns_num = ['registration_year', 'power', 'kilometer', 'registration_month']\n",
    "scaler.fit(features_train[columns_num])\n",
    "features_train_valid_scaled = pd.DataFrame(scaler.transform(features_train_valid[columns_num]), columns=columns_num)\n",
    "features_train_scaled = pd.DataFrame(scaler.transform(features_train[columns_num]), columns=columns_num)\n",
    "features_valid_scaled = pd.DataFrame(scaler.transform(features_valid[columns_num]), columns=columns_num)\n",
    "features_test_scaled = pd.DataFrame(scaler.transform(features_test[columns_num]), columns=columns_num)"
   ]
  },
  {
   "cell_type": "markdown",
   "metadata": {},
   "source": [
    "Масштабируем признаки для колонок registration_year, power, kilometer, registration_month. Так как в данных есть числовые признаки, которые необходимо масштабировать. Так модель будет показывать более устойчивые результаты."
   ]
  },
  {
   "cell_type": "code",
   "execution_count": 22,
   "metadata": {},
   "outputs": [],
   "source": [
    "#  use OneHotEncoder for columns vehicle_type, gearbox, model, fuel_type, brand without dummy trap\n",
    "encoder = OneHotEncoder(handle_unknown='ignore')\n",
    "columns_cat = ['vehicle_type', 'gearbox', 'model', 'fuel_type', 'brand', 'repaired']\n",
    "encoder.fit(features_train_valid[columns_cat])\n",
    "features_train_valid_ohe = pd.DataFrame(encoder.transform(features_train_valid[columns_cat]).toarray(), columns=encoder.get_feature_names(columns_cat))\n",
    "features_train_ohe = pd.DataFrame(encoder.transform(features_train[columns_cat]).toarray(), columns=encoder.get_feature_names(columns_cat))\n",
    "features_valid_ohe = pd.DataFrame(encoder.transform(features_valid[columns_cat]).toarray(), columns=encoder.get_feature_names(columns_cat))\n",
    "features_test_ohe = pd.DataFrame(encoder.transform(features_test[columns_cat]).toarray(), columns=encoder.get_feature_names(columns_cat))"
   ]
  },
  {
   "cell_type": "markdown",
   "metadata": {},
   "source": [
    "Преобразуем категориальные признаки в числовые с помощью OneHotEncoder для колонок vehicle_type, gearbox, model, fuel_type, brand. Так как в данных есть категориальные признаки, которые необходимо преобразовать в числовые. Также используем параметр drop='first', чтобы избежать dummy trap."
   ]
  },
  {
   "cell_type": "code",
   "execution_count": 23,
   "metadata": {},
   "outputs": [],
   "source": [
    "#  use  OrdinalEncoder for columns vehicle_type, gearbox, model, fuel_type, brand and create join to current data new with encoded features\n",
    "encoder = OrdinalEncoder(unknown_value=9999, handle_unknown='use_encoded_value')\n",
    "encoder.fit(features_train_valid[columns_cat])\n",
    "features_train_valid_oe = pd.DataFrame(encoder.transform(features_train_valid[columns_cat]), columns=columns_cat)\n",
    "features_train_oe = pd.DataFrame(encoder.transform(features_train[columns_cat]), columns=columns_cat)\n",
    "features_valid_oe = pd.DataFrame(encoder.transform(features_valid[columns_cat]), columns=columns_cat)\n",
    "features_test_oe = pd.DataFrame(encoder.transform(features_test[columns_cat]), columns=columns_cat)"
   ]
  },
  {
   "cell_type": "code",
   "execution_count": 24,
   "metadata": {},
   "outputs": [],
   "source": [
    "# join scaled and encoded features\n",
    "features_train_valid_ohe = pd.concat([features_train_valid_scaled, features_train_valid_ohe], axis=1)\n",
    "features_train_ohe = pd.concat([features_train_scaled, features_train_ohe], axis=1)\n",
    "features_valid_ohe = pd.concat([features_valid_scaled, features_valid_ohe], axis=1)\n",
    "features_test_ohe = pd.concat([features_test_scaled, features_test_ohe], axis=1)\n",
    "\n",
    "features_train_valid_oe = pd.concat([features_train_valid_scaled, features_train_valid_oe], axis=1)\n",
    "features_train_oe = pd.concat([features_train_scaled, features_train_oe], axis=1)\n",
    "features_valid_oe = pd.concat([features_valid_scaled, features_valid_oe], axis=1)\n",
    "features_test_oe = pd.concat([features_test_scaled, features_test_oe], axis=1)"
   ]
  },
  {
   "cell_type": "code",
   "execution_count": 25,
   "metadata": {},
   "outputs": [
    {
     "data": {
      "text/plain": [
       "((170940, 10), (56980, 10), (56981, 10), (170940,), (56980,), (56981,))"
      ]
     },
     "execution_count": 25,
     "metadata": {},
     "output_type": "execute_result"
    }
   ],
   "source": [
    "# show train, valid and test sets sizes (features and target)\n",
    "(\n",
    "    features_train.shape,\n",
    "    features_valid.shape,\n",
    "    features_test.shape,\n",
    "    target_train.shape,\n",
    "    target_valid.shape,\n",
    "    target_test.shape\n",
    ")"
   ]
  },
  {
   "cell_type": "markdown",
   "metadata": {},
   "source": [
    "Проверяем размеры обучающей, валидационной и тестовой выборок. Так как во время разделения данных на выборки могли возникнуть ошибки."
   ]
  },
  {
   "cell_type": "code",
   "execution_count": 26,
   "metadata": {},
   "outputs": [
    {
     "data": {
      "text/html": [
       "<div>\n",
       "<style scoped>\n",
       "    .dataframe tbody tr th:only-of-type {\n",
       "        vertical-align: middle;\n",
       "    }\n",
       "\n",
       "    .dataframe tbody tr th {\n",
       "        vertical-align: top;\n",
       "    }\n",
       "\n",
       "    .dataframe thead th {\n",
       "        text-align: right;\n",
       "    }\n",
       "</style>\n",
       "<table border=\"1\" class=\"dataframe\">\n",
       "  <thead>\n",
       "    <tr style=\"text-align: right;\">\n",
       "      <th></th>\n",
       "      <th>registration_year</th>\n",
       "      <th>power</th>\n",
       "      <th>kilometer</th>\n",
       "      <th>registration_month</th>\n",
       "      <th>vehicle_type_bus</th>\n",
       "      <th>vehicle_type_convertible</th>\n",
       "      <th>vehicle_type_coupe</th>\n",
       "      <th>vehicle_type_other</th>\n",
       "      <th>vehicle_type_sedan</th>\n",
       "      <th>vehicle_type_small</th>\n",
       "      <th>...</th>\n",
       "      <th>brand_smart</th>\n",
       "      <th>brand_sonstige_autos</th>\n",
       "      <th>brand_subaru</th>\n",
       "      <th>brand_suzuki</th>\n",
       "      <th>brand_toyota</th>\n",
       "      <th>brand_trabant</th>\n",
       "      <th>brand_volkswagen</th>\n",
       "      <th>brand_volvo</th>\n",
       "      <th>repaired_False</th>\n",
       "      <th>repaired_True</th>\n",
       "    </tr>\n",
       "  </thead>\n",
       "  <tbody>\n",
       "    <tr>\n",
       "      <th>0</th>\n",
       "      <td>-1.312859</td>\n",
       "      <td>-0.684216</td>\n",
       "      <td>0.597534</td>\n",
       "      <td>1.125604</td>\n",
       "      <td>0.0</td>\n",
       "      <td>0.0</td>\n",
       "      <td>0.0</td>\n",
       "      <td>0.0</td>\n",
       "      <td>1.0</td>\n",
       "      <td>0.0</td>\n",
       "      <td>...</td>\n",
       "      <td>0.0</td>\n",
       "      <td>0.0</td>\n",
       "      <td>0.0</td>\n",
       "      <td>0.0</td>\n",
       "      <td>0.0</td>\n",
       "      <td>0.0</td>\n",
       "      <td>1.0</td>\n",
       "      <td>0.0</td>\n",
       "      <td>1.0</td>\n",
       "      <td>0.0</td>\n",
       "    </tr>\n",
       "    <tr>\n",
       "      <th>1</th>\n",
       "      <td>-0.197225</td>\n",
       "      <td>0.594580</td>\n",
       "      <td>0.597534</td>\n",
       "      <td>1.400253</td>\n",
       "      <td>0.0</td>\n",
       "      <td>0.0</td>\n",
       "      <td>0.0</td>\n",
       "      <td>0.0</td>\n",
       "      <td>0.0</td>\n",
       "      <td>0.0</td>\n",
       "      <td>...</td>\n",
       "      <td>0.0</td>\n",
       "      <td>0.0</td>\n",
       "      <td>0.0</td>\n",
       "      <td>0.0</td>\n",
       "      <td>0.0</td>\n",
       "      <td>0.0</td>\n",
       "      <td>1.0</td>\n",
       "      <td>0.0</td>\n",
       "      <td>0.0</td>\n",
       "      <td>1.0</td>\n",
       "    </tr>\n",
       "    <tr>\n",
       "      <th>2</th>\n",
       "      <td>0.411303</td>\n",
       "      <td>1.131359</td>\n",
       "      <td>0.597534</td>\n",
       "      <td>0.027007</td>\n",
       "      <td>0.0</td>\n",
       "      <td>0.0</td>\n",
       "      <td>0.0</td>\n",
       "      <td>0.0</td>\n",
       "      <td>1.0</td>\n",
       "      <td>0.0</td>\n",
       "      <td>...</td>\n",
       "      <td>0.0</td>\n",
       "      <td>0.0</td>\n",
       "      <td>0.0</td>\n",
       "      <td>0.0</td>\n",
       "      <td>0.0</td>\n",
       "      <td>0.0</td>\n",
       "      <td>0.0</td>\n",
       "      <td>0.0</td>\n",
       "      <td>0.0</td>\n",
       "      <td>1.0</td>\n",
       "    </tr>\n",
       "    <tr>\n",
       "      <th>3</th>\n",
       "      <td>1.019830</td>\n",
       "      <td>-0.115862</td>\n",
       "      <td>-2.338692</td>\n",
       "      <td>0.576306</td>\n",
       "      <td>1.0</td>\n",
       "      <td>0.0</td>\n",
       "      <td>0.0</td>\n",
       "      <td>0.0</td>\n",
       "      <td>0.0</td>\n",
       "      <td>0.0</td>\n",
       "      <td>...</td>\n",
       "      <td>0.0</td>\n",
       "      <td>0.0</td>\n",
       "      <td>0.0</td>\n",
       "      <td>0.0</td>\n",
       "      <td>0.0</td>\n",
       "      <td>0.0</td>\n",
       "      <td>0.0</td>\n",
       "      <td>0.0</td>\n",
       "      <td>1.0</td>\n",
       "      <td>0.0</td>\n",
       "    </tr>\n",
       "    <tr>\n",
       "      <th>4</th>\n",
       "      <td>-0.501489</td>\n",
       "      <td>-0.826305</td>\n",
       "      <td>0.597534</td>\n",
       "      <td>0.027007</td>\n",
       "      <td>0.0</td>\n",
       "      <td>0.0</td>\n",
       "      <td>0.0</td>\n",
       "      <td>0.0</td>\n",
       "      <td>0.0</td>\n",
       "      <td>1.0</td>\n",
       "      <td>...</td>\n",
       "      <td>0.0</td>\n",
       "      <td>0.0</td>\n",
       "      <td>0.0</td>\n",
       "      <td>0.0</td>\n",
       "      <td>0.0</td>\n",
       "      <td>0.0</td>\n",
       "      <td>1.0</td>\n",
       "      <td>0.0</td>\n",
       "      <td>1.0</td>\n",
       "      <td>0.0</td>\n",
       "    </tr>\n",
       "  </tbody>\n",
       "</table>\n",
       "<p>5 rows × 316 columns</p>\n",
       "</div>"
      ],
      "text/plain": [
       "   registration_year     power  kilometer  registration_month  \\\n",
       "0          -1.312859 -0.684216   0.597534            1.125604   \n",
       "1          -0.197225  0.594580   0.597534            1.400253   \n",
       "2           0.411303  1.131359   0.597534            0.027007   \n",
       "3           1.019830 -0.115862  -2.338692            0.576306   \n",
       "4          -0.501489 -0.826305   0.597534            0.027007   \n",
       "\n",
       "   vehicle_type_bus  vehicle_type_convertible  vehicle_type_coupe  \\\n",
       "0               0.0                       0.0                 0.0   \n",
       "1               0.0                       0.0                 0.0   \n",
       "2               0.0                       0.0                 0.0   \n",
       "3               1.0                       0.0                 0.0   \n",
       "4               0.0                       0.0                 0.0   \n",
       "\n",
       "   vehicle_type_other  vehicle_type_sedan  vehicle_type_small  ...  \\\n",
       "0                 0.0                 1.0                 0.0  ...   \n",
       "1                 0.0                 0.0                 0.0  ...   \n",
       "2                 0.0                 1.0                 0.0  ...   \n",
       "3                 0.0                 0.0                 0.0  ...   \n",
       "4                 0.0                 0.0                 1.0  ...   \n",
       "\n",
       "   brand_smart  brand_sonstige_autos  brand_subaru  brand_suzuki  \\\n",
       "0          0.0                   0.0           0.0           0.0   \n",
       "1          0.0                   0.0           0.0           0.0   \n",
       "2          0.0                   0.0           0.0           0.0   \n",
       "3          0.0                   0.0           0.0           0.0   \n",
       "4          0.0                   0.0           0.0           0.0   \n",
       "\n",
       "   brand_toyota  brand_trabant  brand_volkswagen  brand_volvo  repaired_False  \\\n",
       "0           0.0            0.0               1.0          0.0             1.0   \n",
       "1           0.0            0.0               1.0          0.0             0.0   \n",
       "2           0.0            0.0               0.0          0.0             0.0   \n",
       "3           0.0            0.0               0.0          0.0             1.0   \n",
       "4           0.0            0.0               1.0          0.0             1.0   \n",
       "\n",
       "   repaired_True  \n",
       "0            0.0  \n",
       "1            1.0  \n",
       "2            1.0  \n",
       "3            0.0  \n",
       "4            0.0  \n",
       "\n",
       "[5 rows x 316 columns]"
      ]
     },
     "execution_count": 26,
     "metadata": {},
     "output_type": "execute_result"
    }
   ],
   "source": [
    "features_train_valid_ohe.head(5)"
   ]
  },
  {
   "cell_type": "code",
   "execution_count": 27,
   "metadata": {},
   "outputs": [
    {
     "data": {
      "text/html": [
       "<div>\n",
       "<style scoped>\n",
       "    .dataframe tbody tr th:only-of-type {\n",
       "        vertical-align: middle;\n",
       "    }\n",
       "\n",
       "    .dataframe tbody tr th {\n",
       "        vertical-align: top;\n",
       "    }\n",
       "\n",
       "    .dataframe thead th {\n",
       "        text-align: right;\n",
       "    }\n",
       "</style>\n",
       "<table border=\"1\" class=\"dataframe\">\n",
       "  <thead>\n",
       "    <tr style=\"text-align: right;\">\n",
       "      <th></th>\n",
       "      <th>registration_year</th>\n",
       "      <th>power</th>\n",
       "      <th>kilometer</th>\n",
       "      <th>registration_month</th>\n",
       "      <th>vehicle_type</th>\n",
       "      <th>gearbox</th>\n",
       "      <th>model</th>\n",
       "      <th>fuel_type</th>\n",
       "      <th>brand</th>\n",
       "      <th>repaired</th>\n",
       "    </tr>\n",
       "  </thead>\n",
       "  <tbody>\n",
       "    <tr>\n",
       "      <th>0</th>\n",
       "      <td>-1.312859</td>\n",
       "      <td>-0.684216</td>\n",
       "      <td>0.597534</td>\n",
       "      <td>1.125604</td>\n",
       "      <td>4.0</td>\n",
       "      <td>0.0</td>\n",
       "      <td>116.0</td>\n",
       "      <td>6.0</td>\n",
       "      <td>38.0</td>\n",
       "      <td>0.0</td>\n",
       "    </tr>\n",
       "    <tr>\n",
       "      <th>1</th>\n",
       "      <td>-0.197225</td>\n",
       "      <td>0.594580</td>\n",
       "      <td>0.597534</td>\n",
       "      <td>1.400253</td>\n",
       "      <td>8.0</td>\n",
       "      <td>0.0</td>\n",
       "      <td>227.0</td>\n",
       "      <td>2.0</td>\n",
       "      <td>38.0</td>\n",
       "      <td>1.0</td>\n",
       "    </tr>\n",
       "    <tr>\n",
       "      <th>2</th>\n",
       "      <td>0.411303</td>\n",
       "      <td>1.131359</td>\n",
       "      <td>0.597534</td>\n",
       "      <td>0.027007</td>\n",
       "      <td>4.0</td>\n",
       "      <td>0.0</td>\n",
       "      <td>95.0</td>\n",
       "      <td>2.0</td>\n",
       "      <td>20.0</td>\n",
       "      <td>1.0</td>\n",
       "    </tr>\n",
       "    <tr>\n",
       "      <th>3</th>\n",
       "      <td>1.019830</td>\n",
       "      <td>-0.115862</td>\n",
       "      <td>-2.338692</td>\n",
       "      <td>0.576306</td>\n",
       "      <td>0.0</td>\n",
       "      <td>1.0</td>\n",
       "      <td>38.0</td>\n",
       "      <td>2.0</td>\n",
       "      <td>30.0</td>\n",
       "      <td>0.0</td>\n",
       "    </tr>\n",
       "    <tr>\n",
       "      <th>4</th>\n",
       "      <td>-0.501489</td>\n",
       "      <td>-0.826305</td>\n",
       "      <td>0.597534</td>\n",
       "      <td>0.027007</td>\n",
       "      <td>5.0</td>\n",
       "      <td>1.0</td>\n",
       "      <td>173.0</td>\n",
       "      <td>7.0</td>\n",
       "      <td>38.0</td>\n",
       "      <td>0.0</td>\n",
       "    </tr>\n",
       "  </tbody>\n",
       "</table>\n",
       "</div>"
      ],
      "text/plain": [
       "   registration_year     power  kilometer  registration_month  vehicle_type  \\\n",
       "0          -1.312859 -0.684216   0.597534            1.125604           4.0   \n",
       "1          -0.197225  0.594580   0.597534            1.400253           8.0   \n",
       "2           0.411303  1.131359   0.597534            0.027007           4.0   \n",
       "3           1.019830 -0.115862  -2.338692            0.576306           0.0   \n",
       "4          -0.501489 -0.826305   0.597534            0.027007           5.0   \n",
       "\n",
       "   gearbox  model  fuel_type  brand  repaired  \n",
       "0      0.0  116.0        6.0   38.0       0.0  \n",
       "1      0.0  227.0        2.0   38.0       1.0  \n",
       "2      0.0   95.0        2.0   20.0       1.0  \n",
       "3      1.0   38.0        2.0   30.0       0.0  \n",
       "4      1.0  173.0        7.0   38.0       0.0  "
      ]
     },
     "execution_count": 27,
     "metadata": {},
     "output_type": "execute_result"
    }
   ],
   "source": [
    "features_train_valid_oe.head(5)"
   ]
  },
  {
   "cell_type": "markdown",
   "metadata": {},
   "source": [
    "Проверяем как выглядят данные после всех преобразований."
   ]
  },
  {
   "cell_type": "code",
   "execution_count": 28,
   "metadata": {},
   "outputs": [],
   "source": [
    "# del unused variables\n",
    "del features_train_valid_scaled, features_train_scaled, features_valid_scaled, features_test_scaled"
   ]
  },
  {
   "cell_type": "markdown",
   "metadata": {},
   "source": [
    "Удаляем неиспользуемые переменные. Чтобы не засорять память."
   ]
  },
  {
   "cell_type": "markdown",
   "metadata": {},
   "source": [
    "## Обучение и анализ моделей"
   ]
  },
  {
   "cell_type": "code",
   "execution_count": 29,
   "metadata": {},
   "outputs": [],
   "source": [
    "# define function to train and test model. Show RMSE, time to train and time to predict\n",
    "def train_model(model, features_train, target_train, features_valid, target_valid, model_name):\n",
    "    start_time = time.time()\n",
    "    model.fit(features_train, target_train)\n",
    "    train_time = time.time() - start_time\n",
    "    start_time = time.time()\n",
    "    predictions = model.predict(features_valid)\n",
    "    predict_time = time.time() - start_time\n",
    "    rmse = mean_squared_error(target_valid, predictions) ** 0.5\n",
    "    print(f'{model_name} RMSE: {rmse:.1f} | train time: {train_time:.2f} / rows: {len(features_train)} | predict time: {predict_time:.2f} / rows: {len(features_valid)}')"
   ]
  },
  {
   "cell_type": "markdown",
   "metadata": {},
   "source": [
    "Создаем функцию для обучения и тестирования модели. Выводит RMSE, время обучения и время предсказания."
   ]
  },
  {
   "cell_type": "code",
   "execution_count": 30,
   "metadata": {},
   "outputs": [
    {
     "name": "stdout",
     "output_type": "stream",
     "text": [
      "LinearRegression RMSE: 39898483004.6 | train time: 27.79 / rows: 170940 | predict time: 0.28 / rows: 56980\n"
     ]
    }
   ],
   "source": [
    "# LinearRegression\n",
    "model_lr = LinearRegression()\n",
    "train_model(model_lr, features_train_ohe, target_train, features_valid_ohe, target_valid, 'LinearRegression')"
   ]
  },
  {
   "cell_type": "markdown",
   "metadata": {},
   "source": [
    "Обучаем модель LinearRegression и выводим RMSE. Результат RMSE: 2941.2 - модель показывает плохой результат (больше 2500). Нужно пробовать другие модели."
   ]
  },
  {
   "cell_type": "code",
   "execution_count": 31,
   "metadata": {},
   "outputs": [],
   "source": [
    "# #  RandomForestRegressor with find best params with RandomizedSearchCV and show progress. Use all cores. Hide progress.\n",
    "# model = RandomForestRegressor()\n",
    "#\n",
    "# params = {\n",
    "#     'max_depth': range(10, 25, 2), # 14\n",
    "#     'n_estimators': range(1, 300, 50), # 400\n",
    "#     'min_samples_leaf': range(1, 10), # 1\n",
    "#     'min_samples_split': range(2, 10) # 2\n",
    "# }\n",
    "#\n",
    "# # params = {'max_depth': [14], 'min_samples_leaf': [1], 'min_samples_split': [2], 'n_estimators': [400]}\n",
    "#\n",
    "# search_rf = RandomizedSearchCV(model, params, n_iter=10, n_jobs=18, cv=3, verbose=1)\n",
    "# search_rf.fit(features_train_valid_oe, target_train_valid)\n",
    "# print('best params:', search_rf.best_params_)"
   ]
  },
  {
   "cell_type": "code",
   "execution_count": 32,
   "metadata": {},
   "outputs": [
    {
     "name": "stdout",
     "output_type": "stream",
     "text": [
      "RandomForestRegressor RMSE: 1749.9 | train time: 93.60 / rows: 170940 | predict time: 3.18 / rows: 56980\n"
     ]
    }
   ],
   "source": [
    "#  RandomForestRegressor with best params\n",
    "best_params_rfr = {'max_depth': 22, 'min_samples_leaf': 3, 'min_samples_split': 2, 'n_estimators': 201}\n",
    "model_rfr = RandomForestRegressor(**best_params_rfr)\n",
    "train_model(model_rfr, features_train_oe, target_train, features_valid_oe, target_valid, 'RandomForestRegressor')"
   ]
  },
  {
   "cell_type": "markdown",
   "metadata": {},
   "source": [
    "Обучаем модель RandomForestRegressor и выводим RMSE. Результат RMSE: 1742.8 - модель показывает хороший результат (меньше 2500). Но время обучения и предсказания очень большое. Нужно пробовать другие модели."
   ]
  },
  {
   "cell_type": "code",
   "execution_count": 33,
   "metadata": {},
   "outputs": [],
   "source": [
    "#  lightgbm with find best params with RandomizedSearchCV and show progress. Use all cores. Hide progress.\n",
    "# model = LGBMRegressor()\n",
    "#\n",
    "# params = {\n",
    "#     'max_depth': range(15, 30), # 14\n",
    "#     'num_leaves': range(65, 90), # 50\n",
    "#     'min_child_samples': range(30, 60), # 57\n",
    "#     'learning_rate': np.arange(0.1, 0.25, 0.01), #  0.2\n",
    "#     'n_estimators': range(350, 450, 10) # 400\n",
    "# }\n",
    "#\n",
    "# # params = {'num_leaves': [50], 'n_estimators': [400], 'min_child_samples': [57], 'max_depth': [16], 'learning_rate': [0.2]}\n",
    "# search_lgbm = RandomizedSearchCV(model, params, n_iter=10, n_jobs=-1, cv=3, verbose=1)\n",
    "# search_lgbm.fit(features_train_valid_oe, target_train_valid)\n",
    "# print('Best params:', search_lgbm.best_params_)"
   ]
  },
  {
   "cell_type": "markdown",
   "metadata": {},
   "source": [
    "Подбираем параметры для модели LGBMRegressor с помощью RandomizedSearchCV. Выводим лучшие параметры на экран."
   ]
  },
  {
   "cell_type": "code",
   "execution_count": 34,
   "metadata": {},
   "outputs": [
    {
     "name": "stdout",
     "output_type": "stream",
     "text": [
      "LGBMRegressor (OrdinalEncoder) RMSE: 1662.8 | train time: 22.89 / rows: 170940 | predict time: 2.30 / rows: 56980\n",
      "LGBMRegressor (OHE)            RMSE: 1657.2 | train time: 41.91 / rows: 170940 | predict time: 3.53 / rows: 56980\n"
     ]
    }
   ],
   "source": [
    "#safe model_lgbm in variable\n",
    "best_params_lgbm = {'num_leaves': 78, \n",
    "                    'n_estimators': 390, \n",
    "                    'min_child_samples': 50, \n",
    "                    'max_depth': 17, \n",
    "                    'learning_rate': 0.14}\n",
    "\n",
    "model_lgbm = LGBMRegressor(**best_params_lgbm)\n",
    "\n",
    "train_model(\n",
    "    model_lgbm, features_train_oe, target_train, features_valid_oe, target_valid,   'LGBMRegressor (OrdinalEncoder)')\n",
    "\n",
    "train_model(\n",
    "    model_lgbm, features_train_ohe, target_train, features_valid_ohe, target_valid, 'LGBMRegressor (OHE)           ')"
   ]
  },
  {
   "cell_type": "markdown",
   "metadata": {},
   "source": [
    "Обучаем модель LGBMRegressor на лучших параметрах. Выводим RMSE, время обучения и время предсказания для двух вариантов кодирования категориальных признаков. Модель показывает лучший результат, чем LinearRegression. Эти данные занесем в таблицу и сравним с результатами других моделей."
   ]
  },
  {
   "cell_type": "code",
   "execution_count": 35,
   "metadata": {},
   "outputs": [],
   "source": [
    "#  CatBoostRegressor with find best params with RandomizedSearchCV and show progress. Use all cores. Hide progress.\n",
    "# model = CatBoostRegressor(silent=True)\n",
    "#\n",
    "# params = {\n",
    "#     'learning_rate': np.arange(0.25, 0.36, 0.02), # 0.25\n",
    "#     'iterations': range(50, 301, 50), # 200\n",
    "#     'depth': range(5, 15, 1) # 12\n",
    "# }\n",
    "#\n",
    "# # params = {'learning_rate': [0.35], 'iterations': [190], 'depth': [13]}\n",
    "#\n",
    "# search_cbr = RandomizedSearchCV(model, params, n_iter=10, n_jobs=-1, cv=3, verbose=1)\n",
    "# search_cbr.fit(features_train_valid_oe, target_train_valid)\n",
    "# print('Best params:', search_cbr.best_params_)"
   ]
  },
  {
   "cell_type": "markdown",
   "metadata": {},
   "source": [
    "Подбираем параметры для модели CatBoostRegressor с помощью RandomizedSearchCV. Выводим лучшие параметры на экран."
   ]
  },
  {
   "cell_type": "code",
   "execution_count": 36,
   "metadata": {},
   "outputs": [
    {
     "name": "stdout",
     "output_type": "stream",
     "text": [
      "CatBoostRegressor (OrdinalEncoder) RMSE: 1690.6 | train time: 14.23 / rows: 170940 | predict time: 0.06 / rows: 56980\n",
      "CatBoostRegressor (OHE)            RMSE: 1673.4 | train time: 15.39 / rows: 170940 | predict time: 0.12 / rows: 56980\n"
     ]
    }
   ],
   "source": [
    "best_params_catboost = {'learning_rate': 0.27, 'iterations': 250, 'depth': 10}\n",
    "model_catboost = CatBoostRegressor(**best_params_catboost, silent=True)\n",
    "train_model(\n",
    "    model_catboost, \n",
    "    features_train_oe, target_train, features_valid_oe, target_valid,  \n",
    "    'CatBoostRegressor (OrdinalEncoder)'\n",
    ")\n",
    "\n",
    "train_model(\n",
    "    model_catboost, \n",
    "    features_train_ohe, target_train, features_valid_ohe, target_valid,\n",
    "    'CatBoostRegressor (OHE)           '\n",
    ")"
   ]
  },
  {
   "cell_type": "markdown",
   "metadata": {},
   "source": [
    "Обучаем модель CatBoostRegressor на лучших параметрах. Выводим RMSE, время обучения и время предсказания для двух вариантов кодирования категориальных признаков. Модель показывает похожий результат на LGBMRegressor. Эти данные занесем в таблицу и сравним с результатами других моделей."
   ]
  },
  {
   "cell_type": "markdown",
   "metadata": {},
   "source": [
    "\n",
    "| Model | RMSE       | Train time, sec | Train rows | Predict time, sec |  Valid rows |\n",
    "| --- |------------|-----------------| --- |-------------------|-------------|\n",
    "| LinearRegression | 2941.2     | **2.12**        | 170891 | 0.05              | 56964       |\n",
    "| RandomForestRegressor | 1749.9     | 84.70           | 170891 | 3.20              | 56964       |\n",
    "| LGBMRegressor (OrdinalEncoder) | **1662.8** | **2.26**        | 170891 | **0.17**          | 56964       |\n",
    "| LGBMRegressor (OHE) | **1657.2** | **3.23**        | 170891 | 0.46              | 56964       |\n",
    "| CatBoostRegressor (OrdinalEncoder) | 1690.6     | 6.78            | 170891 | **0.03**          | 56964       |\n",
    "| CatBoostRegressor (OHE) | 1673.4     | 7.65            | 170891 | **0.09**          | 56964       |\n",
    "\n",
    "*Железо: Xeon E5 2670 V3 3.1 Hz 12 cores|24 threads; 16Gb ddr4 2133 MHz | Ssd 2000 Mb/s"
   ]
  },
  {
   "cell_type": "markdown",
   "metadata": {},
   "source": [
    "Сравнение моделей показывает, что лучший результат показывает LGBMRegressor с порядковым кодированием категориальных признаков (OrdinalEncoder). Это позволяет сделать вывод, что порядковое кодирование категориальных признаков эффективнее, чем OHE. При этом время обучения и предсказания модели с порядковым кодированием категориальных признаков меньше, чем у модели с OHE.\n",
    "Время предсказания модели CatBoostRegressor значительно меньше, чем у LGBMRegressor. А вот время обучения наоборот сильно у CatBoost сильно больше, чем у LGBM. Если смотреть на RMSE, то модель LGBMRegressor показывает лучший результат. Поэтому, для дальнейшего тестирования модели, будем использовать LGBMRegressor с порядковым кодированием категориальных признаков. Данная модель имеет самые сбалансированные показатели."
   ]
  },
  {
   "cell_type": "markdown",
   "metadata": {},
   "source": [
    "## Тестирование лучшей модели"
   ]
  },
  {
   "cell_type": "code",
   "execution_count": 37,
   "metadata": {},
   "outputs": [
    {
     "name": "stdout",
     "output_type": "stream",
     "text": [
      "DummyRegressor RMSE: 4561.32\n"
     ]
    }
   ],
   "source": [
    "model = DummyRegressor()\n",
    "model.fit(features_train_oe, target_train)\n",
    "predictions = model.predict(features_test_oe)\n",
    "rmse = mean_squared_error(target_test, predictions) ** 0.5\n",
    "print(f'DummyRegressor RMSE: {rmse:.2f}')"
   ]
  },
  {
   "cell_type": "markdown",
   "metadata": {},
   "source": [
    "Для того чтобы понять, насколько хорошо работают наши модели, сравним их с DummyRegressor. Результат RMSE: 4561.32 - модель показывает плохой результат (больше 2500). Можно сказать: что наши модели работают сильно лучше, чем DummyRegressor."
   ]
  },
  {
   "cell_type": "code",
   "execution_count": 38,
   "metadata": {},
   "outputs": [
    {
     "name": "stdout",
     "output_type": "stream",
     "text": [
      "LGBMRegressor with OrdinalEncoder RMSE: 1655.67\n"
     ]
    }
   ],
   "source": [
    "# test LGBMRegressor with OrdinalEncoder on test data\n",
    "model_lgbm_oe = LGBMRegressor(**best_params_lgbm)\n",
    "model_lgbm_oe.fit(features_train_oe, target_train)\n",
    "predictions = model_lgbm_oe.predict(features_test_oe)\n",
    "rmse = mean_squared_error(target_test, predictions) ** 0.5\n",
    "print(f'LGBMRegressor with OrdinalEncoder RMSE: {rmse:.2f}')"
   ]
  },
  {
   "cell_type": "markdown",
   "metadata": {},
   "source": [
    "На тестовой выборке модель показывает себя так же хорошо, как и на валидационной выборке. RMSE: 1655.67. Можно сказать, что модель обучена хорошо и может быть использована для предсказания цены автомобиля."
   ]
  },
  {
   "cell_type": "code",
   "execution_count": 39,
   "metadata": {},
   "outputs": [],
   "source": [
    "# create pipeline function with StandardScaler for numerical columns and OrdinalEncoder for categorical columns.\n",
    "def create_pipeline(model, data):\n",
    "    if not isinstance(data, pd.DataFrame):\n",
    "        raise ValueError(\"Аргумент 'data' должен быть DataFrame.\")\n",
    "\n",
    "    num_columns = data.select_dtypes(include='number').columns.tolist()\n",
    "    cat_columns = data.select_dtypes(exclude='number').columns.tolist()\n",
    "\n",
    "    if len(num_columns) == 0:\n",
    "        raise ValueError(\"В данных отсутствуют числовые столбцы.\")\n",
    "    if len(cat_columns) == 0:\n",
    "        raise ValueError(\"В данных отсутствуют категориальные столбцы.\")\n",
    "\n",
    "    pipeline = Pipeline([\n",
    "        ('features', FeatureUnion([\n",
    "            ('num', Pipeline([\n",
    "                ('selector', ColumnSelector(columns=num_columns)),\n",
    "                ('scaler', StandardScaler())\n",
    "            ])),\n",
    "            ('cat', Pipeline([\n",
    "                ('selector', ColumnSelector(columns=cat_columns)),\n",
    "                ('encoder', OrdinalEncoder(handle_unknown='use_encoded_value', unknown_value=9999))\n",
    "            ]))\n",
    "        ])),\n",
    "        ('model', model)\n",
    "    ])\n",
    "    return pipeline\n",
    "\n",
    "\n",
    "# ColumnsSelector class for pipeline\n",
    "class ColumnSelector(BaseEstimator, TransformerMixin):\n",
    "    def __init__(self, columns):\n",
    "        self.columns = columns\n",
    "\n",
    "    def fit(self, X, y=None):\n",
    "        return self\n",
    "\n",
    "    def transform(self, X):\n",
    "        return X[self.columns]"
   ]
  },
  {
   "cell_type": "markdown",
   "metadata": {},
   "source": [
    "Создаем функцию для создания пайплайна. В пайплайн включаем StandardScaler для числовых столбцов и OrdinalEncoder для категориальных столбцов. Возвращаем пайплайн."
   ]
  },
  {
   "cell_type": "code",
   "execution_count": 40,
   "metadata": {},
   "outputs": [],
   "source": [
    "# use frunction to create pipeline for LGBMRegressor\n",
    "# pipeline_lgbm = create_pipeline(model_lgbm, data)\n",
    "# pipeline_catboost = create_pipeline(model_catboost, data)"
   ]
  },
  {
   "cell_type": "markdown",
   "metadata": {},
   "source": [
    "Создаем пайплайны для моделей LGBMRegressor и CatBoostRegressor."
   ]
  },
  {
   "cell_type": "code",
   "execution_count": 41,
   "metadata": {},
   "outputs": [],
   "source": [
    "# save pipeline to file\n",
    "# joblib.dump(pipeline_lgbm, 'pipeline_lgbm.pkl')\n",
    "# joblib.dump(pipeline_catboost, 'pipeline_catboost.pkl')"
   ]
  },
  {
   "cell_type": "markdown",
   "metadata": {},
   "source": [
    "Сохраняем пайплайны в файлы."
   ]
  },
  {
   "cell_type": "code",
   "execution_count": 42,
   "metadata": {},
   "outputs": [],
   "source": [
    " del model_lgbm, model_catboost, data, features, target, features_train, features_valid, features_test, target_train, target_valid, target_test, model_lgbm_oe, features_train_oe, features_valid_oe, features_test_oe, best_params_lgbm, best_params_catboost, predictions, rmse, model"
   ]
  },
  {
   "cell_type": "markdown",
   "metadata": {},
   "source": [
    "Удаляем ненужные переменные. Чтобы не занимать памяти."
   ]
  },
  {
   "cell_type": "markdown",
   "metadata": {},
   "source": [
    "## Вывод"
   ]
  },
  {
   "cell_type": "markdown",
   "metadata": {},
   "source": [
    "В данном исследование мы обучили модели для предсказания стоимости автомобиля. Мы провели предобработку данных, заполнили пропуски, удалили дубликаты, изменили типы данных, удалили выбросы, провели лемматизацию, создали новые признаки. После этого мы обучили несколько моделей, подобрали лучшие параметры с помощью RandomizedSearchCV, а также провели тестирование моделей на тестовой выборке. Были получены следующие результаты:\n",
    "\n",
    "----------------------------------------------------------------------------------------------------------------------------\n",
    "\n",
    "| Model | RMSE       | Train time, sec | Train rows | Predict time, sec |  Valid rows |\n",
    "| --- |------------|-----------------| --- |-------------------|-------------|\n",
    "| LinearRegression | 2941.2     | **2.12**        | 170891 | 0.05              | 56964       |\n",
    "| RandomForestRegressor | 1749.9     | 84.70           | 170891 | 3.20              | 56964       |\n",
    "| LGBMRegressor (OrdinalEncoder) | **1662.8** | **2.26**        | 170891 | **0.17**          | 56964       |\n",
    "| LGBMRegressor (OHE) | **1657.2** | **3.23**        | 170891 | 0.46              | 56964       |\n",
    "| CatBoostRegressor (OrdinalEncoder) | 1690.6     | 6.78            | 170891 | **0.03**          | 56964       |\n",
    "| CatBoostRegressor (OHE) | 1673.4     | 7.65            | 170891 | **0.09**          | 56964       |\n",
    "\n",
    "*Железо: Xeon E5 2670 V3 3.1 Hz 12 cores|24 threads; 16Gb ddr4 2133 MHz | Ssd 2000 Mb/s\n",
    "\n",
    "----------------------------------------------------------------------------------------------------------------------------\n",
    "\n",
    "Можно наблюдать, что модели CatBoost и LightGBM показывают почти одинаково хороший результат (меньше 2500). Модель LGBMRegressor обучается быстрее, чем модель CatBoostRegressor, но модель CatBoostRegressor предсказывает быстрее (почти моментально). Также, мы можем сказать, что модели работают сильно лучше, чем DummyRegressor, который показал RMSE: 4561.32 на тестовой выборке.\n",
    "\n",
    "**LGBMRegressor показал RMSE на тестовой выборке: 1655.67, что меньше, чем требуемый RMSE: 2500. Помимо этого, для нас важны показатели - время предсказания и время обучения. Время обучения и предсказания у LightGBM меньше, чем у модели CatBoostRegressor, а время предсказания остается невысоким при выборке метода OrdinalEncoder для кодирования категориальных признаков. При этом RMSE у модели LGBMRegressor также меньше, чем у модели CatBoostRegressor. Поэтому, мы можем сказать, что модель LGBMRegressor является наилучшей моделью для предсказания стоимости автомобиля, на наших данных.**"
   ]
  }
 ],
 "metadata": {
  "ExecuteTimeLog": [
   {
    "duration": 1556,
    "start_time": "2023-04-03T22:33:17.009Z"
   },
   {
    "duration": 5,
    "start_time": "2023-04-03T22:33:18.568Z"
   },
   {
    "duration": 3432,
    "start_time": "2023-04-03T22:33:18.575Z"
   },
   {
    "duration": 172,
    "start_time": "2023-04-03T22:33:22.010Z"
   },
   {
    "duration": 119,
    "start_time": "2023-04-03T22:33:22.183Z"
   },
   {
    "duration": 18,
    "start_time": "2023-04-03T22:33:22.304Z"
   },
   {
    "duration": 5,
    "start_time": "2023-04-03T22:33:22.325Z"
   },
   {
    "duration": 37,
    "start_time": "2023-04-03T22:33:22.331Z"
   },
   {
    "duration": 588,
    "start_time": "2023-04-03T22:33:22.371Z"
   },
   {
    "duration": 29,
    "start_time": "2023-04-03T22:33:22.962Z"
   },
   {
    "duration": 74,
    "start_time": "2023-04-03T22:33:22.993Z"
   },
   {
    "duration": 27,
    "start_time": "2023-04-03T22:33:23.069Z"
   },
   {
    "duration": 16,
    "start_time": "2023-04-03T22:33:23.098Z"
   },
   {
    "duration": 44,
    "start_time": "2023-04-03T22:33:23.116Z"
   },
   {
    "duration": 94,
    "start_time": "2023-04-03T22:33:23.161Z"
   },
   {
    "duration": 98,
    "start_time": "2023-04-03T22:33:23.257Z"
   },
   {
    "duration": 304,
    "start_time": "2023-04-03T22:33:23.357Z"
   },
   {
    "duration": 25,
    "start_time": "2023-04-03T22:33:23.663Z"
   },
   {
    "duration": 110,
    "start_time": "2023-04-03T22:33:23.691Z"
   },
   {
    "duration": 45,
    "start_time": "2023-04-03T22:33:23.807Z"
   },
   {
    "duration": 73,
    "start_time": "2023-04-03T22:33:23.854Z"
   },
   {
    "duration": 125,
    "start_time": "2023-04-03T22:33:23.929Z"
   },
   {
    "duration": 0,
    "start_time": "2023-04-03T22:33:24.056Z"
   },
   {
    "duration": 0,
    "start_time": "2023-04-03T22:33:24.057Z"
   },
   {
    "duration": 0,
    "start_time": "2023-04-03T22:33:24.058Z"
   },
   {
    "duration": 0,
    "start_time": "2023-04-03T22:33:24.059Z"
   },
   {
    "duration": 0,
    "start_time": "2023-04-03T22:33:24.060Z"
   },
   {
    "duration": 0,
    "start_time": "2023-04-03T22:33:24.061Z"
   },
   {
    "duration": 0,
    "start_time": "2023-04-03T22:33:24.062Z"
   },
   {
    "duration": 0,
    "start_time": "2023-04-03T22:33:24.064Z"
   },
   {
    "duration": 0,
    "start_time": "2023-04-03T22:33:24.065Z"
   },
   {
    "duration": 0,
    "start_time": "2023-04-03T22:33:24.066Z"
   },
   {
    "duration": 0,
    "start_time": "2023-04-03T22:33:24.087Z"
   },
   {
    "duration": 0,
    "start_time": "2023-04-03T22:33:24.088Z"
   },
   {
    "duration": 0,
    "start_time": "2023-04-03T22:33:24.089Z"
   },
   {
    "duration": 0,
    "start_time": "2023-04-03T22:33:24.090Z"
   },
   {
    "duration": 0,
    "start_time": "2023-04-03T22:33:24.091Z"
   },
   {
    "duration": 0,
    "start_time": "2023-04-03T22:33:24.092Z"
   },
   {
    "duration": 0,
    "start_time": "2023-04-03T22:33:24.092Z"
   },
   {
    "duration": 0,
    "start_time": "2023-04-03T22:33:24.093Z"
   },
   {
    "duration": 0,
    "start_time": "2023-04-03T22:33:24.098Z"
   },
   {
    "duration": 0,
    "start_time": "2023-04-03T22:33:24.100Z"
   },
   {
    "duration": 1476,
    "start_time": "2023-04-03T22:34:11.173Z"
   },
   {
    "duration": 4,
    "start_time": "2023-04-03T22:34:12.651Z"
   },
   {
    "duration": 979,
    "start_time": "2023-04-03T22:34:12.657Z"
   },
   {
    "duration": 172,
    "start_time": "2023-04-03T22:34:13.638Z"
   },
   {
    "duration": 124,
    "start_time": "2023-04-03T22:34:13.812Z"
   },
   {
    "duration": 19,
    "start_time": "2023-04-03T22:34:13.938Z"
   },
   {
    "duration": 7,
    "start_time": "2023-04-03T22:34:13.959Z"
   },
   {
    "duration": 45,
    "start_time": "2023-04-03T22:34:13.968Z"
   },
   {
    "duration": 548,
    "start_time": "2023-04-03T22:34:14.015Z"
   },
   {
    "duration": 30,
    "start_time": "2023-04-03T22:34:14.567Z"
   },
   {
    "duration": 62,
    "start_time": "2023-04-03T22:34:14.600Z"
   },
   {
    "duration": 31,
    "start_time": "2023-04-03T22:34:14.664Z"
   },
   {
    "duration": 15,
    "start_time": "2023-04-03T22:34:14.705Z"
   },
   {
    "duration": 58,
    "start_time": "2023-04-03T22:34:14.723Z"
   },
   {
    "duration": 100,
    "start_time": "2023-04-03T22:34:14.784Z"
   },
   {
    "duration": 89,
    "start_time": "2023-04-03T22:34:14.886Z"
   },
   {
    "duration": 331,
    "start_time": "2023-04-03T22:34:14.977Z"
   },
   {
    "duration": 14,
    "start_time": "2023-04-03T22:34:15.310Z"
   },
   {
    "duration": 96,
    "start_time": "2023-04-03T22:34:15.326Z"
   },
   {
    "duration": 34,
    "start_time": "2023-04-03T22:34:15.424Z"
   },
   {
    "duration": 83,
    "start_time": "2023-04-03T22:34:15.460Z"
   },
   {
    "duration": 359,
    "start_time": "2023-04-03T22:34:15.545Z"
   },
   {
    "duration": 0,
    "start_time": "2023-04-03T22:34:15.907Z"
   },
   {
    "duration": 0,
    "start_time": "2023-04-03T22:34:15.909Z"
   },
   {
    "duration": 0,
    "start_time": "2023-04-03T22:34:15.910Z"
   },
   {
    "duration": 0,
    "start_time": "2023-04-03T22:34:15.912Z"
   },
   {
    "duration": 0,
    "start_time": "2023-04-03T22:34:15.913Z"
   },
   {
    "duration": 0,
    "start_time": "2023-04-03T22:34:15.915Z"
   },
   {
    "duration": 0,
    "start_time": "2023-04-03T22:34:15.917Z"
   },
   {
    "duration": 0,
    "start_time": "2023-04-03T22:34:15.919Z"
   },
   {
    "duration": 0,
    "start_time": "2023-04-03T22:34:15.921Z"
   },
   {
    "duration": 0,
    "start_time": "2023-04-03T22:34:15.922Z"
   },
   {
    "duration": 0,
    "start_time": "2023-04-03T22:34:15.924Z"
   },
   {
    "duration": 0,
    "start_time": "2023-04-03T22:34:15.926Z"
   },
   {
    "duration": 0,
    "start_time": "2023-04-03T22:34:15.927Z"
   },
   {
    "duration": 0,
    "start_time": "2023-04-03T22:34:15.928Z"
   },
   {
    "duration": 0,
    "start_time": "2023-04-03T22:34:15.929Z"
   },
   {
    "duration": 0,
    "start_time": "2023-04-03T22:34:15.930Z"
   },
   {
    "duration": 0,
    "start_time": "2023-04-03T22:34:15.931Z"
   },
   {
    "duration": 0,
    "start_time": "2023-04-03T22:34:15.932Z"
   },
   {
    "duration": 0,
    "start_time": "2023-04-03T22:34:15.934Z"
   },
   {
    "duration": 0,
    "start_time": "2023-04-03T22:34:15.936Z"
   },
   {
    "duration": 24,
    "start_time": "2023-04-03T22:34:36.212Z"
   },
   {
    "duration": 219,
    "start_time": "2023-04-03T22:34:58.563Z"
   },
   {
    "duration": 1340,
    "start_time": "2023-04-03T22:37:59.112Z"
   },
   {
    "duration": 271,
    "start_time": "2023-04-03T22:38:42.500Z"
   },
   {
    "duration": 430,
    "start_time": "2023-04-03T22:39:00.089Z"
   },
   {
    "duration": 394,
    "start_time": "2023-04-03T22:39:08.664Z"
   },
   {
    "duration": 520,
    "start_time": "2023-04-03T22:39:19.213Z"
   },
   {
    "duration": 1344,
    "start_time": "2023-04-03T22:39:27.616Z"
   },
   {
    "duration": 4,
    "start_time": "2023-04-03T22:39:28.962Z"
   },
   {
    "duration": 997,
    "start_time": "2023-04-03T22:39:28.967Z"
   },
   {
    "duration": 178,
    "start_time": "2023-04-03T22:39:29.966Z"
   },
   {
    "duration": 126,
    "start_time": "2023-04-03T22:39:30.146Z"
   },
   {
    "duration": 33,
    "start_time": "2023-04-03T22:39:30.274Z"
   },
   {
    "duration": 22,
    "start_time": "2023-04-03T22:39:30.308Z"
   },
   {
    "duration": 70,
    "start_time": "2023-04-03T22:39:30.331Z"
   },
   {
    "duration": 657,
    "start_time": "2023-04-03T22:39:30.407Z"
   },
   {
    "duration": 26,
    "start_time": "2023-04-03T22:39:31.067Z"
   },
   {
    "duration": 93,
    "start_time": "2023-04-03T22:39:31.099Z"
   },
   {
    "duration": 16,
    "start_time": "2023-04-03T22:39:31.197Z"
   },
   {
    "duration": 33,
    "start_time": "2023-04-03T22:39:31.215Z"
   },
   {
    "duration": 68,
    "start_time": "2023-04-03T22:39:31.250Z"
   },
   {
    "duration": 93,
    "start_time": "2023-04-03T22:39:31.320Z"
   },
   {
    "duration": 95,
    "start_time": "2023-04-03T22:39:31.415Z"
   },
   {
    "duration": 294,
    "start_time": "2023-04-03T22:39:31.512Z"
   },
   {
    "duration": 14,
    "start_time": "2023-04-03T22:39:31.808Z"
   },
   {
    "duration": 511,
    "start_time": "2023-04-03T22:39:31.824Z"
   },
   {
    "duration": 36,
    "start_time": "2023-04-03T22:39:32.336Z"
   },
   {
    "duration": 89,
    "start_time": "2023-04-03T22:39:32.373Z"
   },
   {
    "duration": 335,
    "start_time": "2023-04-03T22:39:32.464Z"
   },
   {
    "duration": 0,
    "start_time": "2023-04-03T22:39:32.806Z"
   },
   {
    "duration": 0,
    "start_time": "2023-04-03T22:39:32.808Z"
   },
   {
    "duration": 0,
    "start_time": "2023-04-03T22:39:32.810Z"
   },
   {
    "duration": 0,
    "start_time": "2023-04-03T22:39:32.811Z"
   },
   {
    "duration": 0,
    "start_time": "2023-04-03T22:39:32.813Z"
   },
   {
    "duration": 0,
    "start_time": "2023-04-03T22:39:32.814Z"
   },
   {
    "duration": 0,
    "start_time": "2023-04-03T22:39:32.816Z"
   },
   {
    "duration": 0,
    "start_time": "2023-04-03T22:39:32.817Z"
   },
   {
    "duration": 0,
    "start_time": "2023-04-03T22:39:32.818Z"
   },
   {
    "duration": 0,
    "start_time": "2023-04-03T22:39:32.820Z"
   },
   {
    "duration": 0,
    "start_time": "2023-04-03T22:39:32.821Z"
   },
   {
    "duration": 0,
    "start_time": "2023-04-03T22:39:32.822Z"
   },
   {
    "duration": 0,
    "start_time": "2023-04-03T22:39:32.824Z"
   },
   {
    "duration": 0,
    "start_time": "2023-04-03T22:39:32.825Z"
   },
   {
    "duration": 0,
    "start_time": "2023-04-03T22:39:32.827Z"
   },
   {
    "duration": 0,
    "start_time": "2023-04-03T22:39:32.828Z"
   },
   {
    "duration": 0,
    "start_time": "2023-04-03T22:39:32.829Z"
   },
   {
    "duration": 0,
    "start_time": "2023-04-03T22:39:32.830Z"
   },
   {
    "duration": 0,
    "start_time": "2023-04-03T22:39:32.832Z"
   },
   {
    "duration": 0,
    "start_time": "2023-04-03T22:39:32.833Z"
   },
   {
    "duration": 2242,
    "start_time": "2023-04-03T22:42:14.742Z"
   },
   {
    "duration": 0,
    "start_time": "2023-04-03T22:42:16.986Z"
   },
   {
    "duration": 2329,
    "start_time": "2023-04-03T22:42:28.741Z"
   },
   {
    "duration": 28,
    "start_time": "2023-04-03T22:44:22.578Z"
   },
   {
    "duration": 2283,
    "start_time": "2023-04-03T22:44:27.841Z"
   },
   {
    "duration": 19,
    "start_time": "2023-04-03T22:44:37.942Z"
   },
   {
    "duration": 2464,
    "start_time": "2023-04-03T22:45:39.243Z"
   },
   {
    "duration": 681,
    "start_time": "2023-04-03T22:45:45.699Z"
   },
   {
    "duration": 4691,
    "start_time": "2023-04-03T22:45:47.442Z"
   },
   {
    "duration": 6,
    "start_time": "2023-04-03T22:45:55.473Z"
   },
   {
    "duration": 28,
    "start_time": "2023-04-03T22:45:55.536Z"
   },
   {
    "duration": 32,
    "start_time": "2023-04-03T22:45:55.573Z"
   },
   {
    "duration": 3,
    "start_time": "2023-04-03T22:45:55.663Z"
   },
   {
    "duration": 4,
    "start_time": "2023-04-03T22:45:55.827Z"
   },
   {
    "duration": 42799,
    "start_time": "2023-04-03T22:45:55.900Z"
   },
   {
    "duration": 5,
    "start_time": "2023-04-03T22:46:38.702Z"
   },
   {
    "duration": 99053,
    "start_time": "2023-04-03T22:46:38.709Z"
   },
   {
    "duration": 3,
    "start_time": "2023-04-03T22:48:17.764Z"
   },
   {
    "duration": 1524,
    "start_time": "2023-04-03T23:00:02.307Z"
   },
   {
    "duration": 4,
    "start_time": "2023-04-03T23:00:03.833Z"
   },
   {
    "duration": 1016,
    "start_time": "2023-04-03T23:00:03.838Z"
   },
   {
    "duration": 166,
    "start_time": "2023-04-03T23:00:04.856Z"
   },
   {
    "duration": 162,
    "start_time": "2023-04-03T23:00:05.024Z"
   },
   {
    "duration": 31,
    "start_time": "2023-04-03T23:00:05.187Z"
   },
   {
    "duration": 9,
    "start_time": "2023-04-03T23:00:05.220Z"
   },
   {
    "duration": 29,
    "start_time": "2023-04-03T23:00:05.230Z"
   },
   {
    "duration": 562,
    "start_time": "2023-04-03T23:00:05.261Z"
   },
   {
    "duration": 17,
    "start_time": "2023-04-03T23:00:05.826Z"
   },
   {
    "duration": 75,
    "start_time": "2023-04-03T23:00:05.844Z"
   },
   {
    "duration": 125,
    "start_time": "2023-04-03T23:00:05.921Z"
   },
   {
    "duration": 25,
    "start_time": "2023-04-03T23:00:06.048Z"
   },
   {
    "duration": 54,
    "start_time": "2023-04-03T23:00:06.074Z"
   },
   {
    "duration": 80,
    "start_time": "2023-04-03T23:00:06.130Z"
   },
   {
    "duration": 100,
    "start_time": "2023-04-03T23:00:06.214Z"
   },
   {
    "duration": 331,
    "start_time": "2023-04-03T23:00:06.316Z"
   },
   {
    "duration": 13,
    "start_time": "2023-04-03T23:00:06.649Z"
   },
   {
    "duration": 601,
    "start_time": "2023-04-03T23:00:06.664Z"
   },
   {
    "duration": 43,
    "start_time": "2023-04-03T23:00:07.267Z"
   },
   {
    "duration": 92,
    "start_time": "2023-04-03T23:00:07.311Z"
   },
   {
    "duration": 2459,
    "start_time": "2023-04-03T23:00:07.412Z"
   },
   {
    "duration": 834,
    "start_time": "2023-04-03T23:00:09.873Z"
   },
   {
    "duration": 5006,
    "start_time": "2023-04-03T23:00:10.715Z"
   },
   {
    "duration": 5,
    "start_time": "2023-04-03T23:00:15.723Z"
   },
   {
    "duration": 29,
    "start_time": "2023-04-03T23:00:15.730Z"
   },
   {
    "duration": 25,
    "start_time": "2023-04-03T23:00:15.761Z"
   },
   {
    "duration": 26,
    "start_time": "2023-04-03T23:00:15.790Z"
   },
   {
    "duration": 7,
    "start_time": "2023-04-03T23:00:15.818Z"
   },
   {
    "duration": 37860,
    "start_time": "2023-04-03T23:00:15.827Z"
   },
   {
    "duration": 8,
    "start_time": "2023-04-03T23:00:53.690Z"
   },
   {
    "duration": 98747,
    "start_time": "2023-04-03T23:00:53.703Z"
   },
   {
    "duration": 2,
    "start_time": "2023-04-03T23:02:32.452Z"
   },
   {
    "duration": 1340,
    "start_time": "2023-04-04T09:40:57.033Z"
   },
   {
    "duration": 5,
    "start_time": "2023-04-04T09:40:58.375Z"
   },
   {
    "duration": 3232,
    "start_time": "2023-04-04T09:40:58.381Z"
   },
   {
    "duration": 148,
    "start_time": "2023-04-04T09:41:01.615Z"
   },
   {
    "duration": 114,
    "start_time": "2023-04-04T09:41:01.765Z"
   },
   {
    "duration": 14,
    "start_time": "2023-04-04T09:41:01.881Z"
   },
   {
    "duration": 43,
    "start_time": "2023-04-04T09:41:01.897Z"
   },
   {
    "duration": 73,
    "start_time": "2023-04-04T09:41:01.941Z"
   },
   {
    "duration": 510,
    "start_time": "2023-04-04T09:41:02.016Z"
   },
   {
    "duration": 16,
    "start_time": "2023-04-04T09:41:02.529Z"
   },
   {
    "duration": 73,
    "start_time": "2023-04-04T09:41:02.547Z"
   },
   {
    "duration": 13,
    "start_time": "2023-04-04T09:41:02.621Z"
   },
   {
    "duration": 46,
    "start_time": "2023-04-04T09:41:02.636Z"
   },
   {
    "duration": 68,
    "start_time": "2023-04-04T09:41:02.683Z"
   },
   {
    "duration": 105,
    "start_time": "2023-04-04T09:41:02.753Z"
   },
   {
    "duration": 74,
    "start_time": "2023-04-04T09:41:02.860Z"
   },
   {
    "duration": 272,
    "start_time": "2023-04-04T09:41:02.936Z"
   },
   {
    "duration": 14,
    "start_time": "2023-04-04T09:41:03.211Z"
   },
   {
    "duration": 463,
    "start_time": "2023-04-04T09:41:03.227Z"
   },
   {
    "duration": 35,
    "start_time": "2023-04-04T09:41:03.691Z"
   },
   {
    "duration": 88,
    "start_time": "2023-04-04T09:41:03.728Z"
   },
   {
    "duration": 2224,
    "start_time": "2023-04-04T09:41:03.818Z"
   },
   {
    "duration": 689,
    "start_time": "2023-04-04T09:41:06.043Z"
   },
   {
    "duration": 3839,
    "start_time": "2023-04-04T09:41:06.734Z"
   },
   {
    "duration": 6,
    "start_time": "2023-04-04T09:41:10.575Z"
   },
   {
    "duration": 53,
    "start_time": "2023-04-04T09:41:10.588Z"
   },
   {
    "duration": 43,
    "start_time": "2023-04-04T09:41:10.643Z"
   },
   {
    "duration": 12,
    "start_time": "2023-04-04T09:41:10.689Z"
   },
   {
    "duration": 15,
    "start_time": "2023-04-04T09:41:10.703Z"
   },
   {
    "duration": 19878,
    "start_time": "2023-04-04T09:41:10.720Z"
   },
   {
    "duration": 4,
    "start_time": "2023-04-04T09:41:30.688Z"
   },
   {
    "duration": 92855,
    "start_time": "2023-04-04T09:41:30.695Z"
   },
   {
    "duration": 3,
    "start_time": "2023-04-04T09:43:03.551Z"
   },
   {
    "duration": 110567,
    "start_time": "2023-04-04T09:43:03.556Z"
   },
   {
    "duration": 63,
    "start_time": "2023-04-04T09:44:54.125Z"
   },
   {
    "duration": 29704,
    "start_time": "2023-04-04T09:44:54.190Z"
   },
   {
    "duration": 6,
    "start_time": "2023-04-04T09:45:23.896Z"
   },
   {
    "duration": 32007,
    "start_time": "2023-04-04T09:45:23.903Z"
   },
   {
    "duration": 6,
    "start_time": "2023-04-04T09:45:55.911Z"
   },
   {
    "duration": 10,
    "start_time": "2023-04-04T09:45:55.919Z"
   },
   {
    "duration": 12,
    "start_time": "2023-04-04T09:45:55.931Z"
   },
   {
    "duration": 52,
    "start_time": "2023-04-04T09:45:55.944Z"
   },
   {
    "duration": 1419,
    "start_time": "2023-04-04T09:57:37.549Z"
   },
   {
    "duration": 4,
    "start_time": "2023-04-04T09:57:38.970Z"
   },
   {
    "duration": 899,
    "start_time": "2023-04-04T09:57:38.975Z"
   },
   {
    "duration": 149,
    "start_time": "2023-04-04T09:57:39.876Z"
   },
   {
    "duration": 136,
    "start_time": "2023-04-04T09:57:40.027Z"
   },
   {
    "duration": 24,
    "start_time": "2023-04-04T09:57:40.164Z"
   },
   {
    "duration": 14,
    "start_time": "2023-04-04T09:57:40.189Z"
   },
   {
    "duration": 43,
    "start_time": "2023-04-04T09:57:40.204Z"
   },
   {
    "duration": 574,
    "start_time": "2023-04-04T09:57:40.249Z"
   },
   {
    "duration": 17,
    "start_time": "2023-04-04T09:57:40.826Z"
   },
   {
    "duration": 76,
    "start_time": "2023-04-04T09:57:40.845Z"
   },
   {
    "duration": 14,
    "start_time": "2023-04-04T09:57:40.923Z"
   },
   {
    "duration": 20,
    "start_time": "2023-04-04T09:57:40.939Z"
   },
   {
    "duration": 58,
    "start_time": "2023-04-04T09:57:40.961Z"
   },
   {
    "duration": 84,
    "start_time": "2023-04-04T09:57:41.020Z"
   },
   {
    "duration": 86,
    "start_time": "2023-04-04T09:57:41.106Z"
   },
   {
    "duration": 286,
    "start_time": "2023-04-04T09:57:41.194Z"
   },
   {
    "duration": 14,
    "start_time": "2023-04-04T09:57:41.486Z"
   },
   {
    "duration": 491,
    "start_time": "2023-04-04T09:57:41.502Z"
   },
   {
    "duration": 36,
    "start_time": "2023-04-04T09:57:41.995Z"
   },
   {
    "duration": 88,
    "start_time": "2023-04-04T09:57:42.033Z"
   },
   {
    "duration": 2234,
    "start_time": "2023-04-04T09:57:42.122Z"
   },
   {
    "duration": 633,
    "start_time": "2023-04-04T09:57:44.358Z"
   },
   {
    "duration": 3982,
    "start_time": "2023-04-04T09:57:44.993Z"
   },
   {
    "duration": 5,
    "start_time": "2023-04-04T09:57:48.977Z"
   },
   {
    "duration": 32,
    "start_time": "2023-04-04T09:57:48.987Z"
   },
   {
    "duration": 23,
    "start_time": "2023-04-04T09:57:49.021Z"
   },
   {
    "duration": 6,
    "start_time": "2023-04-04T09:57:49.047Z"
   },
   {
    "duration": 14,
    "start_time": "2023-04-04T09:57:49.055Z"
   },
   {
    "duration": 16516,
    "start_time": "2023-04-04T09:57:49.071Z"
   },
   {
    "duration": 94,
    "start_time": "2023-04-04T09:58:05.594Z"
   },
   {
    "duration": 90095,
    "start_time": "2023-04-04T09:58:05.689Z"
   },
   {
    "duration": 5,
    "start_time": "2023-04-04T09:59:35.786Z"
   },
   {
    "duration": 59839,
    "start_time": "2023-04-04T09:59:35.792Z"
   },
   {
    "duration": 54,
    "start_time": "2023-04-04T10:00:35.633Z"
   },
   {
    "duration": 30965,
    "start_time": "2023-04-04T10:00:35.689Z"
   },
   {
    "duration": 5,
    "start_time": "2023-04-04T10:01:06.656Z"
   },
   {
    "duration": 23944,
    "start_time": "2023-04-04T10:01:06.662Z"
   },
   {
    "duration": 7,
    "start_time": "2023-04-04T10:01:30.608Z"
   },
   {
    "duration": 47,
    "start_time": "2023-04-04T10:01:30.617Z"
   },
   {
    "duration": 40,
    "start_time": "2023-04-04T10:01:30.667Z"
   },
   {
    "duration": 49,
    "start_time": "2023-04-04T10:01:30.710Z"
   },
   {
    "duration": 1503,
    "start_time": "2023-04-04T11:49:38.843Z"
   },
   {
    "duration": 3,
    "start_time": "2023-04-04T11:49:40.348Z"
   },
   {
    "duration": 1044,
    "start_time": "2023-04-04T11:49:40.353Z"
   },
   {
    "duration": 166,
    "start_time": "2023-04-04T11:49:41.401Z"
   },
   {
    "duration": 127,
    "start_time": "2023-04-04T11:49:41.569Z"
   },
   {
    "duration": 14,
    "start_time": "2023-04-04T11:49:41.698Z"
   },
   {
    "duration": 14,
    "start_time": "2023-04-04T11:49:41.714Z"
   },
   {
    "duration": 32,
    "start_time": "2023-04-04T11:49:41.731Z"
   },
   {
    "duration": 539,
    "start_time": "2023-04-04T11:49:41.765Z"
   },
   {
    "duration": 18,
    "start_time": "2023-04-04T11:49:42.308Z"
   },
   {
    "duration": 84,
    "start_time": "2023-04-04T11:49:42.327Z"
   },
   {
    "duration": 14,
    "start_time": "2023-04-04T11:49:42.413Z"
   },
   {
    "duration": 15,
    "start_time": "2023-04-04T11:49:42.429Z"
   },
   {
    "duration": 76,
    "start_time": "2023-04-04T11:49:42.446Z"
   },
   {
    "duration": 87,
    "start_time": "2023-04-04T11:49:42.523Z"
   },
   {
    "duration": 93,
    "start_time": "2023-04-04T11:49:42.612Z"
   },
   {
    "duration": 344,
    "start_time": "2023-04-04T11:49:42.707Z"
   },
   {
    "duration": 14,
    "start_time": "2023-04-04T11:49:43.053Z"
   },
   {
    "duration": 535,
    "start_time": "2023-04-04T11:49:43.069Z"
   },
   {
    "duration": 37,
    "start_time": "2023-04-04T11:49:43.605Z"
   },
   {
    "duration": 98,
    "start_time": "2023-04-04T11:49:43.644Z"
   },
   {
    "duration": 2416,
    "start_time": "2023-04-04T11:49:43.743Z"
   },
   {
    "duration": 750,
    "start_time": "2023-04-04T11:49:46.162Z"
   },
   {
    "duration": 5757,
    "start_time": "2023-04-04T11:49:46.914Z"
   },
   {
    "duration": 5,
    "start_time": "2023-04-04T11:49:52.672Z"
   },
   {
    "duration": 38,
    "start_time": "2023-04-04T11:49:52.688Z"
   },
   {
    "duration": 93,
    "start_time": "2023-04-04T11:49:52.728Z"
   },
   {
    "duration": 24,
    "start_time": "2023-04-04T11:49:52.826Z"
   },
   {
    "duration": 26,
    "start_time": "2023-04-04T11:49:52.852Z"
   },
   {
    "duration": 28115,
    "start_time": "2023-04-04T11:49:52.880Z"
   },
   {
    "duration": 4,
    "start_time": "2023-04-04T11:50:20.997Z"
   },
   {
    "duration": 96881,
    "start_time": "2023-04-04T11:50:21.003Z"
   },
   {
    "duration": 3,
    "start_time": "2023-04-04T11:51:57.886Z"
   },
   {
    "duration": 70697,
    "start_time": "2023-04-04T11:51:57.891Z"
   },
   {
    "duration": 2,
    "start_time": "2023-04-04T11:53:08.590Z"
   },
   {
    "duration": 29807,
    "start_time": "2023-04-04T11:53:08.594Z"
   },
   {
    "duration": 5,
    "start_time": "2023-04-04T11:53:38.403Z"
   },
   {
    "duration": 24998,
    "start_time": "2023-04-04T11:53:38.410Z"
   },
   {
    "duration": 5,
    "start_time": "2023-04-04T11:54:03.410Z"
   },
   {
    "duration": 9,
    "start_time": "2023-04-04T11:54:03.417Z"
   },
   {
    "duration": 6,
    "start_time": "2023-04-04T11:54:03.428Z"
   },
   {
    "duration": 15,
    "start_time": "2023-04-04T11:54:03.435Z"
   }
  ],
  "kernelspec": {
   "display_name": "Python 3 (ipykernel)",
   "language": "python",
   "name": "python3"
  },
  "language_info": {
   "codemirror_mode": {
    "name": "ipython",
    "version": 3
   },
   "file_extension": ".py",
   "mimetype": "text/x-python",
   "name": "python",
   "nbconvert_exporter": "python",
   "pygments_lexer": "ipython3",
   "version": "3.9.5"
  },
  "toc": {
   "base_numbering": 1,
   "nav_menu": {},
   "number_sections": true,
   "sideBar": true,
   "skip_h1_title": true,
   "title_cell": "Table of Contents",
   "title_sidebar": "Contents",
   "toc_cell": false,
   "toc_position": {},
   "toc_section_display": true,
   "toc_window_display": false
  }
 },
 "nbformat": 4,
 "nbformat_minor": 2
}
